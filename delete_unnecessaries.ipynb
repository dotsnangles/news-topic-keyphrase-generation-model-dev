{
 "cells": [
  {
   "cell_type": "code",
   "execution_count": null,
   "metadata": {},
   "outputs": [],
   "source": [
    "import os"
   ]
  },
  {
   "cell_type": "code",
   "execution_count": null,
   "metadata": {},
   "outputs": [],
   "source": [
    "output_dir = ''"
   ]
  },
  {
   "cell_type": "code",
   "execution_count": null,
   "metadata": {},
   "outputs": [],
   "source": [
    "# Delete Unnecessaries\n",
    "keep = [\n",
    "    \"added_tokens.json\",\n",
    "    \"config.json\",\n",
    "    \"pytorch_model.bin\",\n",
    "    \"special_tokens_map.json\",\n",
    "    \"tokenizer_config.json\",\n",
    "    \"tokenizer.json\",\n",
    "    \"vocab.txt\",\n",
    "    \"adapter_config.json\",\n",
    "    \"adapter_model.bin\",\n",
    "]\n",
    "\n",
    "ckpts = os.listdir(output_dir)\n",
    "ckpts = [ckpt for ckpt in ckpts if ckpt not in keep]\n",
    "for ckpt in ckpts:\n",
    "    ckpt = os.path.join(output_dir, ckpt)\n",
    "    for item in os.listdir(ckpt):\n",
    "        if item not in keep:\n",
    "            os.remove(os.path.join(ckpt, item))"
   ]
  }
 ],
 "metadata": {
  "language_info": {
   "name": "python"
  },
  "orig_nbformat": 4
 },
 "nbformat": 4,
 "nbformat_minor": 2
}
