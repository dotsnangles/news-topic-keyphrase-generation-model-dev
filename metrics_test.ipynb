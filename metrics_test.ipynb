{
 "cells": [
  {
   "cell_type": "code",
   "execution_count": 1,
   "metadata": {},
   "outputs": [],
   "source": [
    "def f1_score_at_k(label, prediction, k):\n",
    "    true_positives = 0\n",
    "    false_positives = 0\n",
    "    false_negatives = 0\n",
    "    \n",
    "    # convert label and prediction strings to sets of key-phrases\n",
    "    label_lst = [key_phrase.strip() for key_phrase in label.split(';') if key_phrase != '']\n",
    "    label_lst = [key_phrase for key_phrase in label_lst if key_phrase != '']\n",
    "    label_set = set(label_lst)\n",
    "    print(f'label_set: {label_set}')\n",
    "    \n",
    "    # split the predicted key-phrases and their scores\n",
    "    prediction_lst = [key_phrase.strip() for key_phrase in prediction.split(';') if key_phrase != '']\n",
    "    prediction_lst = [key_phrase for key_phrase in prediction_lst if key_phrase != ''][:k]\n",
    "    prediction_set = set(prediction_lst)\n",
    "    # prediction_set = set(p[0] for p in predictions[:k])\n",
    "    print(f'prediction_set: {prediction_set}')\n",
    "    \n",
    "    # calculate true positives, false positives, and false negatives\n",
    "    for keyphrase in prediction_set:\n",
    "        if keyphrase in label_set:\n",
    "            true_positives += 1\n",
    "        else:\n",
    "            false_positives += 1\n",
    "    \n",
    "    for keyphrase in label_set:\n",
    "        if keyphrase not in prediction_set:\n",
    "            false_negatives += 1\n",
    "    \n",
    "    print(f'true_positives: {true_positives}')    \n",
    "    print(f'false_positives: {false_positives}')\n",
    "    print(f'false_negatives: {false_negatives}')\n",
    "\n",
    "    # calculate precision, recall, and F1 score\n",
    "    precision = true_positives / (true_positives + false_positives)\n",
    "    recall = true_positives / (true_positives + false_negatives)\n",
    "    \n",
    "    if precision == 0 or recall == 0:\n",
    "        return 0\n",
    "    \n",
    "    f1_score = 2 * (precision * recall) / (precision + recall)\n",
    "    \n",
    "    return f1_score"
   ]
  },
  {
   "cell_type": "code",
   "execution_count": 2,
   "metadata": {},
   "outputs": [],
   "source": [
    "label = ';김민재; 나폴리; 챔피언스리그; 이탈리아 클럽; AC 밀란;;; 인터 밀란; 8강 진출; 선발 출전; 후반 추가골; 피오트르 지엘린스키;'\n",
    "prediction = ';홀란드; 캐피탈; 분데스리가; 이탈리아; AC 밀란;;;; 인터 밀란; 8강 진출; 선발 출전; 후반 추가골; 피오트르 지엘린스키; 크앙크앙;'\n",
    "prediction = ';김민재; 나폴리; 챔피언스리그; 이탈리아 클럽; AC 밀란; 인터 밀란; 8강 진출; 선발 출전; 후반 추가골; 피오트르 지엘린스키; 크앙크앙; 짜장면'"
   ]
  },
  {
   "cell_type": "code",
   "execution_count": 5,
   "metadata": {},
   "outputs": [
    {
     "name": "stdout",
     "output_type": "stream",
     "text": [
      "label_set: {'AC 밀란', '피오트르 지엘린스키', '김민재', '선발 출전', '이탈리아 클럽', '후반 추가골', '나폴리', '챔피언스리그', '인터 밀란', '8강 진출'}\n",
      "prediction_set: {'짜장면', 'AC 밀란', '피오트르 지엘린스키', '크앙크앙', '김민재', '선발 출전', '이탈리아 클럽', '후반 추가골', '나폴리', '챔피언스리그', '인터 밀란', '8강 진출'}\n",
      "true_positives: 10\n",
      "false_positives: 2\n",
      "false_negatives: 0\n"
     ]
    },
    {
     "data": {
      "text/plain": [
       "0.9090909090909091"
      ]
     },
     "execution_count": 5,
     "metadata": {},
     "output_type": "execute_result"
    }
   ],
   "source": [
    "f1_score_at_k(label, prediction, 30)"
   ]
  },
  {
   "cell_type": "code",
   "execution_count": 4,
   "metadata": {},
   "outputs": [
    {
     "name": "stdout",
     "output_type": "stream",
     "text": [
      "label_set: {'AC 밀란', '피오트르 지엘린스키', '김민재', '선발 출전', '이탈리아 클럽', '후반 추가골', '나폴리', '챔피언스리그', '인터 밀란', '8강 진출'}\n",
      "prediction_set: {'AC 밀란', '김민재', '이탈리아 클럽', '나폴리', '챔피언스리그'}\n",
      "true_positives: 5\n",
      "false_positives: 0\n",
      "false_negatives: 5\n"
     ]
    },
    {
     "data": {
      "text/plain": [
       "0.6666666666666666"
      ]
     },
     "execution_count": 4,
     "metadata": {},
     "output_type": "execute_result"
    }
   ],
   "source": [
    "f1_score_at_k(label, prediction, 5)"
   ]
  },
  {
   "cell_type": "code",
   "execution_count": null,
   "metadata": {},
   "outputs": [],
   "source": []
  }
 ],
 "metadata": {
  "kernelspec": {
   "display_name": ".venv",
   "language": "python",
   "name": "python3"
  },
  "language_info": {
   "codemirror_mode": {
    "name": "ipython",
    "version": 3
   },
   "file_extension": ".py",
   "mimetype": "text/x-python",
   "name": "python",
   "nbconvert_exporter": "python",
   "pygments_lexer": "ipython3",
   "version": "3.9.16"
  },
  "orig_nbformat": 4
 },
 "nbformat": 4,
 "nbformat_minor": 2
}
