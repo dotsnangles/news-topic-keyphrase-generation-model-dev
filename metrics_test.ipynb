{
 "cells": [
  {
   "cell_type": "code",
   "execution_count": 1,
   "metadata": {},
   "outputs": [],
   "source": [
    "def f1_score_at_k(label, prediction, k):\n",
    "    true_positives = 0\n",
    "    false_positives = 0\n",
    "    false_negatives = 0\n",
    "    \n",
    "    # convert label and prediction strings to sets of key-phrases\n",
    "    label_lst = [key_phrase.strip() for key_phrase in label.split(';') if key_phrase != '']\n",
    "    label_lst = [key_phrase for key_phrase in label_lst if key_phrase != '']\n",
    "    label_set = set(label_lst)\n",
    "    print(f'label_set: {label_set}')\n",
    "    \n",
    "    # split the predicted key-phrases and their scores\n",
    "    prediction_lst = [key_phrase.strip() for key_phrase in prediction.split(';') if key_phrase != '']\n",
    "    prediction_lst = [key_phrase for key_phrase in prediction_lst if key_phrase != ''][:k]\n",
    "    prediction_set = set(prediction_lst)\n",
    "    # prediction_set = set(p[0] for p in predictions[:k])\n",
    "    print(f'prediction_set: {prediction_set}')\n",
    "    \n",
    "    # calculate true positives, false positives, and false negatives\n",
    "    for keyphrase in prediction_set:\n",
    "        if keyphrase in label_set:\n",
    "            true_positives += 1\n",
    "        else:\n",
    "            false_positives += 1\n",
    "    \n",
    "    for keyphrase in label_set:\n",
    "        if keyphrase not in prediction_set:\n",
    "            false_negatives += 1\n",
    "    \n",
    "    print(f'true_positives: {true_positives}')    \n",
    "    print(f'false_positives: {false_positives}')\n",
    "    print(f'false_negatives: {false_negatives}')\n",
    "\n",
    "    # calculate precision, recall, and F1 score\n",
    "    precision = true_positives / (true_positives + false_positives)\n",
    "    recall = true_positives / (true_positives + false_negatives)\n",
    "    \n",
    "    if precision == 0 or recall == 0:\n",
    "        return 0\n",
    "    \n",
    "    f1_score = 2 * (precision * recall) / (precision + recall)\n",
    "    \n",
    "    return f1_score"
   ]
  },
  {
   "cell_type": "code",
   "execution_count": 14,
   "metadata": {},
   "outputs": [],
   "source": [
    "label = '윤희근; 경찰청장; 외압; 정순신; 추천; 국가수사본부장; 이상민; 행정안전부 장관; 한동훈; 법무부 장관'\n",
    "prediction = '윤희근; 경찰청장; 정순신; 국가수사본부장; 외압; 국가수사본부장; 추천; 국회; 행정안전위원회; 국수본부장; 내부 공모'\n",
    "\n",
    "label = '승아 양; 어머니; 인형; 발인식; 음주 운전자; 치사; 유가족; 오빠; 친구들; 처벌 강화'\n",
    "prediction = '승아; 인형; 어머니; 운전자; 차량; 사망; 추모; 영정사진; 치료; 처벌'\n",
    "\n",
    "label = '메수트 외질; 현역 은퇴; 독일 분데스리가; 스페인 라리가; 잉글랜드 프리미어리그; 도움왕; 2010 남아공월드컵; 2014 브라질월드컵; 독일 국가대표; 튀르키계 독일인'\n",
    "prediction = '외질; 현역 은퇴; 패스 마스터; 분데스리가; 스페인 라리가; 잉글랜드 프리미어리그; 도움왕; 튀르키예; 인종차별적 비난; 국가대표'"
   ]
  },
  {
   "cell_type": "code",
   "execution_count": 16,
   "metadata": {},
   "outputs": [
    {
     "name": "stdout",
     "output_type": "stream",
     "text": [
      "label_set: {'2010 남아공월드컵', '메수트 외질', '튀르키계 독일인', '스페인 라리가', '현역 은퇴', '독일 분데스리가', '2014 브라질월드컵', '도움왕', '잉글랜드 프리미어리그', '독일 국가대표'}\n",
      "prediction_set: {'인종차별적 비난', '튀르키예', '스페인 라리가', '현역 은퇴', '외질', '국가대표', '도움왕', '패스 마스터', '잉글랜드 프리미어리그', '분데스리가'}\n",
      "true_positives: 4\n",
      "false_positives: 6\n",
      "false_negatives: 6\n"
     ]
    },
    {
     "data": {
      "text/plain": [
       "0.4000000000000001"
      ]
     },
     "execution_count": 16,
     "metadata": {},
     "output_type": "execute_result"
    }
   ],
   "source": [
    "f1_score_at_k(label, prediction, 10)"
   ]
  },
  {
   "cell_type": "code",
   "execution_count": 17,
   "metadata": {},
   "outputs": [
    {
     "name": "stdout",
     "output_type": "stream",
     "text": [
      "label_set: {'2010 남아공월드컵', '메수트 외질', '튀르키계 독일인', '스페인 라리가', '현역 은퇴', '독일 분데스리가', '2014 브라질월드컵', '도움왕', '잉글랜드 프리미어리그', '독일 국가대표'}\n",
      "prediction_set: {'스페인 라리가', '현역 은퇴', '외질', '도움왕', '패스 마스터', '잉글랜드 프리미어리그', '분데스리가'}\n",
      "true_positives: 4\n",
      "false_positives: 3\n",
      "false_negatives: 6\n"
     ]
    },
    {
     "data": {
      "text/plain": [
       "0.47058823529411764"
      ]
     },
     "execution_count": 17,
     "metadata": {},
     "output_type": "execute_result"
    }
   ],
   "source": [
    "f1_score_at_k(label, prediction, 7)"
   ]
  },
  {
   "cell_type": "code",
   "execution_count": 26,
   "metadata": {},
   "outputs": [
    {
     "name": "stdout",
     "output_type": "stream",
     "text": [
      "['메수트 외질', '현역 은퇴', '독일 분데스리가', '스페인 라리가', '잉글랜드 프리미어리그', '도움왕', '2010 남아공월드컵', '2014 브라질월드컵', '독일 국가대표', '튀르키계 독일인']\n",
      "['외질', '현역 은퇴', '패스 마스터', '분데스리가', '스페인 라리가', '잉글랜드 프리미어리그', '도움왕', '튀르키예', '인종차별적 비난', '국가대표']\n",
      "16\n",
      "4\n"
     ]
    },
    {
     "data": {
      "text/plain": [
       "0.25"
      ]
     },
     "execution_count": 26,
     "metadata": {},
     "output_type": "execute_result"
    }
   ],
   "source": [
    "def jaccard_similarity(label, prediction, k):\n",
    "\n",
    "    # convert label and prediction strings to sets of key-phrases\n",
    "    label_lst = [key_phrase.strip() for key_phrase in label.split(';') if key_phrase != '']\n",
    "    label_lst = [key_phrase for key_phrase in label_lst if key_phrase != '']\n",
    "    print(label_lst)\n",
    "    \n",
    "    # split the predicted key-phrases and their scores\n",
    "    prediction_lst = [key_phrase.strip() for key_phrase in prediction.split(';') if key_phrase != '']\n",
    "    prediction_lst = [key_phrase for key_phrase in prediction_lst if key_phrase != ''][:k]\n",
    "    print(prediction_lst)\n",
    "\n",
    "    \"\"\"Define Jaccard Similarity function for two sets\"\"\"\n",
    "    intersection = len(list(set(label_lst).intersection(prediction_lst)))\n",
    "    union = (len(label_lst) + len(prediction_lst)) - intersection\n",
    "\n",
    "    print(union)\n",
    "    print(intersection)\n",
    "\n",
    "    return float(intersection) / union\n",
    "\n",
    "# Define two sets \n",
    "label = '메수트 외질; 현역 은퇴; 독일 분데스리가; 스페인 라리가; 잉글랜드 프리미어리그; 도움왕; 2010 남아공월드컵; 2014 브라질월드컵; 독일 국가대표; 튀르키계 독일인'\n",
    "prediction = '외질; 현역 은퇴; 패스 마스터; 분데스리가; 스페인 라리가; 잉글랜드 프리미어리그; 도움왕; 튀르키예; 인종차별적 비난; 국가대표'\n",
    "\n",
    "# Find Jaccard Similarity between the two sets \n",
    "jaccard_similarity(label, prediction, 10)"
   ]
  }
 ],
 "metadata": {
  "kernelspec": {
   "display_name": ".venv",
   "language": "python",
   "name": "python3"
  },
  "language_info": {
   "codemirror_mode": {
    "name": "ipython",
    "version": 3
   },
   "file_extension": ".py",
   "mimetype": "text/x-python",
   "name": "python",
   "nbconvert_exporter": "python",
   "pygments_lexer": "ipython3",
   "version": "3.9.16"
  },
  "orig_nbformat": 4
 },
 "nbformat": 4,
 "nbformat_minor": 2
}
