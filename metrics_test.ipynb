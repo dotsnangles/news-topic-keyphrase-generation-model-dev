{
 "cells": [
  {
   "cell_type": "code",
   "execution_count": 44,
   "metadata": {},
   "outputs": [],
   "source": [
    "def f1_score_at_k(label, prediction, k):\n",
    "    true_positives = 0\n",
    "    false_positives = 0\n",
    "    false_negatives = 0\n",
    "    \n",
    "    # convert label and prediction strings to sets of key-phrases\n",
    "    label_set = set([key_phrase.strip() for key_phrase in label.split(';')])\n",
    "    print(f'label_set: {label_set}')\n",
    "    \n",
    "    # split the predicted key-phrases and their scores\n",
    "    prediction_set = set([key_phrase.strip() for key_phrase in prediction.split(';')[:k]])\n",
    "    # prediction_set = set(p[0] for p in predictions[:k])\n",
    "    print(f'prediction_set: {prediction_set}')\n",
    "    \n",
    "    # calculate true positives, false positives, and false negatives\n",
    "    for keyphrase in prediction_set:\n",
    "        if keyphrase in label_set:\n",
    "            true_positives += 1\n",
    "        else:\n",
    "            false_positives += 1\n",
    "    \n",
    "    for keyphrase in label_set:\n",
    "        if keyphrase not in prediction_set:\n",
    "            false_negatives += 1\n",
    "    \n",
    "    print(f'true_positives: {true_positives}')    \n",
    "    print(f'false_positives: {false_positives}')\n",
    "    print(f'false_negatives: {false_negatives}')\n",
    "\n",
    "    # calculate precision, recall, and F1 score\n",
    "    precision = true_positives / (true_positives + false_positives)\n",
    "    recall = true_positives / (true_positives + false_negatives)\n",
    "    \n",
    "    if precision == 0 or recall == 0:\n",
    "        return 0\n",
    "    \n",
    "    f1_score = 2 * (precision * recall) / (precision + recall)\n",
    "    \n",
    "    return f1_score"
   ]
  },
  {
   "cell_type": "code",
   "execution_count": 45,
   "metadata": {},
   "outputs": [],
   "source": [
    "label = '김민재; 나폴리; 챔피언스리그; 이탈리아 클럽; AC 밀란; 인터 밀란; 8강 진출; 선발 출전; 후반 추가골; 피오트르 지엘린스키'\n",
    "prediction = '홀란드; 캐피탈; 분데스리가; 이탈리아; AC 밀란; 인터 밀란; 8강 진출; 선발 출전; 후반 추가골; 피오트르 지엘린스키; 크앙크앙'"
   ]
  },
  {
   "cell_type": "code",
   "execution_count": 48,
   "metadata": {},
   "outputs": [
    {
     "name": "stdout",
     "output_type": "stream",
     "text": [
      "label_set: {'이탈리아 클럽', '8강 진출', '챔피언스리그', '인터 밀란', '후반 추가골', 'AC 밀란', '김민재', '선발 출전', '피오트르 지엘린스키', '나폴리'}\n",
      "prediction_set: {'분데스리가', '8강 진출', '홀란드', '크앙크앙', '캐피탈', '이탈리아', '인터 밀란', '후반 추가골', 'AC 밀란', '선발 출전', '피오트르 지엘린스키'}\n",
      "true_positives: 6\n",
      "false_positives: 5\n",
      "false_negatives: 4\n"
     ]
    },
    {
     "data": {
      "text/plain": [
       "0.5714285714285713"
      ]
     },
     "execution_count": 48,
     "metadata": {},
     "output_type": "execute_result"
    }
   ],
   "source": [
    "f1_score_at_k(label, prediction, 12)"
   ]
  },
  {
   "cell_type": "code",
   "execution_count": 49,
   "metadata": {},
   "outputs": [
    {
     "name": "stdout",
     "output_type": "stream",
     "text": [
      "label_set: {'이탈리아 클럽', '8강 진출', '챔피언스리그', '인터 밀란', '후반 추가골', 'AC 밀란', '김민재', '선발 출전', '피오트르 지엘린스키', '나폴리'}\n",
      "prediction_set: {'분데스리가', '8강 진출', '홀란드', '캐피탈', '이탈리아', '인터 밀란', '후반 추가골', 'AC 밀란', '선발 출전', '피오트르 지엘린스키'}\n",
      "true_positives: 6\n",
      "false_positives: 4\n",
      "false_negatives: 4\n"
     ]
    },
    {
     "data": {
      "text/plain": [
       "0.6"
      ]
     },
     "execution_count": 49,
     "metadata": {},
     "output_type": "execute_result"
    }
   ],
   "source": [
    "f1_score_at_k(label, prediction, 10)"
   ]
  }
 ],
 "metadata": {
  "kernelspec": {
   "display_name": ".venv",
   "language": "python",
   "name": "python3"
  },
  "language_info": {
   "codemirror_mode": {
    "name": "ipython",
    "version": 3
   },
   "file_extension": ".py",
   "mimetype": "text/x-python",
   "name": "python",
   "nbconvert_exporter": "python",
   "pygments_lexer": "ipython3",
   "version": "3.9.16"
  },
  "orig_nbformat": 4
 },
 "nbformat": 4,
 "nbformat_minor": 2
}
