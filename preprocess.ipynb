{
 "cells": [
  {
   "cell_type": "code",
   "execution_count": 1,
   "metadata": {},
   "outputs": [],
   "source": [
    "import os\n",
    "os.environ[\"TOKENIZERS_PARALLELISM\"] = \"false\""
   ]
  },
  {
   "cell_type": "code",
   "execution_count": 2,
   "metadata": {},
   "outputs": [],
   "source": [
    "import re\n",
    "import pandas as pd\n",
    "from transformers import AutoTokenizer\n",
    "from datasets import Dataset, load_from_disk"
   ]
  },
  {
   "attachments": {},
   "cell_type": "markdown",
   "metadata": {},
   "source": [
    "### Load Model and Tokenizer"
   ]
  },
  {
   "cell_type": "code",
   "execution_count": 3,
   "metadata": {},
   "outputs": [
    {
     "name": "stderr",
     "output_type": "stream",
     "text": [
      "Special tokens have been added in the vocabulary, make sure the associated word embeddings are fine-tuned or trained.\n"
     ]
    },
    {
     "name": "stdout",
     "output_type": "stream",
     "text": [
      "paust/pko-t5-base\n"
     ]
    }
   ],
   "source": [
    "\n",
    "MODEL_CKPT = 'paust/pko-t5-larget'\n",
    "MODEL_CKPT = 'paust/pko-t5-base'\n",
    "MODEL_CKPT = 'EleutherAI/polyglot-ko-3.8b'\n",
    "MODEL_CKPT = 'EleutherAI/polyglot-ko-5.8b'\n",
    "MODEL_CKPT = 'EleutherAI/polyglot-ko-1.3b'\n",
    "MODEL_CKPT = 'paust/pko-t5-base'\n",
    "\n",
    "tokenizer = AutoTokenizer.from_pretrained(MODEL_CKPT)\n",
    "\n",
    "print(MODEL_CKPT)"
   ]
  },
  {
   "attachments": {},
   "cell_type": "markdown",
   "metadata": {},
   "source": [
    "### Load Data"
   ]
  },
  {
   "cell_type": "code",
   "execution_count": 4,
   "metadata": {},
   "outputs": [],
   "source": [
    "DATA_PATH = 'data/model_dev_raw/model_dev_raw_v4.pickle'"
   ]
  },
  {
   "cell_type": "code",
   "execution_count": 5,
   "metadata": {},
   "outputs": [
    {
     "name": "stdout",
     "output_type": "stream",
     "text": [
      "<class 'pandas.core.frame.DataFrame'>\n",
      "Int64Index: 100146 entries, 0 to 100885\n",
      "Data columns (total 6 columns):\n",
      " #   Column         Non-Null Count   Dtype         \n",
      "---  ------         --------------   -----         \n",
      " 0   id             100146 non-null  int64         \n",
      " 1   create_date    100146 non-null  datetime64[ns]\n",
      " 2   title          100146 non-null  object        \n",
      " 3   title_content  100146 non-null  object        \n",
      " 4   len_tokenized  100146 non-null  int64         \n",
      " 5   label          100146 non-null  object        \n",
      "dtypes: datetime64[ns](1), int64(2), object(3)\n",
      "memory usage: 5.3+ MB\n"
     ]
    }
   ],
   "source": [
    "df_data = pd.read_pickle(DATA_PATH)\n",
    "df_data.info()"
   ]
  },
  {
   "cell_type": "code",
   "execution_count": 6,
   "metadata": {},
   "outputs": [],
   "source": [
    "# for idx, row in df_data.iterrows():\n",
    "#     if idx == 1000:\n",
    "#         break\n",
    "#     print(f'Row {idx}')\n",
    "#     print('input')\n",
    "#     print(row.title_content)\n",
    "#     print()\n",
    "#     print('output')\n",
    "#     print(row.label)\n",
    "#     print()\n",
    "#     print()"
   ]
  },
  {
   "attachments": {},
   "cell_type": "markdown",
   "metadata": {},
   "source": [
    "### 전처리 계획\n",
    "\n",
    "- 라벨 앞뒤로 붙은 punctuation 제거\n",
    "- 라벨 내 key-phrases 중에서 띄어쓰기 기준으로 길이 4 이상인 항목 제거 (보류)"
   ]
  },
  {
   "attachments": {},
   "cell_type": "markdown",
   "metadata": {},
   "source": [
    "### Preprocess"
   ]
  },
  {
   "cell_type": "code",
   "execution_count": 7,
   "metadata": {},
   "outputs": [],
   "source": [
    "def regulate_sequence(string):\n",
    "    pattern = re.compile(r'- .+\\n') # - 댄스가수 유랑단 > 댄스가스 유랑단; \n",
    "    found = pattern.findall(string)\n",
    "    if len(found) > 5:\n",
    "        removed = [re.sub(r'^- ', '', keyphrase) for keyphrase in found]\n",
    "        string = '; '.join(removed)\n",
    "\n",
    "    pattern = re.compile(r'\\d+\\. .+\\n') # 1. 댄스가수 유랑단 > 댄스가스 유랑단; \n",
    "    found = pattern.findall(string)\n",
    "    if len(found) > 5:\n",
    "        removed = [re.sub(r'^\\d+\\. ', '', keyphrase) for keyphrase in found]\n",
    "        string = '; '.join(removed)\n",
    "    \n",
    "    return string"
   ]
  },
  {
   "cell_type": "code",
   "execution_count": 8,
   "metadata": {},
   "outputs": [
    {
     "data": {
      "text/plain": [
       "'농협은행; ESG경영; 상생경영; 제1회 대한민국 리딩금융 ESG 어워드; 친환경경영; 지배구조; 녹색금융'"
      ]
     },
     "execution_count": 8,
     "metadata": {},
     "output_type": "execute_result"
    }
   ],
   "source": [
    "def remove_noises(string):\n",
    "    string = re.sub(r'key-phrases:', '', string, flags=re.IGNORECASE)\n",
    "    string = string.replace('\\n', ' ').strip()\n",
    "    \n",
    "    if string[0] in ';.':\n",
    "        string = string[1:]\n",
    "    if string[-1] in ';.':\n",
    "        string = string[:-1]\n",
    "    return string.strip()\n",
    "\n",
    "test_case = '; 농협은행; ESG경영; 상생경영; 제1회 대한민국 리딩금융 ESG 어워드; 친환경경영; 지배구조; 녹색금융; '\n",
    "test_case = ';농협은행; ESG경영; 상생경영; 제1회 대한민국 리딩금융 ESG 어워드; 친환경경영; 지배구조; 녹색금융. '\n",
    "\n",
    "remove_noises(test_case)"
   ]
  },
  {
   "cell_type": "code",
   "execution_count": 9,
   "metadata": {},
   "outputs": [
    {
     "data": {
      "text/plain": [
       "'농협은행; ESG경영; 상생경영; 제1회 대한민국 리딩금융 ESG 어워드; 친환경경영; 지배구조; 녹색금융'"
      ]
     },
     "execution_count": 9,
     "metadata": {},
     "output_type": "execute_result"
    }
   ],
   "source": [
    "def remove_quotes(string):\n",
    "    quotes = '\"' + \"'\"\n",
    "    key_phrases = [key_phrase.strip() for key_phrase in string.split(';') if key_phrase != '']\n",
    "\n",
    "    temp = []\n",
    "    for key_phrase in key_phrases:\n",
    "        if len(key_phrase) > 0 and key_phrase[0] in quotes and key_phrase[-1] in quotes:\n",
    "            key_phrase = key_phrase[1:-1]\n",
    "        temp.append(key_phrase)\n",
    "    \n",
    "    return '; '.join(temp)\n",
    "\n",
    "test_case = \"'농협은행'; 'ESG경영'; '상생경영'; '제1회 대한민국 리딩금융 ESG 어워드'; '친환경경영'; '지배구조'; '녹색금융'\"\n",
    "\n",
    "remove_quotes(test_case)"
   ]
  },
  {
   "cell_type": "code",
   "execution_count": 10,
   "metadata": {},
   "outputs": [],
   "source": [
    "def preprocess_str(string):\n",
    "    string = regulate_sequence(string)\n",
    "    string = remove_noises(string)\n",
    "    string = remove_quotes(string)\n",
    "    return string"
   ]
  },
  {
   "cell_type": "code",
   "execution_count": 11,
   "metadata": {},
   "outputs": [],
   "source": [
    "def preprocess(df):\n",
    "    df.rename(columns={'title_content': 'input_text', 'label': 'target_text'}, inplace=True)\n",
    "    df['target_text'] = df['target_text'].apply(preprocess_str)\n",
    "    return df"
   ]
  },
  {
   "cell_type": "code",
   "execution_count": 12,
   "metadata": {},
   "outputs": [],
   "source": [
    "preprocessed_data = preprocess(df_data)"
   ]
  },
  {
   "attachments": {},
   "cell_type": "markdown",
   "metadata": {},
   "source": [
    "### Check Preprocessed"
   ]
  },
  {
   "cell_type": "code",
   "execution_count": 13,
   "metadata": {},
   "outputs": [],
   "source": [
    "checker = preprocessed_data.target_text.str.contains('\\n')\n",
    "checker = preprocessed_data.target_text.str.contains(r'^- ', regex=True)\n",
    "checker = preprocessed_data.target_text.str.contains(r'^\\d+\\. ', regex=True)\n",
    "checker = preprocessed_data.target_text.str.contains('key-phrases:')\n",
    "checked = preprocessed_data[checker]\n",
    "\n",
    "for idx, row in checked.iterrows():\n",
    "    print(f'Row {idx}')\n",
    "    print('target_text')\n",
    "    print(row.target_text)\n",
    "    print()"
   ]
  },
  {
   "attachments": {},
   "cell_type": "markdown",
   "metadata": {},
   "source": [
    "### Add len_tokenized_target_text Col. and Investigate"
   ]
  },
  {
   "cell_type": "code",
   "execution_count": 14,
   "metadata": {},
   "outputs": [],
   "source": [
    "preprocessed_data['len_tokenized_target_text'] = preprocessed_data.target_text.apply(lambda x: len(tokenizer(x)['input_ids']))"
   ]
  },
  {
   "cell_type": "code",
   "execution_count": 15,
   "metadata": {},
   "outputs": [
    {
     "data": {
      "text/plain": [
       "(<Axes: >,\n",
       " count    100146.000000\n",
       " mean         55.936613\n",
       " std          21.578053\n",
       " min           2.000000\n",
       " 25%          44.000000\n",
       " 50%          51.000000\n",
       " 75%          62.000000\n",
       " max         826.000000\n",
       " Name: len_tokenized_target_text, dtype: float64)"
      ]
     },
     "execution_count": 15,
     "metadata": {},
     "output_type": "execute_result"
    },
    {
     "data": {
      "image/png": "[encoded data removed]",
      "text/plain": [
       "<Figure size 640x480 with 1 Axes>"
      ]
     },
     "metadata": {},
     "output_type": "display_data"
    }
   ],
   "source": [
    "preprocessed_data.len_tokenized_target_text.plot(kind='box'), preprocessed_data.len_tokenized_target_text.describe()"
   ]
  },
  {
   "attachments": {},
   "cell_type": "markdown",
   "metadata": {},
   "source": [
    "### seq len =< 64 labels only"
   ]
  },
  {
   "cell_type": "code",
   "execution_count": 16,
   "metadata": {},
   "outputs": [
    {
     "data": {
      "text/plain": [
       "count    79472.000000\n",
       "mean        48.362316\n",
       "std          8.084109\n",
       "min          2.000000\n",
       "25%         42.000000\n",
       "50%         48.000000\n",
       "75%         55.000000\n",
       "max         64.000000\n",
       "Name: len_tokenized_target_text, dtype: float64"
      ]
     },
     "execution_count": 16,
     "metadata": {},
     "output_type": "execute_result"
    }
   ],
   "source": [
    "checker = preprocessed_data.len_tokenized_target_text <= 64\n",
    "preprocessed_data[checker].len_tokenized_target_text.describe()\n",
    "preprocessed_data = preprocessed_data[checker]\n",
    "preprocessed_data.len_tokenized_target_text.describe()"
   ]
  },
  {
   "cell_type": "code",
   "execution_count": 17,
   "metadata": {},
   "outputs": [],
   "source": [
    "# cursor = 0\n",
    "# for idx, row in preprocessed_data.iterrows():\n",
    "#     keyphrases = row.target_text.split('; ')\n",
    "#     for keyphrase in keyphrases:\n",
    "#         if keyphrase not in row.input_text:\n",
    "#             print(row.input_text)\n",
    "#             print(keyphrase)\n",
    "#             print()\n",
    "#             cursor += 1\n",
    "#             if cursor == 100:\n",
    "#                 break\n",
    "#     if cursor == 100:\n",
    "#         break"
   ]
  },
  {
   "cell_type": "code",
   "execution_count": 18,
   "metadata": {},
   "outputs": [],
   "source": [
    "# for idx, row in preprocessed_data.iterrows():\n",
    "#     print(f'Row {idx}')\n",
    "#     print('target_text')\n",
    "#     print(row.target_text)\n",
    "#     print()"
   ]
  },
  {
   "attachments": {},
   "cell_type": "markdown",
   "metadata": {},
   "source": [
    "### Save Preprocessed Data"
   ]
  },
  {
   "cell_type": "code",
   "execution_count": 19,
   "metadata": {},
   "outputs": [],
   "source": [
    "# preprocessed_data.to_pickle('data/model_dev/model_dev_v4.pickle')"
   ]
  },
  {
   "attachments": {},
   "cell_type": "markdown",
   "metadata": {},
   "source": [
    "### Encoding / Train Eval Split"
   ]
  },
  {
   "cell_type": "code",
   "execution_count": 20,
   "metadata": {},
   "outputs": [],
   "source": [
    "### seq2seq\n",
    "prefix = \"generate keyphrases: \"\n",
    "max_input_length = 1024\n",
    "max_target_length = 64\n",
    "\n",
    "def preprocess_function(examples):\n",
    "    inputs = [prefix + doc for doc in examples[\"input_text\"]]\n",
    "    model_inputs = tokenizer(inputs, max_length=max_input_length, truncation=True, padding=False)\n",
    "\n",
    "    labels = tokenizer(examples[\"target_text\"], max_length=max_target_length, truncation=True, padding=False)\n",
    "\n",
    "    model_inputs[\"labels\"] = labels[\"input_ids\"]\n",
    "    return model_inputs"
   ]
  },
  {
   "cell_type": "code",
   "execution_count": 20,
   "metadata": {},
   "outputs": [],
   "source": [
    "MODEL_CKPT = 'EleutherAI/polyglot-ko-1.3b'\n",
    "\n",
    "tokenizer = AutoTokenizer.from_pretrained(MODEL_CKPT)"
   ]
  },
  {
   "cell_type": "code",
   "execution_count": 22,
   "metadata": {},
   "outputs": [
    {
     "data": {
      "text/plain": [
       "('clm_tokenizer/tokenizer_config.json',\n",
       " 'clm_tokenizer/special_tokens_map.json',\n",
       " 'clm_tokenizer/tokenizer.json')"
      ]
     },
     "execution_count": 22,
     "metadata": {},
     "output_type": "execute_result"
    }
   ],
   "source": [
    "### clm\n",
    "max_length = 2048\n",
    "src_prefix = \"[generate keyphrases]\"\n",
    "trg_prefix = \"[keyphrases generated]\"\n",
    "\n",
    "def preprocess_function(examples):\n",
    "    inputs = [src_prefix + src + trg_prefix + trg + tokenizer.eos_token for src, trg in zip(examples[\"input_text\"], examples[\"target_text\"])]\n",
    "    model_inputs = tokenizer(inputs, max_length=max_length, truncation=True, padding=False)\n",
    "    return model_inputs\n",
    "\n",
    "new_tokens = ['[generate keyphrases]', '[keyphrases generated]']\n",
    "tokenizer.add_tokens(new_tokens)\n",
    "tokenizer.save_pretrained('clm_tokenizer')"
   ]
  },
  {
   "cell_type": "code",
   "execution_count": 23,
   "metadata": {},
   "outputs": [],
   "source": [
    "dataset = Dataset.from_pandas(preprocessed_data).shuffle(seed=100).train_test_split(3000, seed=100)\n",
    "train_dataset = dataset['train']\n",
    "eval_dataset = dataset['test']"
   ]
  },
  {
   "cell_type": "code",
   "execution_count": 24,
   "metadata": {},
   "outputs": [
    {
     "data": {
      "application/vnd.jupyter.widget-view+json": {
       "model_id": "43091dc13fcb4ee9a4bba087f8379700",
       "version_major": 2,
       "version_minor": 0
      },
      "text/plain": [
       "Map (num_proc=4):   0%|          | 0/76472 [00:00<?, ? examples/s]"
      ]
     },
     "metadata": {},
     "output_type": "display_data"
    },
    {
     "data": {
      "application/vnd.jupyter.widget-view+json": {
       "model_id": "1420ce4aab594004814ecf958fbe8a72",
       "version_major": 2,
       "version_minor": 0
      },
      "text/plain": [
       "Map (num_proc=4):   0%|          | 0/3000 [00:00<?, ? examples/s]"
      ]
     },
     "metadata": {},
     "output_type": "display_data"
    },
    {
     "name": "stdout",
     "output_type": "stream",
     "text": [
      "Dataset({\n",
      "    features: ['input_ids', 'token_type_ids', 'attention_mask'],\n",
      "    num_rows: 76472\n",
      "})\n",
      "Dataset({\n",
      "    features: ['id', 'create_date', 'title', 'input_text', 'len_tokenized', 'target_text', 'len_tokenized_target_text', '__index_level_0__', 'input_ids', 'token_type_ids', 'attention_mask'],\n",
      "    num_rows: 3000\n",
      "})\n"
     ]
    }
   ],
   "source": [
    "train_dataset = train_dataset.map(\n",
    "    preprocess_function, \n",
    "    batched=True, \n",
    "    num_proc=4, \n",
    "    remove_columns=train_dataset.column_names\n",
    ")\n",
    "\n",
    "eval_dataset = eval_dataset.map(\n",
    "    preprocess_function, \n",
    "    batched=True, \n",
    "    num_proc=4,\n",
    ")\n",
    "\n",
    "print(train_dataset)\n",
    "print(eval_dataset)"
   ]
  },
  {
   "cell_type": "code",
   "execution_count": 34,
   "metadata": {},
   "outputs": [
    {
     "data": {
      "application/vnd.jupyter.widget-view+json": {
       "model_id": "2cdf95cc2ef140089190910ab13911d1",
       "version_major": 2,
       "version_minor": 0
      },
      "text/plain": [
       "Saving the dataset (0/1 shards):   0%|          | 0/76472 [00:00<?, ? examples/s]"
      ]
     },
     "metadata": {},
     "output_type": "display_data"
    },
    {
     "data": {
      "application/vnd.jupyter.widget-view+json": {
       "model_id": "10977b4edae14df49e41d28f3103a270",
       "version_major": 2,
       "version_minor": 0
      },
      "text/plain": [
       "Saving the dataset (0/1 shards):   0%|          | 0/3000 [00:00<?, ? examples/s]"
      ]
     },
     "metadata": {},
     "output_type": "display_data"
    }
   ],
   "source": [
    "train_dataset.save_to_disk('data/model_dev/model_dev_v4_polyglot_1.3b_train.hf')\n",
    "eval_dataset.save_to_disk('data/model_dev/model_dev_v4_polyglot_1.3b_eval.hf')"
   ]
  },
  {
   "cell_type": "code",
   "execution_count": 35,
   "metadata": {},
   "outputs": [],
   "source": [
    "train_dataset = load_from_disk('data/model_dev/model_dev_v4_polyglot_1.3b_train.hf')\n",
    "eval_dataset = load_from_disk('data/model_dev/model_dev_v4_polyglot_1.3b_eval.hf')"
   ]
  },
  {
   "cell_type": "code",
   "execution_count": 36,
   "metadata": {},
   "outputs": [
    {
     "name": "stdout",
     "output_type": "stream",
     "text": [
      "Dataset({\n",
      "    features: ['input_ids', 'token_type_ids', 'attention_mask'],\n",
      "    num_rows: 76472\n",
      "})\n",
      "Dataset({\n",
      "    features: ['id', 'create_date', 'title', 'input_text', 'len_tokenized', 'target_text', 'len_tokenized_target_text', '__index_level_0__', 'input_ids', 'token_type_ids', 'attention_mask'],\n",
      "    num_rows: 3000\n",
      "})\n"
     ]
    }
   ],
   "source": [
    "print(train_dataset)\n",
    "print(eval_dataset)"
   ]
  },
  {
   "cell_type": "code",
   "execution_count": 37,
   "metadata": {},
   "outputs": [
    {
     "data": {
      "text/plain": [
       "'[generate keyphrases]美 온라인 달군 \\'트럼프 체포\\' 사진…생성AI가 만들었네 생성AI가 만든 가짜뉴스/사진= 미국 온라인 커뮤니티\\'성추문 입막음\\' 논란으로 수사를 받았던 도널드 트럼프 전 미국 대통령이 경찰에 체포되는 \\'가짜\\' 이미지가 확산하고 있다. 해당 이미지는 생성 AI(인공지능)를 활용해 만든 이미지로 나타났다.22일(현지시간) AP통신 등은 트럼프 전 대통령이 뉴욕 경찰에 체포되는 사진이 각종 SNS(사회관계망)을 중심으로 확산하고 있다고 보도했다. 문제가 된 사진 속에는 트럼프가 체포되며 강하게 저항하는 모습이나 경찰을 피해 도망치는 모습 등이 담겼다.그러나 해당 이미지는 생성 AI를 활용해 만들어진 가짜 이미지로 나타났다. AP통신은 \"트럼프 대통령은 체포되지 않았다\"고 전했으며 뉴욕 경찰 역시 \"트럼프 전 대통령은 구금된 바 없다\"고 밝혔다.가짜 이미지를 만든 사람은 영국의 온라인 매체 벨링켓의 창립자이자 저널리스트인 엘리엇 히긴으로 드러났다. 히긴은 \"이미지 생성 AI 서비스 미드저니(Midjourney)를 통해 제작한 일종의 패러디였다\"며 \"조작된 이미지가 얼마나 실제 같은지 알 수 있다\"고 말했다.생성AI가 만든 가짜뉴스/사진= 미국 온라인 커뮤니티실제로 해당 이미지에는 현실성이 떨어지는 점이 발견된다. 트럼프 전 대통령이 경찰 벨트를 차고 있거나, 그의 다리가 세 개로 보이기도 한다.이와 관련 풍자를 목적으로 만들어냈다 하더라도 생성AI를 활용한 이미지가 가짜뉴스에 무분별하게 활용될 수 있다는 지적이 나온다. 딥페이크 사진 전문가 헨리 아이더는 뉴스위크와의 인터뷰에서 \"AI 전문가들은 가짜라는 것을 눈치챌 수 있겠지만, 기술을 잘 모르는 사람들은 다르게 받아들일 수 있다\"고 전했다.한편, 트럼프 전 대통령은 2016년 대선 직전 한 포르노 배우와 과거 성관계한 사실을 숨기기 위해 회삿돈으로 합의금을 지급하고 장부를 조작했다는 의혹을 받는다. 뉴욕 검찰은 관련 수사를 마무리하고 기소할지 여부를 검토하고 있는 상태다.생성AI가 만든 가짜뉴스/사진= 미국 온라인 커뮤니티[keyphrases generated]트럼프 전 대통령; 체포되는 사진; 미드저니(Midjourney); 생성 AI; 경찰에 체포; 가짜 이미지; 온라인 커뮤니티; 디페이크 사진; 저항하는 모습; 선거 의혹<|endoftext|>'"
      ]
     },
     "execution_count": 37,
     "metadata": {},
     "output_type": "execute_result"
    }
   ],
   "source": [
    "import random\n",
    "\n",
    "rand_idx = random.randint(0, len(eval_dataset)-1)\n",
    "\n",
    "sample = eval_dataset['input_ids'][rand_idx]\n",
    "\n",
    "tokenizer.decode(sample)"
   ]
  }
 ],
 "metadata": {
  "kernelspec": {
   "display_name": ".venv",
   "language": "python",
   "name": "python3"
  },
  "language_info": {
   "codemirror_mode": {
    "name": "ipython",
    "version": 3
   },
   "file_extension": ".py",
   "mimetype": "text/x-python",
   "name": "python",
   "nbconvert_exporter": "python",
   "pygments_lexer": "ipython3",
   "version": "3.9.16"
  },
  "orig_nbformat": 4
 },
 "nbformat": 4,
 "nbformat_minor": 2
}
