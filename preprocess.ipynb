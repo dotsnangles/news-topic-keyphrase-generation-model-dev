{
 "cells": [
  {
   "cell_type": "code",
   "execution_count": 1,
   "metadata": {},
   "outputs": [],
   "source": [
    "import os\n",
    "os.environ[\"TOKENIZERS_PARALLELISM\"] = \"false\""
   ]
  },
  {
   "cell_type": "code",
   "execution_count": 2,
   "metadata": {},
   "outputs": [],
   "source": [
    "import re\n",
    "import pandas as pd\n",
    "from transformers import AutoTokenizer\n",
    "from datasets import Dataset, load_from_disk"
   ]
  },
  {
   "attachments": {},
   "cell_type": "markdown",
   "metadata": {},
   "source": [
    "### Load Model and Tokenizer"
   ]
  },
  {
   "cell_type": "code",
   "execution_count": 3,
   "metadata": {},
   "outputs": [
    {
     "data": {
      "application/vnd.jupyter.widget-view+json": {
       "model_id": "36b621a1244045338804c349c07c6596",
       "version_major": 2,
       "version_minor": 0
      },
      "text/plain": [
       "Downloading (…)okenizer_config.json:   0%|          | 0.00/1.94k [00:00<?, ?B/s]"
      ]
     },
     "metadata": {},
     "output_type": "display_data"
    },
    {
     "data": {
      "application/vnd.jupyter.widget-view+json": {
       "model_id": "97afa99645de43fba68d1bf4614e4943",
       "version_major": 2,
       "version_minor": 0
      },
      "text/plain": [
       "Downloading (…)/main/tokenizer.json:   0%|          | 0.00/2.92M [00:00<?, ?B/s]"
      ]
     },
     "metadata": {},
     "output_type": "display_data"
    },
    {
     "data": {
      "application/vnd.jupyter.widget-view+json": {
       "model_id": "68c1375e3e2d48f2899d035dcdd720ca",
       "version_major": 2,
       "version_minor": 0
      },
      "text/plain": [
       "Downloading (…)cial_tokens_map.json:   0%|          | 0.00/1.79k [00:00<?, ?B/s]"
      ]
     },
     "metadata": {},
     "output_type": "display_data"
    },
    {
     "name": "stdout",
     "output_type": "stream",
     "text": [
      "paust/pko-t5-large\n"
     ]
    }
   ],
   "source": [
    "\n",
    "MODEL_CKPT = 'EleutherAI/polyglot-ko-5.8b'\n",
    "MODEL_CKPT = 'EleutherAI/polyglot-ko-3.8b'\n",
    "MODEL_CKPT = 'EleutherAI/polyglot-ko-1.3b'\n",
    "MODEL_CKPT = 'paust/pko-t5-base'\n",
    "MODEL_CKPT = 'paust/pko-t5-large'\n",
    "\n",
    "tokenizer = AutoTokenizer.from_pretrained(MODEL_CKPT)\n",
    "\n",
    "print(MODEL_CKPT)"
   ]
  },
  {
   "attachments": {},
   "cell_type": "markdown",
   "metadata": {},
   "source": [
    "### Load Data"
   ]
  },
  {
   "cell_type": "code",
   "execution_count": 4,
   "metadata": {},
   "outputs": [],
   "source": [
    "DATA_PATH = 'data/model_dev_raw/model_dev_raw_v4.pickle'"
   ]
  },
  {
   "cell_type": "code",
   "execution_count": 5,
   "metadata": {},
   "outputs": [
    {
     "name": "stdout",
     "output_type": "stream",
     "text": [
      "<class 'pandas.core.frame.DataFrame'>\n",
      "Index: 100146 entries, 0 to 100885\n",
      "Data columns (total 6 columns):\n",
      " #   Column         Non-Null Count   Dtype         \n",
      "---  ------         --------------   -----         \n",
      " 0   id             100146 non-null  int64         \n",
      " 1   create_date    100146 non-null  datetime64[ns]\n",
      " 2   title          100146 non-null  object        \n",
      " 3   title_content  100146 non-null  object        \n",
      " 4   len_tokenized  100146 non-null  int64         \n",
      " 5   label          100146 non-null  object        \n",
      "dtypes: datetime64[ns](1), int64(2), object(3)\n",
      "memory usage: 5.3+ MB\n"
     ]
    }
   ],
   "source": [
    "df_data = pd.read_pickle(DATA_PATH)\n",
    "df_data.info()"
   ]
  },
  {
   "cell_type": "code",
   "execution_count": 6,
   "metadata": {},
   "outputs": [],
   "source": [
    "# for idx, row in df_data.iterrows():\n",
    "#     if idx == 1000:\n",
    "#         break\n",
    "#     print(f'Row {idx}')\n",
    "#     print('input')\n",
    "#     print(row.title_content)\n",
    "#     print()\n",
    "#     print('output')\n",
    "#     print(row.label)\n",
    "#     print()\n",
    "#     print()"
   ]
  },
  {
   "attachments": {},
   "cell_type": "markdown",
   "metadata": {},
   "source": [
    "### 전처리 계획\n",
    "\n",
    "- 라벨 앞뒤로 붙은 punctuation 제거\n",
    "- 라벨 내 key-phrases 중에서 띄어쓰기 기준으로 길이 4 이상인 항목 제거 (보류)"
   ]
  },
  {
   "attachments": {},
   "cell_type": "markdown",
   "metadata": {},
   "source": [
    "### Preprocess"
   ]
  },
  {
   "cell_type": "code",
   "execution_count": 7,
   "metadata": {},
   "outputs": [],
   "source": [
    "def regulate_sequence(string):\n",
    "    pattern = re.compile(r'- .+\\n') # - 댄스가수 유랑단 > 댄스가스 유랑단; \n",
    "    found = pattern.findall(string)\n",
    "    if len(found) > 5:\n",
    "        removed = [re.sub(r'^- ', '', keyphrase) for keyphrase in found]\n",
    "        string = '; '.join(removed)\n",
    "\n",
    "    pattern = re.compile(r'\\d+\\. .+\\n') # 1. 댄스가수 유랑단 > 댄스가스 유랑단; \n",
    "    found = pattern.findall(string)\n",
    "    if len(found) > 5:\n",
    "        removed = [re.sub(r'^\\d+\\. ', '', keyphrase) for keyphrase in found]\n",
    "        string = '; '.join(removed)\n",
    "    \n",
    "    return string"
   ]
  },
  {
   "cell_type": "code",
   "execution_count": 8,
   "metadata": {},
   "outputs": [
    {
     "data": {
      "text/plain": [
       "'농협은행; ESG경영; 상생경영; 제1회 대한민국 리딩금융 ESG 어워드; 친환경경영; 지배구조; 녹색금융'"
      ]
     },
     "execution_count": 8,
     "metadata": {},
     "output_type": "execute_result"
    }
   ],
   "source": [
    "def remove_noises(string):\n",
    "    string = re.sub(r'key-phrases:', '', string, flags=re.IGNORECASE)\n",
    "    string = string.replace('\\n', ' ').strip()\n",
    "    \n",
    "    if string[0] in ';.':\n",
    "        string = string[1:]\n",
    "    if string[-1] in ';.':\n",
    "        string = string[:-1]\n",
    "    return string.strip()\n",
    "\n",
    "test_case = '; 농협은행; ESG경영; 상생경영; 제1회 대한민국 리딩금융 ESG 어워드; 친환경경영; 지배구조; 녹색금융; '\n",
    "test_case = ';농협은행; ESG경영; 상생경영; 제1회 대한민국 리딩금융 ESG 어워드; 친환경경영; 지배구조; 녹색금융. '\n",
    "\n",
    "remove_noises(test_case)"
   ]
  },
  {
   "cell_type": "code",
   "execution_count": 9,
   "metadata": {},
   "outputs": [
    {
     "data": {
      "text/plain": [
       "'농협은행; ESG경영; 상생경영; 제1회 대한민국 리딩금융 ESG 어워드; 친환경경영; 지배구조; 녹색금융'"
      ]
     },
     "execution_count": 9,
     "metadata": {},
     "output_type": "execute_result"
    }
   ],
   "source": [
    "def remove_quotes(string):\n",
    "    quotes = '\"' + \"'\"\n",
    "    key_phrases = [key_phrase.strip() for key_phrase in string.split(';') if key_phrase != '']\n",
    "\n",
    "    temp = []\n",
    "    for key_phrase in key_phrases:\n",
    "        if len(key_phrase) > 0 and key_phrase[0] in quotes and key_phrase[-1] in quotes:\n",
    "            key_phrase = key_phrase[1:-1]\n",
    "        temp.append(key_phrase)\n",
    "    \n",
    "    return '; '.join(temp)\n",
    "\n",
    "test_case = \"'농협은행'; 'ESG경영'; '상생경영'; '제1회 대한민국 리딩금융 ESG 어워드'; '친환경경영'; '지배구조'; '녹색금융'\"\n",
    "\n",
    "remove_quotes(test_case)"
   ]
  },
  {
   "cell_type": "code",
   "execution_count": 10,
   "metadata": {},
   "outputs": [],
   "source": [
    "def preprocess_str(string):\n",
    "    string = regulate_sequence(string)\n",
    "    string = remove_noises(string)\n",
    "    string = remove_quotes(string)\n",
    "    return string"
   ]
  },
  {
   "cell_type": "code",
   "execution_count": 11,
   "metadata": {},
   "outputs": [],
   "source": [
    "def preprocess(df):\n",
    "    df.rename(columns={'title_content': 'input_text', 'label': 'target_text'}, inplace=True)\n",
    "    df['target_text'] = df['target_text'].apply(preprocess_str)\n",
    "    return df"
   ]
  },
  {
   "cell_type": "code",
   "execution_count": 12,
   "metadata": {},
   "outputs": [],
   "source": [
    "preprocessed_data = preprocess(df_data)"
   ]
  },
  {
   "attachments": {},
   "cell_type": "markdown",
   "metadata": {},
   "source": [
    "### Check Preprocessed"
   ]
  },
  {
   "cell_type": "code",
   "execution_count": 13,
   "metadata": {},
   "outputs": [],
   "source": [
    "checker = preprocessed_data.target_text.str.contains('\\n')\n",
    "checker = preprocessed_data.target_text.str.contains(r'^- ', regex=True)\n",
    "checker = preprocessed_data.target_text.str.contains(r'^\\d+\\. ', regex=True)\n",
    "checker = preprocessed_data.target_text.str.contains('key-phrases:')\n",
    "checked = preprocessed_data[checker]\n",
    "\n",
    "for idx, row in checked.iterrows():\n",
    "    print(f'Row {idx}')\n",
    "    print('target_text')\n",
    "    print(row.target_text)\n",
    "    print()"
   ]
  },
  {
   "attachments": {},
   "cell_type": "markdown",
   "metadata": {},
   "source": [
    "### Add len_tokenized_target_text Col. and Investigate"
   ]
  },
  {
   "cell_type": "code",
   "execution_count": 14,
   "metadata": {},
   "outputs": [],
   "source": [
    "preprocessed_data['len_tokenized_target_text'] = preprocessed_data.target_text.apply(lambda x: len(tokenizer(x)['input_ids']))"
   ]
  },
  {
   "cell_type": "code",
   "execution_count": 15,
   "metadata": {},
   "outputs": [
    {
     "data": {
      "text/plain": [
       "(<Axes: >,\n",
       " count    100146.000000\n",
       " mean         55.936613\n",
       " std          21.578053\n",
       " min           2.000000\n",
       " 25%          44.000000\n",
       " 50%          51.000000\n",
       " 75%          62.000000\n",
       " max         826.000000\n",
       " Name: len_tokenized_target_text, dtype: float64)"
      ]
     },
     "execution_count": 15,
     "metadata": {},
     "output_type": "execute_result"
    },
    {
     "data": {
      "image/png": "[encoded data removed]",
      "text/plain": [
       "<Figure size 640x480 with 1 Axes>"
      ]
     },
     "metadata": {},
     "output_type": "display_data"
    }
   ],
   "source": [
    "preprocessed_data.len_tokenized_target_text.plot(kind='box'), preprocessed_data.len_tokenized_target_text.describe()"
   ]
  },
  {
   "attachments": {},
   "cell_type": "markdown",
   "metadata": {},
   "source": [
    "### seq len =< 64 labels only"
   ]
  },
  {
   "cell_type": "code",
   "execution_count": 16,
   "metadata": {},
   "outputs": [
    {
     "data": {
      "text/plain": [
       "count    79472.000000\n",
       "mean        48.362316\n",
       "std          8.084109\n",
       "min          2.000000\n",
       "25%         42.000000\n",
       "50%         48.000000\n",
       "75%         55.000000\n",
       "max         64.000000\n",
       "Name: len_tokenized_target_text, dtype: float64"
      ]
     },
     "execution_count": 16,
     "metadata": {},
     "output_type": "execute_result"
    }
   ],
   "source": [
    "checker = preprocessed_data.len_tokenized_target_text <= 64\n",
    "preprocessed_data[checker].len_tokenized_target_text.describe()\n",
    "preprocessed_data = preprocessed_data[checker]\n",
    "preprocessed_data.len_tokenized_target_text.describe()"
   ]
  },
  {
   "cell_type": "code",
   "execution_count": 17,
   "metadata": {},
   "outputs": [],
   "source": [
    "# cursor = 0\n",
    "# for idx, row in preprocessed_data.iterrows():\n",
    "#     keyphrases = row.target_text.split('; ')\n",
    "#     for keyphrase in keyphrases:\n",
    "#         if keyphrase not in row.input_text:\n",
    "#             print(row.input_text)\n",
    "#             print(keyphrase)\n",
    "#             print()\n",
    "#             cursor += 1\n",
    "#             if cursor == 100:\n",
    "#                 break\n",
    "#     if cursor == 100:\n",
    "#         break"
   ]
  },
  {
   "cell_type": "code",
   "execution_count": 18,
   "metadata": {},
   "outputs": [],
   "source": [
    "# for idx, row in preprocessed_data.iterrows():\n",
    "#     print(f'Row {idx}')\n",
    "#     print('target_text')\n",
    "#     print(row.target_text)\n",
    "#     print()"
   ]
  },
  {
   "attachments": {},
   "cell_type": "markdown",
   "metadata": {},
   "source": [
    "### Save Preprocessed Data"
   ]
  },
  {
   "cell_type": "code",
   "execution_count": 19,
   "metadata": {},
   "outputs": [],
   "source": [
    "# preprocessed_data.to_pickle('data/model_dev/model_dev_v4.pickle')"
   ]
  },
  {
   "attachments": {},
   "cell_type": "markdown",
   "metadata": {},
   "source": [
    "### Encoding / Train Eval Split"
   ]
  },
  {
   "cell_type": "code",
   "execution_count": 20,
   "metadata": {},
   "outputs": [],
   "source": [
    "### seq2seq\n",
    "prefix = \"generate keyphrases: \"\n",
    "max_input_length = 1024\n",
    "max_target_length = 64\n",
    "\n",
    "def preprocess_function(examples):\n",
    "    inputs = [prefix + doc for doc in examples[\"input_text\"]]\n",
    "    model_inputs = tokenizer(inputs, max_length=max_input_length, truncation=True, padding=False)\n",
    "\n",
    "    labels = tokenizer(examples[\"target_text\"], max_length=max_target_length, truncation=True, padding=False)\n",
    "\n",
    "    model_inputs[\"labels\"] = labels[\"input_ids\"]\n",
    "    return model_inputs"
   ]
  },
  {
   "cell_type": "code",
   "execution_count": 21,
   "metadata": {},
   "outputs": [],
   "source": [
    "# ### clm\n",
    "# MODEL_CKPT = 'EleutherAI/polyglot-ko-1.3b'\n",
    "# tokenizer = AutoTokenizer.from_pretrained(MODEL_CKPT)\n",
    "\n",
    "# max_length = 2048\n",
    "# src_prefix = '[generate keyphrases]'\n",
    "# trg_prefix = '[keyphrases generated]'\n",
    "# custom_eos = '[end of generation]'\n",
    "\n",
    "# def preprocess_function(examples):\n",
    "#     inputs = [src_prefix + src + trg_prefix + trg + custom_eos for src, trg in zip(examples[\"input_text\"], examples[\"target_text\"])]\n",
    "#     model_inputs = tokenizer(inputs, max_length=max_length, truncation=True, padding=False)\n",
    "#     return model_inputs\n",
    "\n",
    "# new_tokens = ['[generate keyphrases]', '[keyphrases generated]', '[end of generation]']\n",
    "# tokenizer.add_tokens(new_tokens)\n",
    "# tokenizer.save_pretrained('clm_tokenizer')"
   ]
  },
  {
   "cell_type": "code",
   "execution_count": 22,
   "metadata": {},
   "outputs": [],
   "source": [
    "# ### for testing training script\n",
    "# preprocessed_data = preprocessed_data[:1000]\n",
    "# dataset = Dataset.from_pandas(preprocessed_data).shuffle(seed=100).train_test_split(0.2, seed=100)\n",
    "\n",
    "dataset = Dataset.from_pandas(preprocessed_data).shuffle(seed=100).train_test_split(3000, seed=100)\n",
    "train_dataset = dataset['train']\n",
    "eval_dataset = dataset['test']"
   ]
  },
  {
   "cell_type": "code",
   "execution_count": 23,
   "metadata": {},
   "outputs": [
    {
     "data": {
      "application/vnd.jupyter.widget-view+json": {
       "model_id": "27ffdd51eaac42bcae75b4e8d18fc097",
       "version_major": 2,
       "version_minor": 0
      },
      "text/plain": [
       "Map (num_proc=4):   0%|          | 0/76472 [00:00<?, ? examples/s]"
      ]
     },
     "metadata": {},
     "output_type": "display_data"
    },
    {
     "data": {
      "application/vnd.jupyter.widget-view+json": {
       "model_id": "b5dc4133a81640179ecaf613a607983f",
       "version_major": 2,
       "version_minor": 0
      },
      "text/plain": [
       "Map (num_proc=4):   0%|          | 0/3000 [00:00<?, ? examples/s]"
      ]
     },
     "metadata": {},
     "output_type": "display_data"
    },
    {
     "name": "stdout",
     "output_type": "stream",
     "text": [
      "Dataset({\n",
      "    features: ['input_ids', 'attention_mask', 'labels'],\n",
      "    num_rows: 76472\n",
      "})\n",
      "Dataset({\n",
      "    features: ['id', 'create_date', 'title', 'input_text', 'len_tokenized', 'target_text', 'len_tokenized_target_text', '__index_level_0__', 'input_ids', 'attention_mask', 'labels'],\n",
      "    num_rows: 3000\n",
      "})\n"
     ]
    }
   ],
   "source": [
    "train_dataset = train_dataset.map(\n",
    "    preprocess_function, \n",
    "    batched=True, \n",
    "    num_proc=4, \n",
    "    remove_columns=train_dataset.column_names\n",
    ")\n",
    "\n",
    "eval_dataset = eval_dataset.map(\n",
    "    preprocess_function, \n",
    "    batched=True, \n",
    "    num_proc=4,\n",
    ")\n",
    "\n",
    "print(train_dataset)\n",
    "print(eval_dataset)"
   ]
  },
  {
   "cell_type": "code",
   "execution_count": 24,
   "metadata": {},
   "outputs": [
    {
     "data": {
      "application/vnd.jupyter.widget-view+json": {
       "model_id": "c1183ec88a4e4b88ada7160482601ebc",
       "version_major": 2,
       "version_minor": 0
      },
      "text/plain": [
       "Saving the dataset (0/1 shards):   0%|          | 0/76472 [00:00<?, ? examples/s]"
      ]
     },
     "metadata": {},
     "output_type": "display_data"
    },
    {
     "data": {
      "application/vnd.jupyter.widget-view+json": {
       "model_id": "5c9bd46281484cadb2c3da20e820b3f8",
       "version_major": 2,
       "version_minor": 0
      },
      "text/plain": [
       "Saving the dataset (0/1 shards):   0%|          | 0/3000 [00:00<?, ? examples/s]"
      ]
     },
     "metadata": {},
     "output_type": "display_data"
    }
   ],
   "source": [
    "train_dataset.save_to_disk('data/model_dev/model_dev_v4_paust_t5_large_train.hf')\n",
    "eval_dataset.save_to_disk('data/model_dev/model_dev_v4_paust_t5_large_eval.hf')"
   ]
  },
  {
   "cell_type": "code",
   "execution_count": 25,
   "metadata": {},
   "outputs": [],
   "source": [
    "train_dataset = load_from_disk('data/model_dev/model_dev_v4_paust_t5_large_train.hf')\n",
    "eval_dataset = load_from_disk('data/model_dev/model_dev_v4_paust_t5_large_eval.hf')"
   ]
  },
  {
   "cell_type": "code",
   "execution_count": 26,
   "metadata": {},
   "outputs": [
    {
     "name": "stdout",
     "output_type": "stream",
     "text": [
      "Dataset({\n",
      "    features: ['input_ids', 'attention_mask', 'labels'],\n",
      "    num_rows: 76472\n",
      "})\n",
      "Dataset({\n",
      "    features: ['id', 'create_date', 'title', 'input_text', 'len_tokenized', 'target_text', 'len_tokenized_target_text', '__index_level_0__', 'input_ids', 'attention_mask', 'labels'],\n",
      "    num_rows: 3000\n",
      "})\n"
     ]
    }
   ],
   "source": [
    "print(train_dataset)\n",
    "print(eval_dataset)"
   ]
  },
  {
   "cell_type": "code",
   "execution_count": 33,
   "metadata": {},
   "outputs": [
    {
     "name": "stdout",
     "output_type": "stream",
     "text": [
      "generate keyphrases: 음식점 재룟값 1년새 약 18%↑...양파·스위트콘은 2∼3배로 [마켓보로 제공. 재판매 및 DB금지](서울=연합뉴스) 신선미 기자 = 음식점에서 쓰는 식자재 가격이 1년 새 약 18% 오른 것으로 나타났다.푸드테크 스타트업 마켓보로는 자사 외식 사업자 전용 식자재 구매 앱(애플리케이션) '식봄'에서 판매되는 식자재 2천15개의 지난달 말 가격을 조사한 결과, 1년 전에 비해 평균 17.6% 상승한 것으로 확인됐다고 27일 밝혔다.한국소비자원이 서울 지역의 자장면, 김치찌개, 비빔밥 등 8대 외식 상품 가격을 조사한 결과에서는 같은 기간 10.4% 오른 것으로 나타났는데, 메뉴 가격 상승률보다 식자재 가격 상승률이 더 높았던 셈이다.식봄에서는 식자재 2천15개 중 84.4%인 1천701개의 가격이 오른 것으로 조사됐다.값이 내린 품목은 9.4%(190개)에 불과했고 가격 변동이 없었던 품목은 6.2%(124개)였다.자장면 재료를 살펴보면 밀가루(제면용 20kg)는 1년 새 15.5% 올랐고 식용유(18L)는 22.0%, 춘장(볶음춘장 10kg)은 8.8% 각각 상승했다.양파(15kg)는 182.5%나 오른 것으로 조사됐다.이 밖에 식당에서 많이 쓰는 단무지는 10.2%, 참치캔은 39.5%, 자연산 치즈는 34.8% 오른 것으로 나타났다.멸균우유(1L)는 22.8%, 스위트콘 가격은 121.2% 상승했다.서울 상수동에서 중식당을 운영하는 한 사업자는 재룟값 상승과 관련해 \"올해 초 식자재 가격이 많이 올라 메뉴 당 500∼1천원씩 인상을 단행할 수밖에 없었다\"고 말했다.망원동에서 주점을 운영하는 백모 씨도 \"식자재 가격이 전체적으로 올랐으나 가격이 30% 오른 연어 관련 메뉴만 값을 올렸다\"며 \"식자재 값 상승에 가스 가격 인상 부담까지, 식당이 고스란히 피해를 떠안고 가야 하는 셈\"이라고 토로했다.[마켓보로 제공. 재판매 및 DB금지]sun@yna.co.kr\n",
      "\n",
      "음식점; 재룟값; 식자재; 가격; 상승; 양파; 스위트콘; 외식; 메뉴; 상승률\n"
     ]
    }
   ],
   "source": [
    "import random\n",
    "\n",
    "rand_idx = random.randint(0, len(eval_dataset)-1)\n",
    "\n",
    "context = tokenizer.decode(eval_dataset['input_ids'][rand_idx], skip_special_tokens=True)\n",
    "label = tokenizer.decode(eval_dataset['labels'][rand_idx], skip_special_tokens=True)\n",
    "\n",
    "print(context)\n",
    "print()\n",
    "print(label)"
   ]
  }
 ],
 "metadata": {
  "kernelspec": {
   "display_name": ".venv",
   "language": "python",
   "name": "python3"
  },
  "language_info": {
   "codemirror_mode": {
    "name": "ipython",
    "version": 3
   },
   "file_extension": ".py",
   "mimetype": "text/x-python",
   "name": "python",
   "nbconvert_exporter": "python",
   "pygments_lexer": "ipython3",
   "version": "3.9.16"
  },
  "orig_nbformat": 4
 },
 "nbformat": 4,
 "nbformat_minor": 2
}
