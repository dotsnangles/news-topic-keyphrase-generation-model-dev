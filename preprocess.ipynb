{
 "cells": [
  {
   "cell_type": "code",
   "execution_count": 1,
   "metadata": {},
   "outputs": [],
   "source": [
    "import os\n",
    "os.environ[\"TOKENIZERS_PARALLELISM\"] = \"false\""
   ]
  },
  {
   "cell_type": "code",
   "execution_count": 2,
   "metadata": {},
   "outputs": [],
   "source": [
    "import re\n",
    "import pandas as pd\n",
    "from transformers import AutoTokenizer\n",
    "from datasets import Dataset, load_from_disk"
   ]
  },
  {
   "attachments": {},
   "cell_type": "markdown",
   "metadata": {},
   "source": [
    "### Load Model and Tokenizer"
   ]
  },
  {
   "cell_type": "code",
   "execution_count": 3,
   "metadata": {},
   "outputs": [
    {
     "name": "stdout",
     "output_type": "stream",
     "text": [
      "EleutherAI/polyglot-ko-1.3b\n"
     ]
    }
   ],
   "source": [
    "\n",
    "MODEL_CKPT = 'paust/pko-t5-larget'\n",
    "MODEL_CKPT = 'paust/pko-t5-base'\n",
    "MODEL_CKPT = 'paust/pko-t5-base'\n",
    "MODEL_CKPT = 'EleutherAI/polyglot-ko-3.8b'\n",
    "MODEL_CKPT = 'EleutherAI/polyglot-ko-5.8b'\n",
    "MODEL_CKPT = 'EleutherAI/polyglot-ko-1.3b'\n",
    "\n",
    "tokenizer = AutoTokenizer.from_pretrained(MODEL_CKPT)\n",
    "\n",
    "print(MODEL_CKPT)"
   ]
  },
  {
   "cell_type": "markdown",
   "metadata": {},
   "source": [
    "### Load Data"
   ]
  },
  {
   "cell_type": "code",
   "execution_count": 4,
   "metadata": {},
   "outputs": [],
   "source": [
    "DATA_PATH = 'data/model_dev_raw/model_dev_raw_v4.pickle'"
   ]
  },
  {
   "cell_type": "code",
   "execution_count": 5,
   "metadata": {},
   "outputs": [
    {
     "name": "stdout",
     "output_type": "stream",
     "text": [
      "<class 'pandas.core.frame.DataFrame'>\n",
      "Int64Index: 100146 entries, 0 to 100885\n",
      "Data columns (total 6 columns):\n",
      " #   Column         Non-Null Count   Dtype         \n",
      "---  ------         --------------   -----         \n",
      " 0   id             100146 non-null  int64         \n",
      " 1   create_date    100146 non-null  datetime64[ns]\n",
      " 2   title          100146 non-null  object        \n",
      " 3   title_content  100146 non-null  object        \n",
      " 4   len_tokenized  100146 non-null  int64         \n",
      " 5   label          100146 non-null  object        \n",
      "dtypes: datetime64[ns](1), int64(2), object(3)\n",
      "memory usage: 5.3+ MB\n"
     ]
    }
   ],
   "source": [
    "df_data = pd.read_pickle(DATA_PATH)\n",
    "df_data.info()"
   ]
  },
  {
   "cell_type": "code",
   "execution_count": 6,
   "metadata": {},
   "outputs": [],
   "source": [
    "# for idx, row in df_data.iterrows():\n",
    "#     if idx == 1000:\n",
    "#         break\n",
    "#     print(f'Row {idx}')\n",
    "#     print('input')\n",
    "#     print(row.title_content)\n",
    "#     print()\n",
    "#     print('output')\n",
    "#     print(row.label)\n",
    "#     print()\n",
    "#     print()"
   ]
  },
  {
   "attachments": {},
   "cell_type": "markdown",
   "metadata": {},
   "source": [
    "### 전처리 계획\n",
    "\n",
    "- 라벨 앞뒤로 붙은 punctuation 제거\n",
    "- 라벨 내 key-phrases 중에서 띄어쓰기 기준으로 길이 4 이상인 항목 제거 (보류)"
   ]
  },
  {
   "cell_type": "markdown",
   "metadata": {},
   "source": [
    "### Preprocess"
   ]
  },
  {
   "cell_type": "code",
   "execution_count": 7,
   "metadata": {},
   "outputs": [],
   "source": [
    "def regulate_sequence(string):\n",
    "    pattern = re.compile(r'- .+\\n') # - 댄스가수 유랑단 > 댄스가스 유랑단; \n",
    "    found = pattern.findall(string)\n",
    "    if len(found) > 5:\n",
    "        removed = [re.sub(r'^- ', '', keyphrase) for keyphrase in found]\n",
    "        string = '; '.join(removed)\n",
    "\n",
    "    pattern = re.compile(r'\\d+\\. .+\\n') # 1. 댄스가수 유랑단 > 댄스가스 유랑단; \n",
    "    found = pattern.findall(string)\n",
    "    if len(found) > 5:\n",
    "        removed = [re.sub(r'^\\d+\\. ', '', keyphrase) for keyphrase in found]\n",
    "        string = '; '.join(removed)\n",
    "    \n",
    "    return string"
   ]
  },
  {
   "cell_type": "code",
   "execution_count": 8,
   "metadata": {},
   "outputs": [
    {
     "data": {
      "text/plain": [
       "'농협은행; ESG경영; 상생경영; 제1회 대한민국 리딩금융 ESG 어워드; 친환경경영; 지배구조; 녹색금융'"
      ]
     },
     "execution_count": 8,
     "metadata": {},
     "output_type": "execute_result"
    }
   ],
   "source": [
    "def remove_noises(string):\n",
    "    string = re.sub(r'key-phrases:', '', string, flags=re.IGNORECASE)\n",
    "    string = string.replace('\\n', ' ').strip()\n",
    "    \n",
    "    if string[0] in ';.':\n",
    "        string = string[1:]\n",
    "    if string[-1] in ';.':\n",
    "        string = string[:-1]\n",
    "    return string.strip()\n",
    "\n",
    "test_case = '; 농협은행; ESG경영; 상생경영; 제1회 대한민국 리딩금융 ESG 어워드; 친환경경영; 지배구조; 녹색금융; '\n",
    "test_case = ';농협은행; ESG경영; 상생경영; 제1회 대한민국 리딩금융 ESG 어워드; 친환경경영; 지배구조; 녹색금융. '\n",
    "\n",
    "remove_noises(test_case)"
   ]
  },
  {
   "cell_type": "code",
   "execution_count": 9,
   "metadata": {},
   "outputs": [
    {
     "data": {
      "text/plain": [
       "'농협은행; ESG경영; 상생경영; 제1회 대한민국 리딩금융 ESG 어워드; 친환경경영; 지배구조; 녹색금융'"
      ]
     },
     "execution_count": 9,
     "metadata": {},
     "output_type": "execute_result"
    }
   ],
   "source": [
    "def remove_quotes(string):\n",
    "    quotes = '\"' + \"'\"\n",
    "    key_phrases = [key_phrase.strip() for key_phrase in string.split(';') if key_phrase != '']\n",
    "\n",
    "    temp = []\n",
    "    for key_phrase in key_phrases:\n",
    "        if len(key_phrase) > 0 and key_phrase[0] in quotes and key_phrase[-1] in quotes:\n",
    "            key_phrase = key_phrase[1:-1]\n",
    "        temp.append(key_phrase)\n",
    "    \n",
    "    return '; '.join(temp)\n",
    "\n",
    "test_case = \"'농협은행'; 'ESG경영'; '상생경영'; '제1회 대한민국 리딩금융 ESG 어워드'; '친환경경영'; '지배구조'; '녹색금융'\"\n",
    "\n",
    "remove_quotes(test_case)"
   ]
  },
  {
   "cell_type": "code",
   "execution_count": 10,
   "metadata": {},
   "outputs": [],
   "source": [
    "def preprocess_str(string):\n",
    "    string = regulate_sequence(string)\n",
    "    string = remove_noises(string)\n",
    "    string = remove_quotes(string)\n",
    "    return string"
   ]
  },
  {
   "cell_type": "code",
   "execution_count": 11,
   "metadata": {},
   "outputs": [],
   "source": [
    "def preprocess(df):\n",
    "    df.rename(columns={'title_content': 'input_text', 'label': 'target_text'}, inplace=True)\n",
    "    df['target_text'] = df['target_text'].apply(preprocess_str)\n",
    "    return df"
   ]
  },
  {
   "cell_type": "code",
   "execution_count": 12,
   "metadata": {},
   "outputs": [],
   "source": [
    "preprocessed_data = preprocess(df_data)"
   ]
  },
  {
   "attachments": {},
   "cell_type": "markdown",
   "metadata": {},
   "source": [
    "### Check Preprocessed"
   ]
  },
  {
   "cell_type": "code",
   "execution_count": 13,
   "metadata": {},
   "outputs": [],
   "source": [
    "checker = preprocessed_data.target_text.str.contains('\\n')\n",
    "checker = preprocessed_data.target_text.str.contains(r'^- ', regex=True)\n",
    "checker = preprocessed_data.target_text.str.contains(r'^\\d+\\. ', regex=True)\n",
    "checker = preprocessed_data.target_text.str.contains('key-phrases:')\n",
    "checked = preprocessed_data[checker]\n",
    "\n",
    "for idx, row in checked.iterrows():\n",
    "    print(f'Row {idx}')\n",
    "    print('target_text')\n",
    "    print(row.target_text)\n",
    "    print()"
   ]
  },
  {
   "attachments": {},
   "cell_type": "markdown",
   "metadata": {},
   "source": [
    "### Add len_tokenized_target_text Col. and Investigate"
   ]
  },
  {
   "cell_type": "code",
   "execution_count": 14,
   "metadata": {},
   "outputs": [],
   "source": [
    "preprocessed_data['len_tokenized_target_text'] = preprocessed_data.target_text.apply(lambda x: len(tokenizer(x)['input_ids']))"
   ]
  },
  {
   "cell_type": "code",
   "execution_count": 15,
   "metadata": {},
   "outputs": [
    {
     "data": {
      "text/plain": [
       "(<Axes: >,\n",
       " count    100146.000000\n",
       " mean         38.599874\n",
       " std          14.909569\n",
       " min           1.000000\n",
       " 25%          30.000000\n",
       " 50%          35.000000\n",
       " 75%          42.000000\n",
       " max         599.000000\n",
       " Name: len_tokenized_target_text, dtype: float64)"
      ]
     },
     "execution_count": 15,
     "metadata": {},
     "output_type": "execute_result"
    },
    {
     "data": {
      "image/png": "[encoded data removed]",
      "text/plain": [
       "<Figure size 640x480 with 1 Axes>"
      ]
     },
     "metadata": {},
     "output_type": "display_data"
    }
   ],
   "source": [
    "preprocessed_data.len_tokenized_target_text.plot(kind='box'), preprocessed_data.len_tokenized_target_text.describe()"
   ]
  },
  {
   "attachments": {},
   "cell_type": "markdown",
   "metadata": {},
   "source": [
    "### seq len =< 64 labels only"
   ]
  },
  {
   "cell_type": "code",
   "execution_count": 16,
   "metadata": {},
   "outputs": [
    {
     "data": {
      "text/plain": [
       "count    96101.000000\n",
       "mean        36.480963\n",
       "std          8.544233\n",
       "min          1.000000\n",
       "25%         30.000000\n",
       "50%         35.000000\n",
       "75%         41.000000\n",
       "max         64.000000\n",
       "Name: len_tokenized_target_text, dtype: float64"
      ]
     },
     "execution_count": 16,
     "metadata": {},
     "output_type": "execute_result"
    }
   ],
   "source": [
    "checker = preprocessed_data.len_tokenized_target_text <= 64\n",
    "preprocessed_data[checker].len_tokenized_target_text.describe()\n",
    "preprocessed_data = preprocessed_data[checker]\n",
    "preprocessed_data.len_tokenized_target_text.describe()"
   ]
  },
  {
   "cell_type": "code",
   "execution_count": 17,
   "metadata": {},
   "outputs": [],
   "source": [
    "# cursor = 0\n",
    "# for idx, row in preprocessed_data.iterrows():\n",
    "#     keyphrases = row.target_text.split('; ')\n",
    "#     for keyphrase in keyphrases:\n",
    "#         if keyphrase not in row.input_text:\n",
    "#             print(row.input_text)\n",
    "#             print(keyphrase)\n",
    "#             print()\n",
    "#             cursor += 1\n",
    "#             if cursor == 100:\n",
    "#                 break\n",
    "#     if cursor == 100:\n",
    "#         break"
   ]
  },
  {
   "cell_type": "code",
   "execution_count": 18,
   "metadata": {},
   "outputs": [],
   "source": [
    "# for idx, row in preprocessed_data.iterrows():\n",
    "#     print(f'Row {idx}')\n",
    "#     print('target_text')\n",
    "#     print(row.target_text)\n",
    "#     print()"
   ]
  },
  {
   "attachments": {},
   "cell_type": "markdown",
   "metadata": {},
   "source": [
    "### Save Preprocessed Data"
   ]
  },
  {
   "cell_type": "code",
   "execution_count": 19,
   "metadata": {},
   "outputs": [],
   "source": [
    "# preprocessed_data.to_pickle('data/model_dev/model_dev_v4.pickle')"
   ]
  },
  {
   "attachments": {},
   "cell_type": "markdown",
   "metadata": {},
   "source": [
    "### Encoding / Train Eval Split"
   ]
  },
  {
   "cell_type": "code",
   "execution_count": 20,
   "metadata": {},
   "outputs": [],
   "source": [
    "### seq2seq\n",
    "\n",
    "prefix = \"[generate keyphrases]\"\n",
    "\n",
    "max_input_length = 1024\n",
    "max_target_length = 64\n",
    "\n",
    "def preprocess_function(examples):\n",
    "    inputs = [prefix + doc for doc in examples[\"input_text\"]]\n",
    "    model_inputs = tokenizer(inputs, max_length=max_input_length, truncation=True, padding=False)\n",
    "\n",
    "    labels = tokenizer(examples[\"target_text\"], max_length=max_target_length, truncation=True, padding=False)\n",
    "\n",
    "    model_inputs[\"labels\"] = labels[\"input_ids\"]\n",
    "    return model_inputs"
   ]
  },
  {
   "cell_type": "code",
   "execution_count": 21,
   "metadata": {},
   "outputs": [
    {
     "data": {
      "text/plain": [
       "('clm_tokenizer/tokenizer_config.json',\n",
       " 'clm_tokenizer/special_tokens_map.json',\n",
       " 'clm_tokenizer/tokenizer.json')"
      ]
     },
     "execution_count": 21,
     "metadata": {},
     "output_type": "execute_result"
    }
   ],
   "source": [
    "### clm\n",
    "max_length = 2048\n",
    "\n",
    "\n",
    "src_prefix = \"[generate keyphrases]\"\n",
    "trg_prefix = \"[keyphrases generated]\"\n",
    "\n",
    "def preprocess_function(examples):\n",
    "    inputs = [src_prefix + src + trg_prefix + trg for src, trg in zip(examples[\"input_text\"], examples[\"target_text\"])]\n",
    "    model_inputs = tokenizer(inputs, max_length=max_length, truncation=True, padding=False)\n",
    "    return model_inputs\n",
    "\n",
    "new_tokens = ['[generate keyphrases]', '[keyphrases generated]']\n",
    "tokenizer.add_tokens(new_tokens)\n",
    "tokenizer.save_pretrained('clm_tokenizer')"
   ]
  },
  {
   "cell_type": "code",
   "execution_count": 28,
   "metadata": {},
   "outputs": [
    {
     "data": {
      "text/plain": [
       "[30003, 30004]"
      ]
     },
     "execution_count": 28,
     "metadata": {},
     "output_type": "execute_result"
    }
   ],
   "source": [
    "tokenizer.encode(new_tokens)"
   ]
  },
  {
   "cell_type": "code",
   "execution_count": 22,
   "metadata": {},
   "outputs": [],
   "source": [
    "dataset = Dataset.from_pandas(preprocessed_data).shuffle(seed=100).train_test_split(3000, seed=100)\n",
    "train_dataset = dataset['train']\n",
    "eval_dataset = dataset['test']"
   ]
  },
  {
   "cell_type": "code",
   "execution_count": 23,
   "metadata": {},
   "outputs": [
    {
     "data": {
      "application/vnd.jupyter.widget-view+json": {
       "model_id": "a42daef6af164254a059ef102674918c",
       "version_major": 2,
       "version_minor": 0
      },
      "text/plain": [
       "Map:   0%|          | 0/93101 [00:00<?, ? examples/s]"
      ]
     },
     "metadata": {},
     "output_type": "display_data"
    },
    {
     "data": {
      "application/vnd.jupyter.widget-view+json": {
       "model_id": "d3383922761b4fde889f836dee2b2b5c",
       "version_major": 2,
       "version_minor": 0
      },
      "text/plain": [
       "Map:   0%|          | 0/3000 [00:00<?, ? examples/s]"
      ]
     },
     "metadata": {},
     "output_type": "display_data"
    },
    {
     "name": "stdout",
     "output_type": "stream",
     "text": [
      "Dataset({\n",
      "    features: ['input_ids', 'token_type_ids', 'attention_mask'],\n",
      "    num_rows: 93101\n",
      "})\n",
      "Dataset({\n",
      "    features: ['id', 'create_date', 'title', 'input_text', 'len_tokenized', 'target_text', 'len_tokenized_target_text', '__index_level_0__', 'input_ids', 'token_type_ids', 'attention_mask'],\n",
      "    num_rows: 3000\n",
      "})\n"
     ]
    }
   ],
   "source": [
    "train_dataset = train_dataset.map(\n",
    "    preprocess_function, \n",
    "    batched=True, \n",
    "    num_proc=1, \n",
    "    remove_columns=train_dataset.column_names\n",
    ")\n",
    "\n",
    "eval_dataset = eval_dataset.map(\n",
    "    preprocess_function, \n",
    "    batched=True, \n",
    "    num_proc=1,\n",
    ")\n",
    "\n",
    "print(train_dataset)\n",
    "print(eval_dataset)"
   ]
  },
  {
   "cell_type": "code",
   "execution_count": 24,
   "metadata": {},
   "outputs": [
    {
     "data": {
      "application/vnd.jupyter.widget-view+json": {
       "model_id": "5c50e7cde8954cc49e561049bc5e0ef4",
       "version_major": 2,
       "version_minor": 0
      },
      "text/plain": [
       "Saving the dataset (0/1 shards):   0%|          | 0/93101 [00:00<?, ? examples/s]"
      ]
     },
     "metadata": {},
     "output_type": "display_data"
    },
    {
     "data": {
      "application/vnd.jupyter.widget-view+json": {
       "model_id": "fd542c3440114aeaa85edce5860d0f9c",
       "version_major": 2,
       "version_minor": 0
      },
      "text/plain": [
       "Saving the dataset (0/1 shards):   0%|          | 0/3000 [00:00<?, ? examples/s]"
      ]
     },
     "metadata": {},
     "output_type": "display_data"
    }
   ],
   "source": [
    "train_dataset.save_to_disk('data/model_dev/model_dev_v4_polyglot_1.3b_train.hf')\n",
    "eval_dataset.save_to_disk('data/model_dev/model_dev_v4_polyglot_1.3b_eval.hf')"
   ]
  },
  {
   "cell_type": "code",
   "execution_count": 25,
   "metadata": {},
   "outputs": [],
   "source": [
    "train_dataset = load_from_disk('data/model_dev/model_dev_v4_polyglot_1.3b_train.hf')\n",
    "eval_dataset = load_from_disk('data/model_dev/model_dev_v4_polyglot_1.3b_eval.hf')"
   ]
  },
  {
   "cell_type": "code",
   "execution_count": 26,
   "metadata": {},
   "outputs": [
    {
     "name": "stdout",
     "output_type": "stream",
     "text": [
      "Dataset({\n",
      "    features: ['input_ids', 'token_type_ids', 'attention_mask'],\n",
      "    num_rows: 93101\n",
      "})\n",
      "Dataset({\n",
      "    features: ['id', 'create_date', 'title', 'input_text', 'len_tokenized', 'target_text', 'len_tokenized_target_text', '__index_level_0__', 'input_ids', 'token_type_ids', 'attention_mask'],\n",
      "    num_rows: 3000\n",
      "})\n"
     ]
    }
   ],
   "source": [
    "print(train_dataset)\n",
    "print(eval_dataset)"
   ]
  },
  {
   "cell_type": "code",
   "execution_count": 32,
   "metadata": {},
   "outputs": [
    {
     "data": {
      "text/plain": [
       "'[generate keyphrases]‘나는 솔로’ 상철 “영수 때문에 옥순-영자에 마음 식어”…순자 분량 실종 왜? ‘나는 솔로’ 13기 상철이 데이트 상대로 현숙을 선택했다. iMBC 연예뉴스 사진 iMBC 연예뉴스 사진 22일(수) 방송된 ENA와 SBS플러스가 공동 제작하는 ‘나는 SOLO’ 89회에서 13기 영수와 현숙이 아침을 함께 먹는 모습이 공개됐다. 이날 상철은 데이트 상대로 그의 선택을 바란 영자, 옥순이 아닌 현숙을 선택했다. 상철은 영수가 옥순을 선택할 줄 예상했다며 “남들이 봤을 땐 당연히 현숙 옆으로 갔겠지만, 아니었다. 그리고 현숙은 또 쓸쓸하게 혼자 앉아있구나. ‘불쌍하다, 내가 가면 놀라겠지’ 하고 있었다”라고 밝혔다. 또한, 상철은 전날 밤 옥순과 영자에게 실망해 마음이 식었다고 말했다. 그는 “둘 다 영수님 때문에”라고 밝혔다. 옥순과 영자가 각각 영수와 술 마시며 대화 나눴던 것. 영수는 예상치 못한 상철의 등장에 혼란스러워했다. iMBC 연예뉴스 사진 iMBC 연예뉴스 사진 결국, 선택받지 못한 영자는 ‘고독 정식’이 확정됐다. 영자는 전날 영수와 상철이 자신과 대화한 게 제일 좋았다고 했다며 “너무 곧이곧대로 믿나? 내가 어떤 게 문제인 건지 가늠이 안 돼 답답해”라며 눈물 흘렸다. 시청자들은 각종 SNS와 포털 사이트를 통해 “상철 정말 칼 같다”, “제일 응원하는 순자-광수 커플은 왜 안 보여주는 거지?”, “순자를 왜 통편집하는 건지 진짜 궁금하다”, “광수-순자 분량 무슨 일ㅜㅜ” 등의 반응을 보이고 있다. iMBC 연예뉴스 사진 iMBC 연예뉴스 사진 한편, ‘나는 SOLO’는 결혼을 간절히 원하는 솔로 남녀들이 모여 사랑을 찾기 위해 고군분투하는 극사실주의 데이팅 프로그램이다. 매주 수요일 오후 10시 30분에 방송된다. iMBC 김혜영 | SBS플러스·ENA 화면캡처[keyphrases generated]상철; 영수; 현숙; 옥순; 영자; 데이트; 선택; 대화; 제일 응원하는 순자-광수 커플; 고독 정식'"
      ]
     },
     "execution_count": 32,
     "metadata": {},
     "output_type": "execute_result"
    }
   ],
   "source": [
    "import random\n",
    "\n",
    "rand_idx = random.randint(0, len(eval_dataset)-1)\n",
    "\n",
    "sample = eval_dataset['input_ids'][rand_idx]\n",
    "\n",
    "tokenizer.decode(sample)"
   ]
  }
 ],
 "metadata": {
  "kernelspec": {
   "display_name": ".venv",
   "language": "python",
   "name": "python3"
  },
  "language_info": {
   "codemirror_mode": {
    "name": "ipython",
    "version": 3
   },
   "file_extension": ".py",
   "mimetype": "text/x-python",
   "name": "python",
   "nbconvert_exporter": "python",
   "pygments_lexer": "ipython3",
   "version": "3.9.16"
  },
  "orig_nbformat": 4
 },
 "nbformat": 4,
 "nbformat_minor": 2
}
