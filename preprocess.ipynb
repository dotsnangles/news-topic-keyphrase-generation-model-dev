{
 "cells": [
  {
   "cell_type": "code",
   "execution_count": 116,
   "metadata": {},
   "outputs": [],
   "source": [
    "import pandas as pd\n",
    "from transformers import T5TokenizerFast, T5ForConditionalGeneration\n",
    "from datasets import Dataset, load_from_disk"
   ]
  },
  {
   "attachments": {},
   "cell_type": "markdown",
   "metadata": {},
   "source": [
    "### Load Model and Tokenizer"
   ]
  },
  {
   "cell_type": "code",
   "execution_count": 117,
   "metadata": {},
   "outputs": [
    {
     "name": "stderr",
     "output_type": "stream",
     "text": [
      "Special tokens have been added in the vocabulary, make sure the associated word embeddings are fine-tuned or trained.\n"
     ]
    },
    {
     "name": "stdout",
     "output_type": "stream",
     "text": [
      "paust/pko-t5-base\n"
     ]
    }
   ],
   "source": [
    "\n",
    "MODEL_CKPT = 'paust/pko-t5-larget'\n",
    "MODEL_CKPT = 'paust/pko-t5-base'\n",
    "\n",
    "tokenizer = T5TokenizerFast.from_pretrained(MODEL_CKPT)\n",
    "# model = T5ForConditionalGeneration.from_pretrained(MODEL_CKPT)\n",
    "\n",
    "print(MODEL_CKPT)"
   ]
  },
  {
   "cell_type": "markdown",
   "metadata": {},
   "source": [
    "### Load Data"
   ]
  },
  {
   "cell_type": "code",
   "execution_count": 118,
   "metadata": {},
   "outputs": [],
   "source": [
    "DATA_PATH = 'data/model_dev_raw/model_dev_raw_v3.pickle'"
   ]
  },
  {
   "cell_type": "code",
   "execution_count": 119,
   "metadata": {},
   "outputs": [
    {
     "name": "stdout",
     "output_type": "stream",
     "text": [
      "<class 'pandas.core.frame.DataFrame'>\n",
      "Int64Index: 14930 entries, 0 to 14999\n",
      "Data columns (total 6 columns):\n",
      " #   Column         Non-Null Count  Dtype         \n",
      "---  ------         --------------  -----         \n",
      " 0   id             14930 non-null  int64         \n",
      " 1   create_date    14930 non-null  datetime64[ns]\n",
      " 2   title          14930 non-null  object        \n",
      " 3   title_content  14930 non-null  object        \n",
      " 4   len_tokenized  14930 non-null  int64         \n",
      " 5   label          14930 non-null  object        \n",
      "dtypes: datetime64[ns](1), int64(2), object(3)\n",
      "memory usage: 816.5+ KB\n"
     ]
    }
   ],
   "source": [
    "df_data = pd.read_pickle(DATA_PATH)\n",
    "df_data.info()"
   ]
  },
  {
   "cell_type": "code",
   "execution_count": 120,
   "metadata": {},
   "outputs": [],
   "source": [
    "# for idx, row in df_data.iterrows():\n",
    "#     if idx == 1000:\n",
    "#         break\n",
    "#     print(f'Row {idx}')\n",
    "#     print('input')\n",
    "#     print(row.title_content)\n",
    "#     print()\n",
    "#     print('output')\n",
    "#     print(row.label)\n",
    "#     print()\n",
    "#     print()"
   ]
  },
  {
   "attachments": {},
   "cell_type": "markdown",
   "metadata": {},
   "source": [
    "### 전처리 계획\n",
    "\n",
    "- 라벨 앞뒤로 붙은 punctuation 제거\n",
    "- 라벨 내 key-phrases 중에서 띄어쓰기 기준으로 길이 4 이상인 항목 제거 (보류)"
   ]
  },
  {
   "cell_type": "markdown",
   "metadata": {},
   "source": [
    "### Preprocess"
   ]
  },
  {
   "cell_type": "code",
   "execution_count": 121,
   "metadata": {},
   "outputs": [
    {
     "data": {
      "text/plain": [
       "'농협은행; ESG경영; 상생경영; 제1회 대한민국 리딩금융 ESG 어워드; 친환경경영; 지배구조; 녹색금융'"
      ]
     },
     "execution_count": 121,
     "metadata": {},
     "output_type": "execute_result"
    }
   ],
   "source": [
    "def remove_ending_seps(string):\n",
    "    string = string.strip()\n",
    "    if string[0] in ';.':\n",
    "        string = string[1:]\n",
    "    if string[-1] in ';.':\n",
    "        string = string[:-1]\n",
    "    return string.strip()\n",
    "\n",
    "test_case = '; 농협은행; ESG경영; 상생경영; 제1회 대한민국 리딩금융 ESG 어워드; 친환경경영; 지배구조; 녹색금융; '\n",
    "test_case = ';농협은행; ESG경영; 상생경영; 제1회 대한민국 리딩금융 ESG 어워드; 친환경경영; 지배구조; 녹색금융. '\n",
    "\n",
    "remove_ending_seps(test_case)"
   ]
  },
  {
   "cell_type": "code",
   "execution_count": 122,
   "metadata": {},
   "outputs": [
    {
     "data": {
      "text/plain": [
       "'농협은행; ESG경영; 상생경영; 제1회 대한민국 리딩금융 ESG 어워드; 친환경경영; 지배구조; 녹색금융'"
      ]
     },
     "execution_count": 122,
     "metadata": {},
     "output_type": "execute_result"
    }
   ],
   "source": [
    "def remove_quotes(string):\n",
    "    quotes = '\"' + \"'\"\n",
    "    key_phrases = [key_phrase.strip() for key_phrase in string.split(';')]\n",
    "\n",
    "    temp = []\n",
    "    for key_phrase in key_phrases:\n",
    "        if key_phrase[0] in quotes and key_phrase[-1] in quotes:\n",
    "            key_phrase = key_phrase[1:-1]\n",
    "        temp.append(key_phrase)\n",
    "    \n",
    "    return '; '.join(temp)\n",
    "\n",
    "test_case = \"'농협은행'; 'ESG경영'; '상생경영'; '제1회 대한민국 리딩금융 ESG 어워드'; '친환경경영'; '지배구조'; '녹색금융'\"\n",
    "\n",
    "remove_quotes(test_case)"
   ]
  },
  {
   "cell_type": "code",
   "execution_count": 123,
   "metadata": {},
   "outputs": [],
   "source": [
    "def preprocess(df):\n",
    "    df.rename(columns={'title_content': 'input_text', 'label': 'target_text'}, inplace=True)\n",
    "\n",
    "    df['target_text'] = df['target_text'].apply(remove_ending_seps)\n",
    "    df['target_text'] = df['target_text'].apply(remove_quotes)\n",
    "    \n",
    "    return df"
   ]
  },
  {
   "cell_type": "code",
   "execution_count": 124,
   "metadata": {},
   "outputs": [],
   "source": [
    "preprocessed_data = preprocess(df_data)"
   ]
  },
  {
   "cell_type": "code",
   "execution_count": 125,
   "metadata": {},
   "outputs": [],
   "source": [
    "preprocessed_data['len_tokenized_target_text'] = preprocessed_data.target_text.apply(lambda x: len(tokenizer(x)['input_ids']))"
   ]
  },
  {
   "cell_type": "code",
   "execution_count": 126,
   "metadata": {},
   "outputs": [
    {
     "data": {
      "text/plain": [
       "(<Axes: >,\n",
       " count    14930.000000\n",
       " mean        55.724715\n",
       " std         21.056362\n",
       " min         29.000000\n",
       " 25%         44.000000\n",
       " 50%         51.000000\n",
       " 75%         61.000000\n",
       " max        397.000000\n",
       " Name: len_tokenized_target_text, dtype: float64)"
      ]
     },
     "execution_count": 126,
     "metadata": {},
     "output_type": "execute_result"
    },
    {
     "data": {
      "image/png": "[encoded data removed]",
      "text/plain": [
       "<Figure size 640x480 with 1 Axes>"
      ]
     },
     "metadata": {},
     "output_type": "display_data"
    }
   ],
   "source": [
    "preprocessed_data.len_tokenized_target_text.plot(kind='box'), preprocessed_data.len_tokenized_target_text.describe()"
   ]
  },
  {
   "attachments": {},
   "cell_type": "markdown",
   "metadata": {},
   "source": [
    "### seq len under 64 lables only"
   ]
  },
  {
   "cell_type": "code",
   "execution_count": 127,
   "metadata": {},
   "outputs": [
    {
     "data": {
      "text/plain": [
       "count    11683.000000\n",
       "mean        48.047334\n",
       "std          7.867650\n",
       "min         29.000000\n",
       "25%         42.000000\n",
       "50%         48.000000\n",
       "75%         54.000000\n",
       "max         63.000000\n",
       "Name: len_tokenized_target_text, dtype: float64"
      ]
     },
     "execution_count": 127,
     "metadata": {},
     "output_type": "execute_result"
    }
   ],
   "source": [
    "checker = preprocessed_data.len_tokenized_target_text < 64\n",
    "preprocessed_data = preprocessed_data[checker]\n",
    "preprocessed_data.len_tokenized_target_text.describe()"
   ]
  },
  {
   "cell_type": "code",
   "execution_count": null,
   "metadata": {},
   "outputs": [],
   "source": [
    "# for idx, row in preprocessed_data.iterrows():\n",
    "#     # if idx == 10:\n",
    "#     #     break\n",
    "#     print(f'Row {idx}')\n",
    "#     print('target_text')\n",
    "#     print(row.target_text)\n",
    "#     print()"
   ]
  },
  {
   "attachments": {},
   "cell_type": "markdown",
   "metadata": {},
   "source": [
    "### Save Preprocessed Data"
   ]
  },
  {
   "cell_type": "code",
   "execution_count": 129,
   "metadata": {},
   "outputs": [],
   "source": [
    "preprocessed_data.to_pickle('data/model_dev/model_dev_v3.pickle')"
   ]
  },
  {
   "attachments": {},
   "cell_type": "markdown",
   "metadata": {},
   "source": [
    "### Encoding / Train Eval Split"
   ]
  },
  {
   "cell_type": "code",
   "execution_count": null,
   "metadata": {},
   "outputs": [],
   "source": [
    "prefix = \"generate keyphrases: \"\n",
    "\n",
    "max_input_length = 1024\n",
    "max_target_length = 64\n",
    "\n",
    "def preprocess_function(examples):\n",
    "    inputs = [prefix + doc for doc in examples[\"input_text\"]]\n",
    "    model_inputs = tokenizer(inputs, max_length=max_input_length, truncation=True, padding=\"max_length\")\n",
    "\n",
    "    labels = tokenizer(examples[\"target_text\"], max_length=max_target_length, truncation=True, padding=\"max_length\")\n",
    "\n",
    "    model_inputs[\"labels\"] = labels[\"input_ids\"]\n",
    "    return model_inputs"
   ]
  },
  {
   "cell_type": "code",
   "execution_count": null,
   "metadata": {},
   "outputs": [],
   "source": [
    "dataset = Dataset.from_pandas(preprocessed_data).shuffle(seed=100).train_test_split(0.2, seed=100)\n",
    "train_dataset = dataset['train']\n",
    "eval_dataset = dataset['test']"
   ]
  },
  {
   "cell_type": "code",
   "execution_count": null,
   "metadata": {},
   "outputs": [],
   "source": [
    "train_dataset = train_dataset.map(preprocess_function, \n",
    "                                  batched=True, \n",
    "                                  num_proc=NCPU, \n",
    "                                  remove_columns=train_dataset.column_names)\n",
    "\n",
    "eval_dataset = eval_dataset.map(preprocess_function, \n",
    "                                batched=True, \n",
    "                                num_proc=NCPU, \n",
    "                                remove_columns=eval_dataset.column_names)\n",
    "print(train_dataset)\n",
    "print(eval_dataset)"
   ]
  },
  {
   "cell_type": "code",
   "execution_count": null,
   "metadata": {},
   "outputs": [],
   "source": [
    "train_dataset.save_to_disk('data/model_dev/model_dev_v3_train.hf')\n",
    "eval_dataset.save_to_disk('data/model_dev/model_dev_v3_eval.hf')"
   ]
  },
  {
   "cell_type": "code",
   "execution_count": null,
   "metadata": {},
   "outputs": [],
   "source": [
    "train_dataset = load_from_disk('data/model_dev/model_dev_v3_train.hf')\n",
    "eval_dataset = load_from_disk('data/model_dev/model_dev_v3_eval.hf')"
   ]
  }
 ],
 "metadata": {
  "kernelspec": {
   "display_name": ".venv",
   "language": "python",
   "name": "python3"
  },
  "language_info": {
   "codemirror_mode": {
    "name": "ipython",
    "version": 3
   },
   "file_extension": ".py",
   "mimetype": "text/x-python",
   "name": "python",
   "nbconvert_exporter": "python",
   "pygments_lexer": "ipython3",
   "version": "3.9.16"
  },
  "orig_nbformat": 4
 },
 "nbformat": 4,
 "nbformat_minor": 2
}
