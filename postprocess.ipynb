{
 "cells": [
  {
   "cell_type": "code",
   "execution_count": 16,
   "metadata": {},
   "outputs": [],
   "source": [
    "label_str_lst = ['박현주 회장; 미래에셋그룹; 배당금 전액 기부; 미래에셋자산운용; 누적기부액; 이 땅의 젊은이들을 위해; 미래에셋박현주재단; 인재 육성 프로그램; 사회복지 사업; 나만의 책꿈터 지원', '박현주 회장; 미래에셋그룹; 배당금 전액 기부; 미래에셋자산운용; 누적기부액; 이 땅의 젊은이들을 위해; 미래에셋박현주재단; 인재 육성 프로그램; 사회복지 사업; 나만의 책꿈터 지원']\n",
    "prediction_str_lst = [';; 박현주 미래에셋 회장; 배당금; 기부; 미래에셋자산운용; 13년째; 직원들; 인재 육성 프로그램; 사회복지 사업; 미래에셋박현주재단; 계열사 간의 긴밀한 소통; 나눔문화; 인재 지원; 미래에셋박현주재단; 계열사 간의 긴밀한', '; 박현주 미래에셋 회장; 배당금; 기부; 미래에셋자산운용; 13년째; 직원들; 인재 육성 프로그램; 사회복지 사업; 미래에셋박현주재단; 계열사 간의 긴밀한 소통; 나눔문화; 인재 지원; 미래에셋박현주재단; 계열사 간의 긴밀한']"
   ]
  },
  {
   "cell_type": "code",
   "execution_count": 19,
   "metadata": {},
   "outputs": [],
   "source": [
    "def postprocess_for_sample(label_str, prediction_str, k):\n",
    "    label_lst = [key_phrase.strip() for key_phrase in label_str.split(\";\") if key_phrase != \"\"]\n",
    "    label_lst = [key_phrase for key_phrase in label_lst if key_phrase != \"\"]\n",
    "\n",
    "    prediction_lst = [key_phrase.strip() for key_phrase in prediction_str.split(\";\") if key_phrase != \"\"]\n",
    "    prediction_lst = [key_phrase for key_phrase in prediction_lst if key_phrase != \"\"][:k]\n",
    "    return label_lst, prediction_lst"
   ]
  },
  {
   "cell_type": "code",
   "execution_count": 28,
   "metadata": {},
   "outputs": [],
   "source": [
    "def postprocess_for_batch(label_str_lst, prediction_str_lst, k):\n",
    "    postprocessed_labels = []\n",
    "    postprocessed_preds = []\n",
    "    for label_str, prediction_str in zip(label_str_lst, prediction_str_lst):\n",
    "        label_lst, prediction_lst = postprocess_for_sample(label_str, prediction_str, k)\n",
    "        postprocessed_labels.append(label_lst)\n",
    "        postprocessed_preds.append(prediction_lst)\n",
    "    return postprocessed_labels, postprocessed_preds"
   ]
  },
  {
   "cell_type": "code",
   "execution_count": 29,
   "metadata": {},
   "outputs": [],
   "source": [
    "postprocessed_labels, postprocessed_preds = postprocess_for_batch(label_str_lst, prediction_str_lst, 10)"
   ]
  },
  {
   "cell_type": "code",
   "execution_count": 30,
   "metadata": {},
   "outputs": [
    {
     "data": {
      "text/plain": [
       "[['박현주 회장',\n",
       "  '미래에셋그룹',\n",
       "  '배당금 전액 기부',\n",
       "  '미래에셋자산운용',\n",
       "  '누적기부액',\n",
       "  '이 땅의 젊은이들을 위해',\n",
       "  '미래에셋박현주재단',\n",
       "  '인재 육성 프로그램',\n",
       "  '사회복지 사업',\n",
       "  '나만의 책꿈터 지원'],\n",
       " ['박현주 회장',\n",
       "  '미래에셋그룹',\n",
       "  '배당금 전액 기부',\n",
       "  '미래에셋자산운용',\n",
       "  '누적기부액',\n",
       "  '이 땅의 젊은이들을 위해',\n",
       "  '미래에셋박현주재단',\n",
       "  '인재 육성 프로그램',\n",
       "  '사회복지 사업',\n",
       "  '나만의 책꿈터 지원']]"
      ]
     },
     "execution_count": 30,
     "metadata": {},
     "output_type": "execute_result"
    }
   ],
   "source": [
    "postprocessed_labels"
   ]
  },
  {
   "cell_type": "code",
   "execution_count": 31,
   "metadata": {},
   "outputs": [
    {
     "data": {
      "text/plain": [
       "[['박현주 미래에셋 회장',\n",
       "  '배당금',\n",
       "  '기부',\n",
       "  '미래에셋자산운용',\n",
       "  '13년째',\n",
       "  '직원들',\n",
       "  '인재 육성 프로그램',\n",
       "  '사회복지 사업',\n",
       "  '미래에셋박현주재단',\n",
       "  '계열사 간의 긴밀한 소통'],\n",
       " ['박현주 미래에셋 회장',\n",
       "  '배당금',\n",
       "  '기부',\n",
       "  '미래에셋자산운용',\n",
       "  '13년째',\n",
       "  '직원들',\n",
       "  '인재 육성 프로그램',\n",
       "  '사회복지 사업',\n",
       "  '미래에셋박현주재단',\n",
       "  '계열사 간의 긴밀한 소통']]"
      ]
     },
     "execution_count": 31,
     "metadata": {},
     "output_type": "execute_result"
    }
   ],
   "source": [
    "postprocessed_preds"
   ]
  }
 ],
 "metadata": {
  "kernelspec": {
   "display_name": ".venv",
   "language": "python",
   "name": "python3"
  },
  "language_info": {
   "codemirror_mode": {
    "name": "ipython",
    "version": 3
   },
   "file_extension": ".py",
   "mimetype": "text/x-python",
   "name": "python",
   "nbconvert_exporter": "python",
   "pygments_lexer": "ipython3",
   "version": "3.9.16"
  },
  "orig_nbformat": 4
 },
 "nbformat": 4,
 "nbformat_minor": 2
}
