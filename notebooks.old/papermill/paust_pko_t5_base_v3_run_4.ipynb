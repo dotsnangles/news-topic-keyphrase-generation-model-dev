{
 "cells": [
  {
   "cell_type": "code",
   "execution_count": 1,
   "id": "2bd52805",
   "metadata": {
    "execution": {
     "iopub.execute_input": "2023-04-19T01:05:44.588664Z",
     "iopub.status.busy": "2023-04-19T01:05:44.588083Z",
     "iopub.status.idle": "2023-04-19T01:05:48.630550Z",
     "shell.execute_reply": "2023-04-19T01:05:48.628390Z"
    },
    "papermill": {
     "duration": 4.057754,
     "end_time": "2023-04-19T01:05:48.634438",
     "exception": false,
     "start_time": "2023-04-19T01:05:44.576684",
     "status": "completed"
    },
    "tags": []
   },
   "outputs": [
    {
     "name": "stderr",
     "output_type": "stream",
     "text": [
      "[nltk_data] Downloading package punkt to /root/nltk_data...\n",
      "[nltk_data]   Package punkt is already up-to-date!\n"
     ]
    },
    {
     "data": {
      "text/plain": [
       "True"
      ]
     },
     "execution_count": 1,
     "metadata": {},
     "output_type": "execute_result"
    }
   ],
   "source": [
    "import os\n",
    "import re\n",
    "import warnings\n",
    "\n",
    "import pandas as pd\n",
    "import numpy as np\n",
    "import torch\n",
    "\n",
    "from transformers import (\n",
    "    AutoConfig, AutoTokenizer, \n",
    "    T5TokenizerFast, T5ForConditionalGeneration, \n",
    "    AutoModelForSeq2SeqLM, Seq2SeqTrainingArguments, Seq2SeqTrainer, DataCollatorForSeq2Seq, \n",
    "    AutoModelForCausalLM, TrainingArguments, Trainer, DataCollatorForLanguageModeling\n",
    ")\n",
    "\n",
    "from datasets import load_metric, Dataset\n",
    "\n",
    "import wandb\n",
    "import nltk\n",
    "\n",
    "os.environ[\"TOKENIZERS_PARALLELISM\"] = \"false\"\n",
    "warnings.filterwarnings('ignore')\n",
    "nltk.download('punkt')"
   ]
  },
  {
   "cell_type": "code",
   "execution_count": 2,
   "id": "2d7e34ce",
   "metadata": {
    "execution": {
     "iopub.execute_input": "2023-04-19T01:05:48.652394Z",
     "iopub.status.busy": "2023-04-19T01:05:48.650862Z",
     "iopub.status.idle": "2023-04-19T01:05:48.720116Z",
     "shell.execute_reply": "2023-04-19T01:05:48.718848Z"
    },
    "papermill": {
     "duration": 0.080712,
     "end_time": "2023-04-19T01:05:48.723159",
     "exception": false,
     "start_time": "2023-04-19T01:05:48.642447",
     "status": "completed"
    },
    "tags": []
   },
   "outputs": [
    {
     "data": {
      "text/plain": [
       "(6, 64)"
      ]
     },
     "execution_count": 2,
     "metadata": {},
     "output_type": "execute_result"
    }
   ],
   "source": [
    "NGPU = torch.cuda.device_count()\n",
    "NCPU = os.cpu_count()\n",
    "NGPU, NCPU"
   ]
  },
  {
   "cell_type": "code",
   "execution_count": 3,
   "id": "00bb50cb",
   "metadata": {
    "execution": {
     "iopub.execute_input": "2023-04-19T01:05:48.740158Z",
     "iopub.status.busy": "2023-04-19T01:05:48.739677Z",
     "iopub.status.idle": "2023-04-19T01:05:48.954792Z",
     "shell.execute_reply": "2023-04-19T01:05:48.953597Z"
    },
    "papermill": {
     "duration": 0.225147,
     "end_time": "2023-04-19T01:05:48.957934",
     "exception": false,
     "start_time": "2023-04-19T01:05:48.732787",
     "status": "completed"
    },
    "tags": []
   },
   "outputs": [
    {
     "data": {
      "text/plain": [
       "True"
      ]
     },
     "execution_count": 3,
     "metadata": {},
     "output_type": "execute_result"
    }
   ],
   "source": [
    "torch.cuda.is_available()"
   ]
  },
  {
   "cell_type": "markdown",
   "id": "f1f75dc5",
   "metadata": {
    "papermill": {
     "duration": 0.005912,
     "end_time": "2023-04-19T01:05:48.974578",
     "exception": false,
     "start_time": "2023-04-19T01:05:48.968666",
     "status": "completed"
    },
    "tags": []
   },
   "source": [
    "# Paths and Names"
   ]
  },
  {
   "cell_type": "code",
   "execution_count": 4,
   "id": "35b937e4",
   "metadata": {
    "execution": {
     "iopub.execute_input": "2023-04-19T01:05:48.991573Z",
     "iopub.status.busy": "2023-04-19T01:05:48.991090Z",
     "iopub.status.idle": "2023-04-19T01:05:49.256777Z",
     "shell.execute_reply": "2023-04-19T01:05:49.254725Z"
    },
    "papermill": {
     "duration": 0.27961,
     "end_time": "2023-04-19T01:05:49.260249",
     "exception": false,
     "start_time": "2023-04-19T01:05:48.980639",
     "status": "completed"
    },
    "tags": []
   },
   "outputs": [
    {
     "name": "stdout",
     "output_type": "stream",
     "text": [
      "paust_pko_t5_base_v3_run_4\n",
      "./.log/paust_pko_t5_base_v3_run_4\n"
     ]
    }
   ],
   "source": [
    "### paths and names\n",
    "\n",
    "PROJECT_NAME = 'news-topic-keyphrase-generation-model-dev'\n",
    "RUN_ID = 'v3_run_4'\n",
    "\n",
    "DATA_PATH = 'data/model_dev/model_dev_v3.pickle'\n",
    "\n",
    "MODEL_CHECKPOINT = 'paust/pko-t5-base'\n",
    "model_name = re.sub(r'[/-]', r'_', MODEL_CHECKPOINT).lower()\n",
    "\n",
    "METRIC_NAME = 'rouge'\n",
    "\n",
    "NOTEBOOK_NAME = './train_seq2seq_plm.ipynb'\n",
    "\n",
    "ROOT_PATH = './'\n",
    "SAVE_PATH = os.path.join(ROOT_PATH, '.log')\n",
    "\n",
    "run_name = f'{model_name}_{RUN_ID}'\n",
    "output_dir = os.path.join(SAVE_PATH, run_name)\n",
    "\n",
    "print(run_name)\n",
    "print(output_dir)\n",
    "\n",
    "!mkdir -p {SAVE_PATH}"
   ]
  },
  {
   "cell_type": "code",
   "execution_count": 5,
   "id": "03f607be",
   "metadata": {
    "execution": {
     "iopub.execute_input": "2023-04-19T01:05:49.282225Z",
     "iopub.status.busy": "2023-04-19T01:05:49.281712Z",
     "iopub.status.idle": "2023-04-19T01:05:51.292783Z",
     "shell.execute_reply": "2023-04-19T01:05:51.291151Z"
    },
    "papermill": {
     "duration": 2.022432,
     "end_time": "2023-04-19T01:05:51.296111",
     "exception": false,
     "start_time": "2023-04-19T01:05:49.273679",
     "status": "completed"
    },
    "tags": []
   },
   "outputs": [
    {
     "name": "stderr",
     "output_type": "stream",
     "text": [
      "\u001b[34m\u001b[1mwandb\u001b[0m: Currently logged in as: \u001b[33mdotsnangles\u001b[0m. Use \u001b[1m`wandb login --relogin`\u001b[0m to force relogin\n"
     ]
    },
    {
     "data": {
      "text/plain": [
       "True"
      ]
     },
     "execution_count": 5,
     "metadata": {},
     "output_type": "execute_result"
    }
   ],
   "source": [
    "os.environ['WANDB_PROJECT'] = PROJECT_NAME\n",
    "os.environ['WANDB_NOTEBOOK_NAME'] = NOTEBOOK_NAME\n",
    "os.environ['WANDB_LOG_MODEL'] = 'true'\n",
    "os.environ['WANDB_WATCH'] = 'all'\n",
    "\n",
    "wandb.login()"
   ]
  },
  {
   "cell_type": "markdown",
   "id": "9db11653",
   "metadata": {
    "papermill": {
     "duration": 0.006288,
     "end_time": "2023-04-19T01:05:51.313085",
     "exception": false,
     "start_time": "2023-04-19T01:05:51.306797",
     "status": "completed"
    },
    "tags": []
   },
   "source": [
    "# Training Args"
   ]
  },
  {
   "cell_type": "code",
   "execution_count": 6,
   "id": "d8a9a23d",
   "metadata": {
    "execution": {
     "iopub.execute_input": "2023-04-19T01:05:51.331189Z",
     "iopub.status.busy": "2023-04-19T01:05:51.330646Z",
     "iopub.status.idle": "2023-04-19T01:05:51.342748Z",
     "shell.execute_reply": "2023-04-19T01:05:51.341689Z"
    },
    "papermill": {
     "duration": 0.023355,
     "end_time": "2023-04-19T01:05:51.345780",
     "exception": false,
     "start_time": "2023-04-19T01:05:51.322425",
     "status": "completed"
    },
    "tags": []
   },
   "outputs": [],
   "source": [
    "report_to=\"wandb\"\n",
    "\n",
    "num_train_epochs = 30\n",
    "per_device_train_batch_size = 4\n",
    "per_device_eval_batch_size = 4\n",
    "gradient_accumulation_steps = 1\n",
    "\n",
    "optim = 'adamw_torch' # 'adamw_torch' or 'adamw_hf'\n",
    "\n",
    "learning_rate = 3e-4 # 3e-6 * (per_device_train_batch_size * NGPU) / 8\n",
    "weight_decay = 0.01\n",
    "adam_epsilon = 1e-8\n",
    "\n",
    "lr_scheduler_type = 'linear' # 'linear', 'cosine', 'cosine_with_restarts', 'polynomial', 'constant', 'constant_with_warmup'\n",
    "warmup_ratio = 0\n",
    "\n",
    "save_total_limit = 2\n",
    "\n",
    "load_best_model_at_end = True\n",
    "metric_for_best_model = 'eval_loss'\n",
    "\n",
    "save_strategy = \"epoch\"\n",
    "evaluation_strategy = \"epoch\"\n",
    "\n",
    "logging_strategy = \"steps\"\n",
    "logging_first_step = True \n",
    "logging_steps = int(500 / NGPU)\n",
    "\n",
    "predict_with_generate=False\n",
    "generation_max_length=64\n",
    "# generation_num_beams=5\n",
    "\n",
    "fp16 = False"
   ]
  },
  {
   "cell_type": "markdown",
   "id": "9a7d33af",
   "metadata": {
    "papermill": {
     "duration": 0.006426,
     "end_time": "2023-04-19T01:05:51.364073",
     "exception": false,
     "start_time": "2023-04-19T01:05:51.357647",
     "status": "completed"
    },
    "tags": []
   },
   "source": [
    "# Model & Tokenizer & Metric"
   ]
  },
  {
   "cell_type": "code",
   "execution_count": 7,
   "id": "3687f4c0",
   "metadata": {
    "execution": {
     "iopub.execute_input": "2023-04-19T01:05:51.404354Z",
     "iopub.status.busy": "2023-04-19T01:05:51.404103Z",
     "iopub.status.idle": "2023-04-19T01:05:51.671085Z",
     "shell.execute_reply": "2023-04-19T01:05:51.669719Z"
    },
    "papermill": {
     "duration": 0.303727,
     "end_time": "2023-04-19T01:05:51.674173",
     "exception": false,
     "start_time": "2023-04-19T01:05:51.370446",
     "status": "completed"
    },
    "tags": []
   },
   "outputs": [],
   "source": [
    "config = AutoConfig.from_pretrained(MODEL_CHECKPOINT)"
   ]
  },
  {
   "cell_type": "code",
   "execution_count": 8,
   "id": "4662f280",
   "metadata": {
    "execution": {
     "iopub.execute_input": "2023-04-19T01:05:51.695862Z",
     "iopub.status.busy": "2023-04-19T01:05:51.695388Z",
     "iopub.status.idle": "2023-04-19T01:05:56.801254Z",
     "shell.execute_reply": "2023-04-19T01:05:56.799510Z"
    },
    "papermill": {
     "duration": 5.117903,
     "end_time": "2023-04-19T01:05:56.805177",
     "exception": false,
     "start_time": "2023-04-19T01:05:51.687274",
     "status": "completed"
    },
    "tags": []
   },
   "outputs": [
    {
     "name": "stderr",
     "output_type": "stream",
     "text": [
      "Special tokens have been added in the vocabulary, make sure the associated word embeddings are fine-tuned or trained.\n"
     ]
    }
   ],
   "source": [
    "model = AutoModelForSeq2SeqLM.from_pretrained(MODEL_CHECKPOINT, config=config)\n",
    "tokenizer = AutoTokenizer.from_pretrained(MODEL_CHECKPOINT)\n",
    "metric = load_metric(METRIC_NAME)"
   ]
  },
  {
   "cell_type": "markdown",
   "id": "b24f1912",
   "metadata": {
    "papermill": {
     "duration": 0.006293,
     "end_time": "2023-04-19T01:05:56.825742",
     "exception": false,
     "start_time": "2023-04-19T01:05:56.819449",
     "status": "completed"
    },
    "tags": []
   },
   "source": [
    "# Functions"
   ]
  },
  {
   "cell_type": "code",
   "execution_count": 9,
   "id": "3709fa43",
   "metadata": {
    "execution": {
     "iopub.execute_input": "2023-04-19T01:05:56.840369Z",
     "iopub.status.busy": "2023-04-19T01:05:56.839824Z",
     "iopub.status.idle": "2023-04-19T01:05:56.856388Z",
     "shell.execute_reply": "2023-04-19T01:05:56.854981Z"
    },
    "papermill": {
     "duration": 0.02763,
     "end_time": "2023-04-19T01:05:56.859599",
     "exception": false,
     "start_time": "2023-04-19T01:05:56.831969",
     "status": "completed"
    },
    "tags": []
   },
   "outputs": [],
   "source": [
    "prefix = \"generate keyphrases: \"\n",
    "\n",
    "max_input_length = 1024\n",
    "max_target_length = 64\n",
    "\n",
    "def preprocess_function(examples):\n",
    "    inputs = [prefix + doc for doc in examples[\"input_text\"]]\n",
    "    model_inputs = tokenizer(inputs, max_length=max_input_length, truncation=True)\n",
    "\n",
    "    labels = tokenizer(examples[\"target_text\"], max_length=max_target_length, truncation=True)\n",
    "\n",
    "    model_inputs[\"labels\"] = labels[\"input_ids\"]\n",
    "    return model_inputs"
   ]
  },
  {
   "cell_type": "code",
   "execution_count": 10,
   "id": "3845c1e4",
   "metadata": {
    "execution": {
     "iopub.execute_input": "2023-04-19T01:05:56.877065Z",
     "iopub.status.busy": "2023-04-19T01:05:56.876574Z",
     "iopub.status.idle": "2023-04-19T01:05:56.883424Z",
     "shell.execute_reply": "2023-04-19T01:05:56.882301Z"
    },
    "papermill": {
     "duration": 0.017521,
     "end_time": "2023-04-19T01:05:56.885305",
     "exception": false,
     "start_time": "2023-04-19T01:05:56.867784",
     "status": "completed"
    },
    "tags": []
   },
   "outputs": [],
   "source": [
    "# def compute_metrics(eval_pred):\n",
    "#     predictions, labels = eval_pred\n",
    "#     predictions = np.where(predictions != -100, predictions, tokenizer.pad_token_id)\n",
    "#     decoded_preds = tokenizer.batch_decode(predictions, skip_special_tokens=True)\n",
    "#     # Replace -100 in the labels as we can't decode them.\n",
    "#     labels = np.where(labels != -100, labels, tokenizer.pad_token_id)\n",
    "#     decoded_labels = tokenizer.batch_decode(labels, skip_special_tokens=True)\n",
    "    \n",
    "#     # Rouge expects a newline after each sentence\n",
    "#     decoded_preds = [\"\\n\".join(nltk.sent_tokenize(pred.strip())) for pred in decoded_preds]\n",
    "#     decoded_labels = [\"\\n\".join(nltk.sent_tokenize(label.strip())) for label in decoded_labels]\n",
    "    \n",
    "#     result = metric.compute(predictions=decoded_preds, references=decoded_labels, use_stemmer=True)\n",
    "#     # Extract a few results\n",
    "#     result = {key: value.mid.fmeasure * 100 for key, value in result.items()}\n",
    "    \n",
    "#     # Add mean generated length\n",
    "#     prediction_lens = [np.count_nonzero(pred != tokenizer.pad_token_id) for pred in predictions]\n",
    "#     result[\"gen_len\"] = np.mean(prediction_lens)\n",
    "    \n",
    "#     return {k: round(v, 4) for k, v in result.items()}"
   ]
  },
  {
   "cell_type": "markdown",
   "id": "1c9026a1",
   "metadata": {
    "papermill": {
     "duration": 0.007257,
     "end_time": "2023-04-19T01:05:56.902085",
     "exception": false,
     "start_time": "2023-04-19T01:05:56.894828",
     "status": "completed"
    },
    "tags": []
   },
   "source": [
    "# Inputs and Labels"
   ]
  },
  {
   "cell_type": "code",
   "execution_count": 11,
   "id": "999f12e1",
   "metadata": {
    "execution": {
     "iopub.execute_input": "2023-04-19T01:05:56.916990Z",
     "iopub.status.busy": "2023-04-19T01:05:56.916013Z",
     "iopub.status.idle": "2023-04-19T01:05:56.997288Z",
     "shell.execute_reply": "2023-04-19T01:05:56.996007Z"
    },
    "papermill": {
     "duration": 0.091868,
     "end_time": "2023-04-19T01:05:57.000304",
     "exception": false,
     "start_time": "2023-04-19T01:05:56.908436",
     "status": "completed"
    },
    "tags": []
   },
   "outputs": [],
   "source": [
    "data_df = pd.read_pickle(DATA_PATH)"
   ]
  },
  {
   "cell_type": "code",
   "execution_count": 12,
   "id": "ffc378dc",
   "metadata": {
    "execution": {
     "iopub.execute_input": "2023-04-19T01:05:57.023728Z",
     "iopub.status.busy": "2023-04-19T01:05:57.022528Z",
     "iopub.status.idle": "2023-04-19T01:05:57.154936Z",
     "shell.execute_reply": "2023-04-19T01:05:57.153773Z"
    },
    "papermill": {
     "duration": 0.142685,
     "end_time": "2023-04-19T01:05:57.157621",
     "exception": false,
     "start_time": "2023-04-19T01:05:57.014936",
     "status": "completed"
    },
    "tags": []
   },
   "outputs": [],
   "source": [
    "dataset = Dataset.from_pandas(data_df).shuffle(seed=100).train_test_split(0.2, seed=100)\n",
    "train_dataset = dataset['train']\n",
    "eval_dataset = dataset['test']"
   ]
  },
  {
   "cell_type": "code",
   "execution_count": 13,
   "id": "7985212d",
   "metadata": {
    "execution": {
     "iopub.execute_input": "2023-04-19T01:05:57.177762Z",
     "iopub.status.busy": "2023-04-19T01:05:57.177281Z",
     "iopub.status.idle": "2023-04-19T01:06:09.331193Z",
     "shell.execute_reply": "2023-04-19T01:06:09.329965Z"
    },
    "papermill": {
     "duration": 12.1638,
     "end_time": "2023-04-19T01:06:09.333347",
     "exception": false,
     "start_time": "2023-04-19T01:05:57.169547",
     "status": "completed"
    },
    "tags": []
   },
   "outputs": [
    {
     "data": {
      "application/vnd.jupyter.widget-view+json": {
       "model_id": "6c30ea6a7a874aa1b252aa6d2055a77e",
       "version_major": 2,
       "version_minor": 0
      },
      "text/plain": [
       "Map (num_proc=64):   0%|          | 0/9346 [00:00<?, ? examples/s]"
      ]
     },
     "metadata": {},
     "output_type": "display_data"
    },
    {
     "data": {
      "application/vnd.jupyter.widget-view+json": {
       "model_id": "b6a22dc2552247d69316d5a326342b1d",
       "version_major": 2,
       "version_minor": 0
      },
      "text/plain": [
       "Map (num_proc=64):   0%|          | 0/2337 [00:00<?, ? examples/s]"
      ]
     },
     "metadata": {},
     "output_type": "display_data"
    },
    {
     "name": "stdout",
     "output_type": "stream",
     "text": [
      "Dataset({\n",
      "    features: ['input_ids', 'attention_mask', 'labels'],\n",
      "    num_rows: 9346\n",
      "})\n",
      "Dataset({\n",
      "    features: ['input_ids', 'attention_mask', 'labels'],\n",
      "    num_rows: 2337\n",
      "})\n"
     ]
    }
   ],
   "source": [
    "train_dataset = train_dataset.map(preprocess_function, \n",
    "                                  batched=True, \n",
    "                                  num_proc=NCPU, \n",
    "                                  remove_columns=train_dataset.column_names)\n",
    "\n",
    "eval_dataset = eval_dataset.map(preprocess_function, \n",
    "                                batched=True, \n",
    "                                num_proc=NCPU, \n",
    "                                remove_columns=eval_dataset.column_names)\n",
    "print(train_dataset)\n",
    "print(eval_dataset)"
   ]
  },
  {
   "cell_type": "code",
   "execution_count": 14,
   "id": "fc71fe09",
   "metadata": {
    "execution": {
     "iopub.execute_input": "2023-04-19T01:06:09.353647Z",
     "iopub.status.busy": "2023-04-19T01:06:09.352497Z",
     "iopub.status.idle": "2023-04-19T01:06:12.180230Z",
     "shell.execute_reply": "2023-04-19T01:06:12.178848Z"
    },
    "papermill": {
     "duration": 2.839749,
     "end_time": "2023-04-19T01:06:12.183601",
     "exception": false,
     "start_time": "2023-04-19T01:06:09.343852",
     "status": "completed"
    },
    "tags": []
   },
   "outputs": [
    {
     "data": {
      "text/plain": [
       "'generate keyphrases: \"로페테기가 좋아하는 황희찬, 리즈전 선발 가능성 있어\" 복귀전에서 득점을 한 황희찬은 선발 출전을 대기하고 있다.울버햄튼은 19일 오전 0시(한국시간) 영국 울버햄튼에 위치한 몰리뉴 스타디움에서 리즈 유나이티드와 2022-23시즌 잉글리시 프리미어리그(EPL) 28라운드를 치른다. 울버햄튼은 13위, 리즈는 19위에 위치 중이다.영국 \\'익스프레스 앤 스타\\'는 울버햄튼, 리즈 경기를 프리뷰하면서 \"홈 팬들은 시작부터 공격적이고 강렬한 경기를 원한다. 훌렌 로페테기 감독은 때로는 보수적인 방식으로 접근을 했다. 홈 팬들 앞에서는 달라야 한다. 공격진 변화가 예상되는 황희찬이 선발로 나설 수 있다\"고 전했다.황희찬은 브루노 라즈 감독 아래에선 벤치 신세였다. 로페테기 감독이 온 후엔 달랐다. 득점 수는 적어도 기동력과 저돌적인 황희찬을 선호했다. 경기력으로 응답했다. 2022 국제축구연맹(FIFA) 카타르 월드컵에서 활약으로 자신감까지 올랐다. 좋은 활약을 이어가던 황희찬은 리버풀전에서 부상을 당해 한동안 빠졌다.재활 기간을 거친 황희찬은 지난 뉴캐슬 유나이티드전에 복귀를 했는데 골을 넣었다. 0-1로 뒤지던 후반 24분 들어와 후반 25분 집중력 있는 모습으로 뉴캐슬 골망을 흔들었다. 경기는 울버햄튼의 1-2 패배로 끝이 났지만 황희찬에겐 고무적인 날이었다. 이날 골로 황희찬은 리그 1호 득점에 성공했고 EPL에선 무려 13개월 만에 골 맛을 봤다. 부상 불운을 골로 보답을 받는 날이었다.\\'익스프레스 앤 스타\\'는 \"로페테기 감독은 황희찬을 정말 좋아한다. 근면한 모습과 라울 히메네스를 대체할 수 있는 능력이 있어 리즈전에 선발로 택할 수 있다. 지난 주말 햄스트링 부상에서 돌아온 황희찬은 뉴캐슬을 상대로 골을 넣었다. 황희찬이 선발로 나오면 레프트백 라얀 아이트-누리와 같이 가능성이 높다\"고 구체적인 전망을 내놓았다.울버햄튼 순위는 13위지만 강등권인 18위 본머스와 승점 3점차밖에 안 난다. 리즈전 필승이 요구되는 이유다. 뉴캐슬전에선 골을 넣고도 웃지 못한 황희찬이 리즈전에선 선발 출전, 득점, 팀 승리까지 모두 얻을지 관심이 크다.기사제공 인터풋볼신동훈 기자 hun7599@interfootball.co.krCopyright c 인터풋볼. All rights reserved. 무단 전재 및 재배포 금지.기사 섹션 분류 가이드포포투 FourFourTwo 잡지 정기 구독하기</s>'"
      ]
     },
     "execution_count": 14,
     "metadata": {},
     "output_type": "execute_result"
    }
   ],
   "source": [
    "tokenizer.decode(train_dataset['input_ids'][0])"
   ]
  },
  {
   "cell_type": "code",
   "execution_count": 15,
   "id": "38dab692",
   "metadata": {
    "execution": {
     "iopub.execute_input": "2023-04-19T01:06:12.207817Z",
     "iopub.status.busy": "2023-04-19T01:06:12.206025Z",
     "iopub.status.idle": "2023-04-19T01:06:12.403179Z",
     "shell.execute_reply": "2023-04-19T01:06:12.402127Z"
    },
    "papermill": {
     "duration": 0.20923,
     "end_time": "2023-04-19T01:06:12.406350",
     "exception": false,
     "start_time": "2023-04-19T01:06:12.197120",
     "status": "completed"
    },
    "tags": []
   },
   "outputs": [
    {
     "data": {
      "text/plain": [
       "'로페테기; 황희찬; 선발 출전; 울버햄튼; 리즈전; EPL; 득점; 복귀전; 한동안; 부상</s>'"
      ]
     },
     "execution_count": 15,
     "metadata": {},
     "output_type": "execute_result"
    }
   ],
   "source": [
    "tokenizer.decode(train_dataset['labels'][0])"
   ]
  },
  {
   "cell_type": "markdown",
   "id": "f0f12c1b",
   "metadata": {
    "papermill": {
     "duration": 0.00727,
     "end_time": "2023-04-19T01:06:12.425095",
     "exception": false,
     "start_time": "2023-04-19T01:06:12.417825",
     "status": "completed"
    },
    "tags": []
   },
   "source": [
    "# Train"
   ]
  },
  {
   "cell_type": "code",
   "execution_count": 16,
   "id": "94780a0c",
   "metadata": {
    "execution": {
     "iopub.execute_input": "2023-04-19T01:06:12.441464Z",
     "iopub.status.busy": "2023-04-19T01:06:12.440980Z",
     "iopub.status.idle": "2023-04-19T01:06:12.458205Z",
     "shell.execute_reply": "2023-04-19T01:06:12.456986Z"
    },
    "papermill": {
     "duration": 0.028851,
     "end_time": "2023-04-19T01:06:12.461073",
     "exception": false,
     "start_time": "2023-04-19T01:06:12.432222",
     "status": "completed"
    },
    "tags": []
   },
   "outputs": [],
   "source": [
    "training_args = Seq2SeqTrainingArguments(\n",
    "    output_dir=output_dir,\n",
    "    run_name=run_name,\n",
    "    report_to=report_to,\n",
    "\n",
    "    num_train_epochs=num_train_epochs,\n",
    "    per_device_train_batch_size=per_device_train_batch_size,\n",
    "    per_device_eval_batch_size=per_device_eval_batch_size,\n",
    "    gradient_accumulation_steps=gradient_accumulation_steps,\n",
    "\n",
    "    optim=optim,\n",
    "\n",
    "    learning_rate=learning_rate,\n",
    "    weight_decay=weight_decay,\n",
    "    adam_epsilon=adam_epsilon,\n",
    "\n",
    "    lr_scheduler_type=lr_scheduler_type,\n",
    "    warmup_ratio=warmup_ratio,\n",
    "\n",
    "    save_total_limit=save_total_limit,\n",
    "\n",
    "    load_best_model_at_end=load_best_model_at_end,\n",
    "    metric_for_best_model=metric_for_best_model,\n",
    "\n",
    "    save_strategy=save_strategy,\n",
    "    evaluation_strategy=evaluation_strategy,\n",
    "\n",
    "    logging_strategy=logging_strategy,\n",
    "    logging_first_step=logging_first_step, \n",
    "    logging_steps=logging_steps,\n",
    "\n",
    "    predict_with_generate=predict_with_generate,\n",
    "    generation_max_length=generation_max_length,\n",
    "    # generation_num_beams=generation_num_beams,\n",
    "\n",
    "    fp16=fp16,\n",
    ")"
   ]
  },
  {
   "cell_type": "code",
   "execution_count": 17,
   "id": "3af56b40",
   "metadata": {
    "execution": {
     "iopub.execute_input": "2023-04-19T01:06:12.484638Z",
     "iopub.status.busy": "2023-04-19T01:06:12.484159Z",
     "iopub.status.idle": "2023-04-19T01:06:13.681927Z",
     "shell.execute_reply": "2023-04-19T01:06:13.680580Z"
    },
    "papermill": {
     "duration": 1.209554,
     "end_time": "2023-04-19T01:06:13.685207",
     "exception": false,
     "start_time": "2023-04-19T01:06:12.475653",
     "status": "completed"
    },
    "tags": []
   },
   "outputs": [],
   "source": [
    "data_collator = DataCollatorForSeq2Seq(tokenizer=tokenizer, model=model, padding=True)\n",
    "\n",
    "trainer = Seq2SeqTrainer(\n",
    "    model=model,\n",
    "    \n",
    "    args=training_args,\n",
    "    \n",
    "    train_dataset=train_dataset,\n",
    "    eval_dataset=eval_dataset,\n",
    "    \n",
    "    tokenizer=tokenizer,\n",
    "    data_collator=data_collator,\n",
    "    \n",
    "    # compute_metrics=compute_metrics,\n",
    ")"
   ]
  },
  {
   "cell_type": "code",
   "execution_count": 18,
   "id": "8d271d8b",
   "metadata": {
    "execution": {
     "iopub.execute_input": "2023-04-19T01:06:13.709038Z",
     "iopub.status.busy": "2023-04-19T01:06:13.708532Z",
     "iopub.status.idle": "2023-04-19T02:49:21.938123Z",
     "shell.execute_reply": "2023-04-19T02:49:21.936666Z"
    },
    "papermill": {
     "duration": 6186.019084,
     "end_time": "2023-04-19T02:49:19.718958",
     "exception": false,
     "start_time": "2023-04-19T01:06:13.699874",
     "status": "completed"
    },
    "tags": []
   },
   "outputs": [
    {
     "data": {
      "text/html": [
       "wandb version 0.14.2 is available!  To upgrade, please run:\n",
       " $ pip install wandb --upgrade"
      ],
      "text/plain": [
       "<IPython.core.display.HTML object>"
      ]
     },
     "metadata": {},
     "output_type": "display_data"
    },
    {
     "data": {
      "text/html": [
       "Tracking run with wandb version 0.13.11"
      ],
      "text/plain": [
       "<IPython.core.display.HTML object>"
      ]
     },
     "metadata": {},
     "output_type": "display_data"
    },
    {
     "data": {
      "text/html": [
       "Run data is saved locally in <code>/workspace/news-topic-keyphrase-generation-model-dev/wandb/run-20230419_100613-pn2e1hc1</code>"
      ],
      "text/plain": [
       "<IPython.core.display.HTML object>"
      ]
     },
     "metadata": {},
     "output_type": "display_data"
    },
    {
     "data": {
      "text/html": [
       "Syncing run <strong><a href='https://wandb.ai/dotsnangles/news-topic-keyphrase-generation-model-dev/runs/pn2e1hc1' target=\"_blank\">paust_pko_t5_base_v3_run_4</a></strong> to <a href='https://wandb.ai/dotsnangles/news-topic-keyphrase-generation-model-dev' target=\"_blank\">Weights & Biases</a> (<a href='https://wandb.me/run' target=\"_blank\">docs</a>)<br/>"
      ],
      "text/plain": [
       "<IPython.core.display.HTML object>"
      ]
     },
     "metadata": {},
     "output_type": "display_data"
    },
    {
     "data": {
      "text/html": [
       " View project at <a href='https://wandb.ai/dotsnangles/news-topic-keyphrase-generation-model-dev' target=\"_blank\">https://wandb.ai/dotsnangles/news-topic-keyphrase-generation-model-dev</a>"
      ],
      "text/plain": [
       "<IPython.core.display.HTML object>"
      ]
     },
     "metadata": {},
     "output_type": "display_data"
    },
    {
     "data": {
      "text/html": [
       " View run at <a href='https://wandb.ai/dotsnangles/news-topic-keyphrase-generation-model-dev/runs/pn2e1hc1' target=\"_blank\">https://wandb.ai/dotsnangles/news-topic-keyphrase-generation-model-dev/runs/pn2e1hc1</a>"
      ],
      "text/plain": [
       "<IPython.core.display.HTML object>"
      ]
     },
     "metadata": {},
     "output_type": "display_data"
    },
    {
     "name": "stderr",
     "output_type": "stream",
     "text": [
      "You're using a T5TokenizerFast tokenizer. Please note that with a fast tokenizer, using the `__call__` method is faster than using a method to encode the text followed by a call to the `pad` method to get a padded encoding.\n"
     ]
    },
    {
     "data": {
      "text/html": [
       "\n",
       "    <div>\n",
       "      \n",
       "      <progress value='1521' max='11700' style='width:300px; height:20px; vertical-align: middle;'></progress>\n",
       "      [ 1521/11700 1:42:51 < 11:29:13, 0.25 it/s, Epoch 3.90/30]\n",
       "    </div>\n",
       "    <table border=\"1\" class=\"dataframe\">\n",
       "  <thead>\n",
       " <tr style=\"text-align: left;\">\n",
       "      <th>Epoch</th>\n",
       "      <th>Training Loss</th>\n",
       "      <th>Validation Loss</th>\n",
       "    </tr>\n",
       "  </thead>\n",
       "  <tbody>\n",
       "    <tr>\n",
       "      <td>1</td>\n",
       "      <td>0.975600</td>\n",
       "      <td>0.902126</td>\n",
       "    </tr>\n",
       "    <tr>\n",
       "      <td>2</td>\n",
       "      <td>0.787600</td>\n",
       "      <td>0.857710</td>\n",
       "    </tr>\n",
       "    <tr>\n",
       "      <td>3</td>\n",
       "      <td>0.650200</td>\n",
       "      <td>0.885054</td>\n",
       "    </tr>\n",
       "  </tbody>\n",
       "</table><p>"
      ],
      "text/plain": [
       "<IPython.core.display.HTML object>"
      ]
     },
     "metadata": {},
     "output_type": "display_data"
    },
    {
     "ename": "KeyboardInterrupt",
     "evalue": "",
     "output_type": "error",
     "traceback": [
      "\u001b[0;31m---------------------------------------------------------------------------\u001b[0m",
      "\u001b[0;31mKeyboardInterrupt\u001b[0m                         Traceback (most recent call last)",
      "Cell \u001b[0;32mIn[18], line 1\u001b[0m\n\u001b[0;32m----> 1\u001b[0m \u001b[43mtrainer\u001b[49m\u001b[38;5;241;43m.\u001b[39;49m\u001b[43mtrain\u001b[49m\u001b[43m(\u001b[49m\u001b[43m)\u001b[49m\n\u001b[1;32m      2\u001b[0m wandb\u001b[38;5;241m.\u001b[39mfinish()\n",
      "File \u001b[0;32m/workspace/news-topic-keyphrase-generation-model-dev/.venv/lib/python3.9/site-packages/transformers/trainer.py:1662\u001b[0m, in \u001b[0;36mTrainer.train\u001b[0;34m(self, resume_from_checkpoint, trial, ignore_keys_for_eval, **kwargs)\u001b[0m\n\u001b[1;32m   1657\u001b[0m     \u001b[38;5;28mself\u001b[39m\u001b[38;5;241m.\u001b[39mmodel_wrapped \u001b[38;5;241m=\u001b[39m \u001b[38;5;28mself\u001b[39m\u001b[38;5;241m.\u001b[39mmodel\n\u001b[1;32m   1659\u001b[0m inner_training_loop \u001b[38;5;241m=\u001b[39m find_executable_batch_size(\n\u001b[1;32m   1660\u001b[0m     \u001b[38;5;28mself\u001b[39m\u001b[38;5;241m.\u001b[39m_inner_training_loop, \u001b[38;5;28mself\u001b[39m\u001b[38;5;241m.\u001b[39m_train_batch_size, args\u001b[38;5;241m.\u001b[39mauto_find_batch_size\n\u001b[1;32m   1661\u001b[0m )\n\u001b[0;32m-> 1662\u001b[0m \u001b[38;5;28;01mreturn\u001b[39;00m \u001b[43minner_training_loop\u001b[49m\u001b[43m(\u001b[49m\n\u001b[1;32m   1663\u001b[0m \u001b[43m    \u001b[49m\u001b[43margs\u001b[49m\u001b[38;5;241;43m=\u001b[39;49m\u001b[43margs\u001b[49m\u001b[43m,\u001b[49m\n\u001b[1;32m   1664\u001b[0m \u001b[43m    \u001b[49m\u001b[43mresume_from_checkpoint\u001b[49m\u001b[38;5;241;43m=\u001b[39;49m\u001b[43mresume_from_checkpoint\u001b[49m\u001b[43m,\u001b[49m\n\u001b[1;32m   1665\u001b[0m \u001b[43m    \u001b[49m\u001b[43mtrial\u001b[49m\u001b[38;5;241;43m=\u001b[39;49m\u001b[43mtrial\u001b[49m\u001b[43m,\u001b[49m\n\u001b[1;32m   1666\u001b[0m \u001b[43m    \u001b[49m\u001b[43mignore_keys_for_eval\u001b[49m\u001b[38;5;241;43m=\u001b[39;49m\u001b[43mignore_keys_for_eval\u001b[49m\u001b[43m,\u001b[49m\n\u001b[1;32m   1667\u001b[0m \u001b[43m\u001b[49m\u001b[43m)\u001b[49m\n",
      "File \u001b[0;32m/workspace/news-topic-keyphrase-generation-model-dev/.venv/lib/python3.9/site-packages/transformers/trainer.py:1929\u001b[0m, in \u001b[0;36mTrainer._inner_training_loop\u001b[0;34m(self, batch_size, args, resume_from_checkpoint, trial, ignore_keys_for_eval)\u001b[0m\n\u001b[1;32m   1927\u001b[0m         tr_loss_step \u001b[38;5;241m=\u001b[39m \u001b[38;5;28mself\u001b[39m\u001b[38;5;241m.\u001b[39mtraining_step(model, inputs)\n\u001b[1;32m   1928\u001b[0m \u001b[38;5;28;01melse\u001b[39;00m:\n\u001b[0;32m-> 1929\u001b[0m     tr_loss_step \u001b[38;5;241m=\u001b[39m \u001b[38;5;28;43mself\u001b[39;49m\u001b[38;5;241;43m.\u001b[39;49m\u001b[43mtraining_step\u001b[49m\u001b[43m(\u001b[49m\u001b[43mmodel\u001b[49m\u001b[43m,\u001b[49m\u001b[43m \u001b[49m\u001b[43minputs\u001b[49m\u001b[43m)\u001b[49m\n\u001b[1;32m   1931\u001b[0m \u001b[38;5;28;01mif\u001b[39;00m (\n\u001b[1;32m   1932\u001b[0m     args\u001b[38;5;241m.\u001b[39mlogging_nan_inf_filter\n\u001b[1;32m   1933\u001b[0m     \u001b[38;5;129;01mand\u001b[39;00m \u001b[38;5;129;01mnot\u001b[39;00m is_torch_tpu_available()\n\u001b[1;32m   1934\u001b[0m     \u001b[38;5;129;01mand\u001b[39;00m (torch\u001b[38;5;241m.\u001b[39misnan(tr_loss_step) \u001b[38;5;129;01mor\u001b[39;00m torch\u001b[38;5;241m.\u001b[39misinf(tr_loss_step))\n\u001b[1;32m   1935\u001b[0m ):\n\u001b[1;32m   1936\u001b[0m     \u001b[38;5;66;03m# if loss is nan or inf simply add the average of previous logged losses\u001b[39;00m\n\u001b[1;32m   1937\u001b[0m     tr_loss \u001b[38;5;241m+\u001b[39m\u001b[38;5;241m=\u001b[39m tr_loss \u001b[38;5;241m/\u001b[39m (\u001b[38;5;241m1\u001b[39m \u001b[38;5;241m+\u001b[39m \u001b[38;5;28mself\u001b[39m\u001b[38;5;241m.\u001b[39mstate\u001b[38;5;241m.\u001b[39mglobal_step \u001b[38;5;241m-\u001b[39m \u001b[38;5;28mself\u001b[39m\u001b[38;5;241m.\u001b[39m_globalstep_last_logged)\n",
      "File \u001b[0;32m/workspace/news-topic-keyphrase-generation-model-dev/.venv/lib/python3.9/site-packages/transformers/trainer.py:2717\u001b[0m, in \u001b[0;36mTrainer.training_step\u001b[0;34m(self, model, inputs)\u001b[0m\n\u001b[1;32m   2715\u001b[0m     loss \u001b[38;5;241m=\u001b[39m \u001b[38;5;28mself\u001b[39m\u001b[38;5;241m.\u001b[39mdeepspeed\u001b[38;5;241m.\u001b[39mbackward(loss)\n\u001b[1;32m   2716\u001b[0m \u001b[38;5;28;01melse\u001b[39;00m:\n\u001b[0;32m-> 2717\u001b[0m     \u001b[43mloss\u001b[49m\u001b[38;5;241;43m.\u001b[39;49m\u001b[43mbackward\u001b[49m\u001b[43m(\u001b[49m\u001b[43m)\u001b[49m\n\u001b[1;32m   2719\u001b[0m \u001b[38;5;28;01mreturn\u001b[39;00m loss\u001b[38;5;241m.\u001b[39mdetach()\n",
      "File \u001b[0;32m/workspace/news-topic-keyphrase-generation-model-dev/.venv/lib/python3.9/site-packages/torch/_tensor.py:488\u001b[0m, in \u001b[0;36mTensor.backward\u001b[0;34m(self, gradient, retain_graph, create_graph, inputs)\u001b[0m\n\u001b[1;32m    478\u001b[0m \u001b[38;5;28;01mif\u001b[39;00m has_torch_function_unary(\u001b[38;5;28mself\u001b[39m):\n\u001b[1;32m    479\u001b[0m     \u001b[38;5;28;01mreturn\u001b[39;00m handle_torch_function(\n\u001b[1;32m    480\u001b[0m         Tensor\u001b[38;5;241m.\u001b[39mbackward,\n\u001b[1;32m    481\u001b[0m         (\u001b[38;5;28mself\u001b[39m,),\n\u001b[0;32m   (...)\u001b[0m\n\u001b[1;32m    486\u001b[0m         inputs\u001b[38;5;241m=\u001b[39minputs,\n\u001b[1;32m    487\u001b[0m     )\n\u001b[0;32m--> 488\u001b[0m \u001b[43mtorch\u001b[49m\u001b[38;5;241;43m.\u001b[39;49m\u001b[43mautograd\u001b[49m\u001b[38;5;241;43m.\u001b[39;49m\u001b[43mbackward\u001b[49m\u001b[43m(\u001b[49m\n\u001b[1;32m    489\u001b[0m \u001b[43m    \u001b[49m\u001b[38;5;28;43mself\u001b[39;49m\u001b[43m,\u001b[49m\u001b[43m \u001b[49m\u001b[43mgradient\u001b[49m\u001b[43m,\u001b[49m\u001b[43m \u001b[49m\u001b[43mretain_graph\u001b[49m\u001b[43m,\u001b[49m\u001b[43m \u001b[49m\u001b[43mcreate_graph\u001b[49m\u001b[43m,\u001b[49m\u001b[43m \u001b[49m\u001b[43minputs\u001b[49m\u001b[38;5;241;43m=\u001b[39;49m\u001b[43minputs\u001b[49m\n\u001b[1;32m    490\u001b[0m \u001b[43m\u001b[49m\u001b[43m)\u001b[49m\n",
      "File \u001b[0;32m/workspace/news-topic-keyphrase-generation-model-dev/.venv/lib/python3.9/site-packages/torch/autograd/__init__.py:197\u001b[0m, in \u001b[0;36mbackward\u001b[0;34m(tensors, grad_tensors, retain_graph, create_graph, grad_variables, inputs)\u001b[0m\n\u001b[1;32m    192\u001b[0m     retain_graph \u001b[38;5;241m=\u001b[39m create_graph\n\u001b[1;32m    194\u001b[0m \u001b[38;5;66;03m# The reason we repeat same the comment below is that\u001b[39;00m\n\u001b[1;32m    195\u001b[0m \u001b[38;5;66;03m# some Python versions print out the first line of a multi-line function\u001b[39;00m\n\u001b[1;32m    196\u001b[0m \u001b[38;5;66;03m# calls in the traceback and some print out the last line\u001b[39;00m\n\u001b[0;32m--> 197\u001b[0m \u001b[43mVariable\u001b[49m\u001b[38;5;241;43m.\u001b[39;49m\u001b[43m_execution_engine\u001b[49m\u001b[38;5;241;43m.\u001b[39;49m\u001b[43mrun_backward\u001b[49m\u001b[43m(\u001b[49m\u001b[43m  \u001b[49m\u001b[38;5;66;43;03m# Calls into the C++ engine to run the backward pass\u001b[39;49;00m\n\u001b[1;32m    198\u001b[0m \u001b[43m    \u001b[49m\u001b[43mtensors\u001b[49m\u001b[43m,\u001b[49m\u001b[43m \u001b[49m\u001b[43mgrad_tensors_\u001b[49m\u001b[43m,\u001b[49m\u001b[43m \u001b[49m\u001b[43mretain_graph\u001b[49m\u001b[43m,\u001b[49m\u001b[43m \u001b[49m\u001b[43mcreate_graph\u001b[49m\u001b[43m,\u001b[49m\u001b[43m \u001b[49m\u001b[43minputs\u001b[49m\u001b[43m,\u001b[49m\n\u001b[1;32m    199\u001b[0m \u001b[43m    \u001b[49m\u001b[43mallow_unreachable\u001b[49m\u001b[38;5;241;43m=\u001b[39;49m\u001b[38;5;28;43;01mTrue\u001b[39;49;00m\u001b[43m,\u001b[49m\u001b[43m \u001b[49m\u001b[43maccumulate_grad\u001b[49m\u001b[38;5;241;43m=\u001b[39;49m\u001b[38;5;28;43;01mTrue\u001b[39;49;00m\u001b[43m)\u001b[49m\n",
      "\u001b[0;31mKeyboardInterrupt\u001b[0m: "
     ]
    }
   ],
   "source": [
    "trainer.train()\n",
    "wandb.finish()"
   ]
  },
  {
   "cell_type": "code",
   "execution_count": null,
   "id": "4348f979",
   "metadata": {
    "papermill": {
     "duration": null,
     "end_time": null,
     "exception": null,
     "start_time": null,
     "status": "completed"
    },
    "tags": []
   },
   "outputs": [],
   "source": [
    "keep = [\n",
    "    'added_tokens.json',\n",
    "    'config.json',\n",
    "    'pytorch_model.bin',\n",
    "    'special_tokens_map.json',\n",
    "    'tokenizer.json',\n",
    "    'tokenizer_config.json',\n",
    "    'vocab.txt'\n",
    "]\n",
    "\n",
    "ckpts = os.listdir(output_dir)\n",
    "for ckpt in ckpts:\n",
    "    ckpt = os.path.join(output_dir, ckpt)\n",
    "    for item in os.listdir(ckpt):\n",
    "        if item not in keep:\n",
    "            os.remove(os.path.join(ckpt, item))"
   ]
  },
  {
   "cell_type": "markdown",
   "id": "efc8ac61",
   "metadata": {
    "papermill": {
     "duration": null,
     "end_time": null,
     "exception": null,
     "start_time": null,
     "status": "completed"
    },
    "tags": []
   },
   "source": [
    "# Generate"
   ]
  },
  {
   "cell_type": "code",
   "execution_count": null,
   "id": "ff2328b7",
   "metadata": {
    "papermill": {
     "duration": null,
     "end_time": null,
     "exception": null,
     "start_time": null,
     "status": "completed"
    },
    "tags": []
   },
   "outputs": [],
   "source": [
    "# preds = trainer.predict(eval_dataset)"
   ]
  },
  {
   "cell_type": "code",
   "execution_count": null,
   "id": "849368c3",
   "metadata": {
    "papermill": {
     "duration": null,
     "end_time": null,
     "exception": null,
     "start_time": null,
     "status": "completed"
    },
    "tags": []
   },
   "outputs": [],
   "source": [
    "# preds.metrics"
   ]
  },
  {
   "cell_type": "code",
   "execution_count": null,
   "id": "52cc3aff",
   "metadata": {
    "papermill": {
     "duration": null,
     "end_time": null,
     "exception": null,
     "start_time": null,
     "status": "completed"
    },
    "tags": []
   },
   "outputs": [],
   "source": [
    "# for data, pred in zip(eval_dataset, preds.predictions):\n",
    "#     pred = np.where(pred != -100, pred, tokenizer.pad_token_id)\n",
    "#     # context = tokenizer.decode(data['input_ids'], skip_special_tokens=True)\n",
    "#     summary = tokenizer.decode(data['labels'], skip_special_tokens=True)\n",
    "#     pred = tokenizer.decode(pred, skip_special_tokens=True)\n",
    "#     # print(f'입력: {context}')\n",
    "#     print(f'정답: {summary}')\n",
    "#     print(f'예측: {pred}', end='\\n\\n')"
   ]
  }
 ],
 "metadata": {
  "kernelspec": {
   "display_name": ".venv",
   "language": "python",
   "name": "python3"
  },
  "language_info": {
   "codemirror_mode": {
    "name": "ipython",
    "version": 3
   },
   "file_extension": ".py",
   "mimetype": "text/x-python",
   "name": "python",
   "nbconvert_exporter": "python",
   "pygments_lexer": "ipython3",
   "version": "3.9.16"
  },
  "papermill": {
   "default_parameters": {},
   "duration": 6221.392927,
   "end_time": "2023-04-19T02:49:23.895354",
   "environment_variables": {},
   "exception": null,
   "input_path": "./train_seq2seq_plm.ipynb",
   "output_path": "./papermill/paust_pko_t5_base_v3_run_4.ipynb",
   "parameters": {},
   "start_time": "2023-04-19T01:05:42.502427",
   "version": "2.4.0"
  }
 },
 "nbformat": 4,
 "nbformat_minor": 5
}