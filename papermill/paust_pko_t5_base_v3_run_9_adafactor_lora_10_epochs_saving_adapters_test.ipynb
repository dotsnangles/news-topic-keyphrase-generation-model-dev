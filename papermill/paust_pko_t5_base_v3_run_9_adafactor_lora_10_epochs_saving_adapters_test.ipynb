{
 "cells": [
  {
   "cell_type": "code",
   "execution_count": 1,
   "id": "d81582f5",
   "metadata": {
    "execution": {
     "iopub.execute_input": "2023-04-26T01:03:44.366055Z",
     "iopub.status.busy": "2023-04-26T01:03:44.365292Z",
     "iopub.status.idle": "2023-04-26T01:03:44.379202Z",
     "shell.execute_reply": "2023-04-26T01:03:44.378701Z"
    },
    "papermill": {
     "duration": 0.030458,
     "end_time": "2023-04-26T01:03:44.382069",
     "exception": false,
     "start_time": "2023-04-26T01:03:44.351611",
     "status": "completed"
    },
    "tags": []
   },
   "outputs": [],
   "source": [
    "import os\n",
    "os.environ[\"TOKENIZERS_PARALLELISM\"] = \"false\"\n",
    "os.environ[\"CUDA_DEVICE_ORDER\"]=\"PCI_BUS_ID\"  # Arrange GPU devices starting from 0\n",
    "os.environ[\"CUDA_VISIBLE_DEVICES\"]= \"0\"  # Set the GPUs to use"
   ]
  },
  {
   "cell_type": "code",
   "execution_count": 2,
   "id": "94f9181d",
   "metadata": {
    "execution": {
     "iopub.execute_input": "2023-04-26T01:03:44.399184Z",
     "iopub.status.busy": "2023-04-26T01:03:44.398745Z",
     "iopub.status.idle": "2023-04-26T01:03:48.150370Z",
     "shell.execute_reply": "2023-04-26T01:03:48.148821Z"
    },
    "papermill": {
     "duration": 3.762311,
     "end_time": "2023-04-26T01:03:48.154273",
     "exception": false,
     "start_time": "2023-04-26T01:03:44.391962",
     "status": "completed"
    },
    "tags": []
   },
   "outputs": [],
   "source": [
    "import os\n",
    "import re\n",
    "import warnings\n",
    "\n",
    "import torch\n",
    "\n",
    "from transformers import (\n",
    "    AutoConfig, AutoTokenizer, \n",
    "    AutoModelForSeq2SeqLM, Seq2SeqTrainingArguments, Seq2SeqTrainer, DataCollatorForSeq2Seq, \n",
    "    AutoModelForCausalLM, TrainingArguments, Trainer, DataCollatorForLanguageModeling\n",
    ")\n",
    "\n",
    "from peft import get_peft_model, LoraConfig, TaskType\n",
    "\n",
    "from datasets import load_from_disk\n",
    "\n",
    "import wandb\n",
    "\n",
    "warnings.filterwarnings('ignore')"
   ]
  },
  {
   "cell_type": "code",
   "execution_count": 3,
   "id": "763af1dd",
   "metadata": {
    "execution": {
     "iopub.execute_input": "2023-04-26T01:03:48.172571Z",
     "iopub.status.busy": "2023-04-26T01:03:48.171848Z",
     "iopub.status.idle": "2023-04-26T01:03:48.276850Z",
     "shell.execute_reply": "2023-04-26T01:03:48.275724Z"
    },
    "papermill": {
     "duration": 0.116336,
     "end_time": "2023-04-26T01:03:48.280732",
     "exception": false,
     "start_time": "2023-04-26T01:03:48.164396",
     "status": "completed"
    },
    "tags": []
   },
   "outputs": [
    {
     "data": {
      "text/plain": [
       "(1, 64)"
      ]
     },
     "execution_count": 3,
     "metadata": {},
     "output_type": "execute_result"
    }
   ],
   "source": [
    "NGPU = torch.cuda.device_count()\n",
    "NCPU = os.cpu_count()\n",
    "NGPU, NCPU"
   ]
  },
  {
   "cell_type": "code",
   "execution_count": 4,
   "id": "c3d08c1b",
   "metadata": {
    "execution": {
     "iopub.execute_input": "2023-04-26T01:03:48.296104Z",
     "iopub.status.busy": "2023-04-26T01:03:48.295346Z",
     "iopub.status.idle": "2023-04-26T01:03:48.404631Z",
     "shell.execute_reply": "2023-04-26T01:03:48.403451Z"
    },
    "papermill": {
     "duration": 0.118653,
     "end_time": "2023-04-26T01:03:48.406402",
     "exception": false,
     "start_time": "2023-04-26T01:03:48.287749",
     "status": "completed"
    },
    "tags": []
   },
   "outputs": [
    {
     "data": {
      "text/plain": [
       "True"
      ]
     },
     "execution_count": 4,
     "metadata": {},
     "output_type": "execute_result"
    }
   ],
   "source": [
    "torch.cuda.is_available()"
   ]
  },
  {
   "cell_type": "markdown",
   "id": "f289f759",
   "metadata": {
    "papermill": {
     "duration": 0.006268,
     "end_time": "2023-04-26T01:03:48.420800",
     "exception": false,
     "start_time": "2023-04-26T01:03:48.414532",
     "status": "completed"
    },
    "tags": []
   },
   "source": [
    "# Paths and Names"
   ]
  },
  {
   "cell_type": "code",
   "execution_count": 5,
   "id": "821df7e9",
   "metadata": {
    "execution": {
     "iopub.execute_input": "2023-04-26T01:03:48.434510Z",
     "iopub.status.busy": "2023-04-26T01:03:48.434030Z",
     "iopub.status.idle": "2023-04-26T01:03:48.691760Z",
     "shell.execute_reply": "2023-04-26T01:03:48.689630Z"
    },
    "papermill": {
     "duration": 0.268637,
     "end_time": "2023-04-26T01:03:48.695284",
     "exception": false,
     "start_time": "2023-04-26T01:03:48.426647",
     "status": "completed"
    },
    "tags": []
   },
   "outputs": [
    {
     "name": "stdout",
     "output_type": "stream",
     "text": [
      "paust_pko_t5_base_v3_run_9_adafactor_lora_10_epochs_saving_adapters_test\n",
      "./.log/paust_pko_t5_base_v3_run_9_adafactor_lora_10_epochs_saving_adapters_test\n"
     ]
    }
   ],
   "source": [
    "### paths and names\n",
    "\n",
    "PROJECT_NAME = 'news-topic-keyphrase-generation-model-dev'\n",
    "RUN_ID = 'v3_run_9_adafactor_lora_10_epochs_saving_adapters_test'\n",
    "\n",
    "TRAIN_DATA_PATH = 'data/model_dev/model_dev_v3_train.hf'\n",
    "EVAL_DATA_PATH = 'data/model_dev/model_dev_v3_eval.hf'\n",
    "\n",
    "MODEL_CHECKPOINT = 'paust/pko-t5-base'\n",
    "model_name = re.sub(r'[/-]', r'_', MODEL_CHECKPOINT).lower()\n",
    "\n",
    "NOTEBOOK_NAME = './train_seq2seq_plm.ipynb'\n",
    "\n",
    "ROOT_PATH = './'\n",
    "SAVE_PATH = os.path.join(ROOT_PATH, '.log')\n",
    "\n",
    "run_name = f'{model_name}_{RUN_ID}'\n",
    "output_dir = os.path.join(SAVE_PATH, run_name)\n",
    "\n",
    "print(run_name)\n",
    "print(output_dir)\n",
    "\n",
    "!mkdir -p {SAVE_PATH}"
   ]
  },
  {
   "cell_type": "code",
   "execution_count": 6,
   "id": "fa7b6f44",
   "metadata": {
    "execution": {
     "iopub.execute_input": "2023-04-26T01:03:48.718102Z",
     "iopub.status.busy": "2023-04-26T01:03:48.717742Z",
     "iopub.status.idle": "2023-04-26T01:03:50.758503Z",
     "shell.execute_reply": "2023-04-26T01:03:50.757050Z"
    },
    "papermill": {
     "duration": 2.053541,
     "end_time": "2023-04-26T01:03:50.762368",
     "exception": false,
     "start_time": "2023-04-26T01:03:48.708827",
     "status": "completed"
    },
    "tags": []
   },
   "outputs": [
    {
     "name": "stderr",
     "output_type": "stream",
     "text": [
      "\u001b[34m\u001b[1mwandb\u001b[0m: Currently logged in as: \u001b[33mjhpark__\u001b[0m (\u001b[33millunex_ai\u001b[0m). Use \u001b[1m`wandb login --relogin`\u001b[0m to force relogin\n"
     ]
    },
    {
     "data": {
      "text/plain": [
       "True"
      ]
     },
     "execution_count": 6,
     "metadata": {},
     "output_type": "execute_result"
    }
   ],
   "source": [
    "os.environ['WANDB_PROJECT'] = PROJECT_NAME\n",
    "os.environ['WANDB_NOTEBOOK_NAME'] = NOTEBOOK_NAME\n",
    "os.environ['WANDB_LOG_MODEL'] = 'false'\n",
    "os.environ['WANDB_WATCH'] = 'all'\n",
    "\n",
    "wandb.login()"
   ]
  },
  {
   "cell_type": "markdown",
   "id": "a617fe95",
   "metadata": {
    "papermill": {
     "duration": 0.042493,
     "end_time": "2023-04-26T01:03:50.814449",
     "exception": false,
     "start_time": "2023-04-26T01:03:50.771956",
     "status": "completed"
    },
    "tags": []
   },
   "source": [
    "# Training Args"
   ]
  },
  {
   "cell_type": "code",
   "execution_count": 7,
   "id": "a2fe07d6",
   "metadata": {
    "execution": {
     "iopub.execute_input": "2023-04-26T01:03:50.832027Z",
     "iopub.status.busy": "2023-04-26T01:03:50.831656Z",
     "iopub.status.idle": "2023-04-26T01:03:50.844604Z",
     "shell.execute_reply": "2023-04-26T01:03:50.843470Z"
    },
    "papermill": {
     "duration": 0.023399,
     "end_time": "2023-04-26T01:03:50.847410",
     "exception": false,
     "start_time": "2023-04-26T01:03:50.824011",
     "status": "completed"
    },
    "tags": []
   },
   "outputs": [],
   "source": [
    "batch_size = 8\n",
    "\n",
    "training_args = Seq2SeqTrainingArguments(\n",
    "    output_dir=output_dir,\n",
    "    run_name=run_name,\n",
    "    report_to=\"wandb\",\n",
    "\n",
    "    num_train_epochs=10,\n",
    "    per_device_train_batch_size=batch_size,\n",
    "    per_device_eval_batch_size=batch_size,\n",
    "    gradient_accumulation_steps=1,\n",
    "\n",
    "    ### AdaFactor\n",
    "    optim= 'adafactor',\n",
    "    learning_rate=3e-6 * (batch_size * NGPU) / 8,\n",
    "\n",
    "    lr_scheduler_type='linear', # 'linear', 'cosine', 'cosine_with_restarts', 'polynomial', 'constant', 'constant_with_warmup'\n",
    "    warmup_ratio=0,\n",
    "\n",
    "    # ### AdamW\n",
    "    # optim= 'adamw_torch', # 'adamw_torch' or 'adamw_hf'\n",
    "    # learning_rate=3e-6, # 3e-6 * (per_device_train_batch_size * NGPU) / 8\n",
    "    # adam_beta1=0.9,\n",
    "    # adam_beta2=0.999,\n",
    "    # adam_epsilon=1e-8,\n",
    "    # weight_decay=0.01,\n",
    "\n",
    "    # lr_scheduler_type='linear', # 'linear', 'cosine', 'cosine_with_restarts', 'polynomial', 'constant', 'constant_with_warmup'\n",
    "    # warmup_ratio=0,\n",
    "\n",
    "    save_total_limit=2,\n",
    "\n",
    "    load_best_model_at_end=True,\n",
    "    metric_for_best_model='eval_loss',\n",
    "\n",
    "    save_strategy='epoch',\n",
    "    evaluation_strategy='epoch',\n",
    "\n",
    "    logging_strategy='steps',\n",
    "    logging_first_step=True, \n",
    "    logging_steps=int(500 / NGPU),\n",
    "\n",
    "    predict_with_generate=False,\n",
    "    generation_max_length=64,\n",
    "    # generation_num_beams=generation_num_beams,\n",
    "\n",
    "    fp16=False,\n",
    ")"
   ]
  },
  {
   "attachments": {},
   "cell_type": "markdown",
   "id": "d8dc1775",
   "metadata": {
    "papermill": {
     "duration": 0.006366,
     "end_time": "2023-04-26T01:03:50.863701",
     "exception": false,
     "start_time": "2023-04-26T01:03:50.857335",
     "status": "completed"
    },
    "tags": []
   },
   "source": [
    "# Load Model & Tokenizer"
   ]
  },
  {
   "cell_type": "code",
   "execution_count": 8,
   "id": "8167b7b2",
   "metadata": {
    "execution": {
     "iopub.execute_input": "2023-04-26T01:03:50.877968Z",
     "iopub.status.busy": "2023-04-26T01:03:50.877648Z",
     "iopub.status.idle": "2023-04-26T01:03:51.178985Z",
     "shell.execute_reply": "2023-04-26T01:03:51.177602Z"
    },
    "papermill": {
     "duration": 0.312245,
     "end_time": "2023-04-26T01:03:51.182402",
     "exception": false,
     "start_time": "2023-04-26T01:03:50.870157",
     "status": "completed"
    },
    "tags": []
   },
   "outputs": [],
   "source": [
    "config = AutoConfig.from_pretrained(MODEL_CHECKPOINT)"
   ]
  },
  {
   "cell_type": "code",
   "execution_count": 9,
   "id": "7a06e9e3",
   "metadata": {
    "execution": {
     "iopub.execute_input": "2023-04-26T01:03:51.203275Z",
     "iopub.status.busy": "2023-04-26T01:03:51.202817Z",
     "iopub.status.idle": "2023-04-26T01:03:55.116395Z",
     "shell.execute_reply": "2023-04-26T01:03:55.114846Z"
    },
    "papermill": {
     "duration": 3.92431,
     "end_time": "2023-04-26T01:03:55.119585",
     "exception": false,
     "start_time": "2023-04-26T01:03:51.195275",
     "status": "completed"
    },
    "tags": []
   },
   "outputs": [
    {
     "name": "stderr",
     "output_type": "stream",
     "text": [
      "Special tokens have been added in the vocabulary, make sure the associated word embeddings are fine-tuned or trained.\n"
     ]
    }
   ],
   "source": [
    "model = AutoModelForSeq2SeqLM.from_pretrained(MODEL_CHECKPOINT, config=config)\n",
    "tokenizer = AutoTokenizer.from_pretrained(MODEL_CHECKPOINT)"
   ]
  },
  {
   "attachments": {},
   "cell_type": "markdown",
   "id": "2755eb12",
   "metadata": {
    "papermill": {
     "duration": 0.006321,
     "end_time": "2023-04-26T01:03:55.137078",
     "exception": false,
     "start_time": "2023-04-26T01:03:55.130757",
     "status": "completed"
    },
    "tags": []
   },
   "source": [
    "# Prepare Model to Use LoRA"
   ]
  },
  {
   "cell_type": "code",
   "execution_count": 10,
   "id": "df7a7278",
   "metadata": {
    "execution": {
     "iopub.execute_input": "2023-04-26T01:03:55.154967Z",
     "iopub.status.busy": "2023-04-26T01:03:55.154737Z",
     "iopub.status.idle": "2023-04-26T01:03:55.160077Z",
     "shell.execute_reply": "2023-04-26T01:03:55.159151Z"
    },
    "papermill": {
     "duration": 0.015746,
     "end_time": "2023-04-26T01:03:55.162347",
     "exception": false,
     "start_time": "2023-04-26T01:03:55.146601",
     "status": "completed"
    },
    "tags": []
   },
   "outputs": [],
   "source": [
    "peft_config = LoraConfig(\n",
    "    task_type=TaskType.SEQ_2_SEQ_LM, inference_mode=False, r=8, lora_alpha=32, lora_dropout=0.1\n",
    ")"
   ]
  },
  {
   "cell_type": "code",
   "execution_count": 11,
   "id": "947a5d81",
   "metadata": {
    "execution": {
     "iopub.execute_input": "2023-04-26T01:03:55.180722Z",
     "iopub.status.busy": "2023-04-26T01:03:55.180506Z",
     "iopub.status.idle": "2023-04-26T01:03:55.800269Z",
     "shell.execute_reply": "2023-04-26T01:03:55.798445Z"
    },
    "papermill": {
     "duration": 0.630801,
     "end_time": "2023-04-26T01:03:55.803593",
     "exception": false,
     "start_time": "2023-04-26T01:03:55.172792",
     "status": "completed"
    },
    "tags": []
   },
   "outputs": [
    {
     "name": "stdout",
     "output_type": "stream",
     "text": [
      "trainable params: 884736 || all params: 276463872 || trainable%: 0.3200186677556191\n"
     ]
    }
   ],
   "source": [
    "model = get_peft_model(model, peft_config)\n",
    "model.print_trainable_parameters()"
   ]
  },
  {
   "attachments": {},
   "cell_type": "markdown",
   "id": "1c0959f2",
   "metadata": {
    "papermill": {
     "duration": 0.006516,
     "end_time": "2023-04-26T01:03:55.820095",
     "exception": false,
     "start_time": "2023-04-26T01:03:55.813579",
     "status": "completed"
    },
    "tags": []
   },
   "source": [
    "# Load Data"
   ]
  },
  {
   "cell_type": "code",
   "execution_count": 12,
   "id": "59f2bdf8",
   "metadata": {
    "execution": {
     "iopub.execute_input": "2023-04-26T01:03:55.835018Z",
     "iopub.status.busy": "2023-04-26T01:03:55.834753Z",
     "iopub.status.idle": "2023-04-26T01:03:55.853037Z",
     "shell.execute_reply": "2023-04-26T01:03:55.851923Z"
    },
    "papermill": {
     "duration": 0.029472,
     "end_time": "2023-04-26T01:03:55.855974",
     "exception": false,
     "start_time": "2023-04-26T01:03:55.826502",
     "status": "completed"
    },
    "tags": []
   },
   "outputs": [],
   "source": [
    "train_dataset = load_from_disk(TRAIN_DATA_PATH)\n",
    "eval_dataset = load_from_disk(EVAL_DATA_PATH)"
   ]
  },
  {
   "cell_type": "code",
   "execution_count": 13,
   "id": "c7cd39c2",
   "metadata": {
    "execution": {
     "iopub.execute_input": "2023-04-26T01:03:55.875921Z",
     "iopub.status.busy": "2023-04-26T01:03:55.875458Z",
     "iopub.status.idle": "2023-04-26T01:03:59.405244Z",
     "shell.execute_reply": "2023-04-26T01:03:59.404002Z"
    },
    "papermill": {
     "duration": 3.540387,
     "end_time": "2023-04-26T01:03:59.408026",
     "exception": false,
     "start_time": "2023-04-26T01:03:55.867639",
     "status": "completed"
    },
    "tags": []
   },
   "outputs": [
    {
     "data": {
      "text/plain": [
       "'generate keyphrases: \"로페테기가 좋아하는 황희찬, 리즈전 선발 가능성 있어\" 복귀전에서 득점을 한 황희찬은 선발 출전을 대기하고 있다.울버햄튼은 19일 오전 0시(한국시간) 영국 울버햄튼에 위치한 몰리뉴 스타디움에서 리즈 유나이티드와 2022-23시즌 잉글리시 프리미어리그(EPL) 28라운드를 치른다. 울버햄튼은 13위, 리즈는 19위에 위치 중이다.영국 \\'익스프레스 앤 스타\\'는 울버햄튼, 리즈 경기를 프리뷰하면서 \"홈 팬들은 시작부터 공격적이고 강렬한 경기를 원한다. 훌렌 로페테기 감독은 때로는 보수적인 방식으로 접근을 했다. 홈 팬들 앞에서는 달라야 한다. 공격진 변화가 예상되는 황희찬이 선발로 나설 수 있다\"고 전했다.황희찬은 브루노 라즈 감독 아래에선 벤치 신세였다. 로페테기 감독이 온 후엔 달랐다. 득점 수는 적어도 기동력과 저돌적인 황희찬을 선호했다. 경기력으로 응답했다. 2022 국제축구연맹(FIFA) 카타르 월드컵에서 활약으로 자신감까지 올랐다. 좋은 활약을 이어가던 황희찬은 리버풀전에서 부상을 당해 한동안 빠졌다.재활 기간을 거친 황희찬은 지난 뉴캐슬 유나이티드전에 복귀를 했는데 골을 넣었다. 0-1로 뒤지던 후반 24분 들어와 후반 25분 집중력 있는 모습으로 뉴캐슬 골망을 흔들었다. 경기는 울버햄튼의 1-2 패배로 끝이 났지만 황희찬에겐 고무적인 날이었다. 이날 골로 황희찬은 리그 1호 득점에 성공했고 EPL에선 무려 13개월 만에 골 맛을 봤다. 부상 불운을 골로 보답을 받는 날이었다.\\'익스프레스 앤 스타\\'는 \"로페테기 감독은 황희찬을 정말 좋아한다. 근면한 모습과 라울 히메네스를 대체할 수 있는 능력이 있어 리즈전에 선발로 택할 수 있다. 지난 주말 햄스트링 부상에서 돌아온 황희찬은 뉴캐슬을 상대로 골을 넣었다. 황희찬이 선발로 나오면 레프트백 라얀 아이트-누리와 같이 가능성이 높다\"고 구체적인 전망을 내놓았다.울버햄튼 순위는 13위지만 강등권인 18위 본머스와 승점 3점차밖에 안 난다. 리즈전 필승이 요구되는 이유다. 뉴캐슬전에선 골을 넣고도 웃지 못한 황희찬이 리즈전에선 선발 출전, 득점, 팀 승리까지 모두 얻을지 관심이 크다.기사제공 인터풋볼신동훈 기자 hun7599@interfootball.co.krCopyright c 인터풋볼. All rights reserved. 무단 전재 및 재배포 금지.기사 섹션 분류 가이드포포투 FourFourTwo 잡지 정기 구독하기</s><pad><pad><pad><pad><pad><pad><pad><pad><pad><pad><pad><pad><pad><pad><pad><pad><pad><pad><pad><pad><pad><pad><pad><pad><pad><pad><pad><pad><pad><pad><pad><pad><pad><pad><pad><pad><pad><pad><pad><pad><pad><pad><pad><pad><pad><pad><pad><pad><pad><pad><pad><pad><pad><pad><pad><pad><pad><pad><pad><pad><pad><pad><pad><pad><pad><pad><pad><pad><pad><pad><pad><pad><pad><pad><pad><pad><pad><pad><pad><pad><pad><pad><pad><pad><pad><pad><pad><pad><pad><pad><pad><pad><pad><pad><pad><pad><pad><pad><pad><pad><pad><pad><pad><pad><pad><pad><pad><pad><pad><pad><pad><pad><pad><pad><pad><pad><pad><pad><pad><pad><pad><pad><pad><pad><pad><pad><pad><pad><pad><pad><pad><pad><pad><pad><pad><pad><pad><pad><pad><pad><pad><pad><pad><pad><pad><pad><pad><pad><pad><pad><pad><pad><pad><pad><pad><pad><pad><pad><pad><pad><pad><pad><pad><pad><pad><pad><pad><pad><pad><pad><pad><pad><pad><pad><pad><pad><pad><pad><pad><pad><pad><pad><pad><pad><pad><pad><pad><pad><pad><pad><pad><pad><pad><pad><pad><pad><pad><pad>'"
      ]
     },
     "execution_count": 13,
     "metadata": {},
     "output_type": "execute_result"
    }
   ],
   "source": [
    "tokenizer.decode(train_dataset['input_ids'][0])"
   ]
  },
  {
   "cell_type": "code",
   "execution_count": 14,
   "id": "6c86935f",
   "metadata": {
    "execution": {
     "iopub.execute_input": "2023-04-26T01:03:59.428619Z",
     "iopub.status.busy": "2023-04-26T01:03:59.428100Z",
     "iopub.status.idle": "2023-04-26T01:03:59.672038Z",
     "shell.execute_reply": "2023-04-26T01:03:59.670883Z"
    },
    "papermill": {
     "duration": 0.256083,
     "end_time": "2023-04-26T01:03:59.675282",
     "exception": false,
     "start_time": "2023-04-26T01:03:59.419199",
     "status": "completed"
    },
    "tags": []
   },
   "outputs": [
    {
     "data": {
      "text/plain": [
       "'로페테기; 황희찬; 선발 출전; 울버햄튼; 리즈전; EPL; 득점; 복귀전; 한동안; 부상</s><pad><pad><pad><pad><pad><pad><pad><pad><pad><pad><pad><pad><pad><pad><pad><pad><pad><pad><pad><pad><pad><pad><pad><pad><pad>'"
      ]
     },
     "execution_count": 14,
     "metadata": {},
     "output_type": "execute_result"
    }
   ],
   "source": [
    "tokenizer.decode(train_dataset['labels'][0])"
   ]
  },
  {
   "cell_type": "markdown",
   "id": "7c9815fe",
   "metadata": {
    "papermill": {
     "duration": 0.007054,
     "end_time": "2023-04-26T01:03:59.693554",
     "exception": false,
     "start_time": "2023-04-26T01:03:59.686500",
     "status": "completed"
    },
    "tags": []
   },
   "source": [
    "# Train"
   ]
  },
  {
   "cell_type": "code",
   "execution_count": 15,
   "id": "18bb0745",
   "metadata": {
    "execution": {
     "iopub.execute_input": "2023-04-26T01:03:59.709065Z",
     "iopub.status.busy": "2023-04-26T01:03:59.708737Z",
     "iopub.status.idle": "2023-04-26T01:04:00.864672Z",
     "shell.execute_reply": "2023-04-26T01:04:00.863316Z"
    },
    "papermill": {
     "duration": 1.167747,
     "end_time": "2023-04-26T01:04:00.868240",
     "exception": false,
     "start_time": "2023-04-26T01:03:59.700493",
     "status": "completed"
    },
    "tags": []
   },
   "outputs": [],
   "source": [
    "data_collator = DataCollatorForSeq2Seq(tokenizer=tokenizer, model=model, padding=True)\n",
    "\n",
    "trainer = Seq2SeqTrainer(\n",
    "    model=model,\n",
    "    \n",
    "    args=training_args,\n",
    "    \n",
    "    train_dataset=train_dataset,\n",
    "    eval_dataset=eval_dataset,\n",
    "    \n",
    "    tokenizer=tokenizer,\n",
    "    data_collator=data_collator,\n",
    "    \n",
    "    # compute_metrics=compute_metrics,\n",
    ")"
   ]
  },
  {
   "cell_type": "code",
   "execution_count": 16,
   "id": "6dfc27b1",
   "metadata": {
    "execution": {
     "iopub.execute_input": "2023-04-26T01:04:00.893128Z",
     "iopub.status.busy": "2023-04-26T01:04:00.892637Z",
     "iopub.status.idle": "2023-04-26T03:13:27.692747Z",
     "shell.execute_reply": "2023-04-26T03:13:27.691612Z"
    },
    "papermill": {
     "duration": 7766.812327,
     "end_time": "2023-04-26T03:13:27.696319",
     "exception": false,
     "start_time": "2023-04-26T01:04:00.883992",
     "status": "completed"
    },
    "tags": []
   },
   "outputs": [
    {
     "data": {
      "text/html": [
       "wandb version 0.15.0 is available!  To upgrade, please run:\n",
       " $ pip install wandb --upgrade"
      ],
      "text/plain": [
       "<IPython.core.display.HTML object>"
      ]
     },
     "metadata": {},
     "output_type": "display_data"
    },
    {
     "data": {
      "text/html": [
       "Tracking run with wandb version 0.13.11"
      ],
      "text/plain": [
       "<IPython.core.display.HTML object>"
      ]
     },
     "metadata": {},
     "output_type": "display_data"
    },
    {
     "data": {
      "text/html": [
       "Run data is saved locally in <code>/workspace/news-topic-keyphrase-generation-model-dev/wandb/run-20230426_100400-wan4izar</code>"
      ],
      "text/plain": [
       "<IPython.core.display.HTML object>"
      ]
     },
     "metadata": {},
     "output_type": "display_data"
    },
    {
     "data": {
      "text/html": [
       "Syncing run <strong><a href='https://wandb.ai/illunex_ai/news-topic-keyphrase-generation-model-dev/runs/wan4izar' target=\"_blank\">paust_pko_t5_base_v3_run_9_adafactor_lora_10_epochs_saving_adapters_test</a></strong> to <a href='https://wandb.ai/illunex_ai/news-topic-keyphrase-generation-model-dev' target=\"_blank\">Weights & Biases</a> (<a href='https://wandb.me/run' target=\"_blank\">docs</a>)<br/>"
      ],
      "text/plain": [
       "<IPython.core.display.HTML object>"
      ]
     },
     "metadata": {},
     "output_type": "display_data"
    },
    {
     "data": {
      "text/html": [
       " View project at <a href='https://wandb.ai/illunex_ai/news-topic-keyphrase-generation-model-dev' target=\"_blank\">https://wandb.ai/illunex_ai/news-topic-keyphrase-generation-model-dev</a>"
      ],
      "text/plain": [
       "<IPython.core.display.HTML object>"
      ]
     },
     "metadata": {},
     "output_type": "display_data"
    },
    {
     "data": {
      "text/html": [
       " View run at <a href='https://wandb.ai/illunex_ai/news-topic-keyphrase-generation-model-dev/runs/wan4izar' target=\"_blank\">https://wandb.ai/illunex_ai/news-topic-keyphrase-generation-model-dev/runs/wan4izar</a>"
      ],
      "text/plain": [
       "<IPython.core.display.HTML object>"
      ]
     },
     "metadata": {},
     "output_type": "display_data"
    },
    {
     "name": "stderr",
     "output_type": "stream",
     "text": [
      "You're using a T5TokenizerFast tokenizer. Please note that with a fast tokenizer, using the `__call__` method is faster than using a method to encode the text followed by a call to the `pad` method to get a padded encoding.\n"
     ]
    },
    {
     "data": {
      "text/html": [
       "\n",
       "    <div>\n",
       "      \n",
       "      <progress value='11690' max='11690' style='width:300px; height:20px; vertical-align: middle;'></progress>\n",
       "      [11690/11690 2:09:13, Epoch 10/10]\n",
       "    </div>\n",
       "    <table border=\"1\" class=\"dataframe\">\n",
       "  <thead>\n",
       " <tr style=\"text-align: left;\">\n",
       "      <th>Epoch</th>\n",
       "      <th>Training Loss</th>\n",
       "      <th>Validation Loss</th>\n",
       "    </tr>\n",
       "  </thead>\n",
       "  <tbody>\n",
       "    <tr>\n",
       "      <td>1</td>\n",
       "      <td>8.917900</td>\n",
       "      <td>7.469918</td>\n",
       "    </tr>\n",
       "    <tr>\n",
       "      <td>2</td>\n",
       "      <td>7.299500</td>\n",
       "      <td>6.532876</td>\n",
       "    </tr>\n",
       "    <tr>\n",
       "      <td>3</td>\n",
       "      <td>6.266000</td>\n",
       "      <td>5.755619</td>\n",
       "    </tr>\n",
       "    <tr>\n",
       "      <td>4</td>\n",
       "      <td>5.659500</td>\n",
       "      <td>5.058806</td>\n",
       "    </tr>\n",
       "    <tr>\n",
       "      <td>5</td>\n",
       "      <td>5.044600</td>\n",
       "      <td>4.228275</td>\n",
       "    </tr>\n",
       "    <tr>\n",
       "      <td>6</td>\n",
       "      <td>3.906100</td>\n",
       "      <td>3.265189</td>\n",
       "    </tr>\n",
       "    <tr>\n",
       "      <td>7</td>\n",
       "      <td>3.399700</td>\n",
       "      <td>2.579841</td>\n",
       "    </tr>\n",
       "    <tr>\n",
       "      <td>8</td>\n",
       "      <td>3.079700</td>\n",
       "      <td>2.328606</td>\n",
       "    </tr>\n",
       "    <tr>\n",
       "      <td>9</td>\n",
       "      <td>2.874100</td>\n",
       "      <td>2.251040</td>\n",
       "    </tr>\n",
       "    <tr>\n",
       "      <td>10</td>\n",
       "      <td>2.838300</td>\n",
       "      <td>2.230928</td>\n",
       "    </tr>\n",
       "  </tbody>\n",
       "</table><p>"
      ],
      "text/plain": [
       "<IPython.core.display.HTML object>"
      ]
     },
     "metadata": {},
     "output_type": "display_data"
    },
    {
     "data": {
      "text/html": [
       "Waiting for W&B process to finish... <strong style=\"color:green\">(success).</strong>"
      ],
      "text/plain": [
       "<IPython.core.display.HTML object>"
      ]
     },
     "metadata": {},
     "output_type": "display_data"
    },
    {
     "data": {
      "text/html": [
       "<style>\n",
       "    table.wandb td:nth-child(1) { padding: 0 10px; text-align: left ; width: auto;} td:nth-child(2) {text-align: left ; width: 100%}\n",
       "    .wandb-row { display: flex; flex-direction: row; flex-wrap: wrap; justify-content: flex-start; width: 100% }\n",
       "    .wandb-col { display: flex; flex-direction: column; flex-basis: 100%; flex: 1; padding: 10px; }\n",
       "    </style>\n",
       "<div class=\"wandb-row\"><div class=\"wandb-col\"><h3>Run history:</h3><br/><table class=\"wandb\"><tr><td>eval/loss</td><td>█▇▆▅▄▂▁▁▁▁</td></tr><tr><td>eval/runtime</td><td>▁▁▁▁▁█▇▇▇█</td></tr><tr><td>eval/samples_per_second</td><td>█████▁▂▂▂▁</td></tr><tr><td>eval/steps_per_second</td><td>█████▁▂▂▂▁</td></tr><tr><td>train/epoch</td><td>▁▁▂▂▂▂▂▂▃▃▃▃▄▄▄▄▅▅▅▅▅▅▆▆▆▆▇▇▇▇▇████</td></tr><tr><td>train/global_step</td><td>▁▁▂▂▂▂▂▂▃▃▃▃▄▄▄▄▄▅▅▅▅▅▆▆▆▆▇▇▇▇▇████</td></tr><tr><td>train/learning_rate</td><td>██▇▇▇▆▆▆▆▅▅▅▄▄▄▃▃▃▃▂▂▂▁▁</td></tr><tr><td>train/loss</td><td>██▆▅▅▄▄▄▄▃▃▃▃▂▂▂▁▁▁▁▁▁▁▁</td></tr><tr><td>train/total_flos</td><td>▁</td></tr><tr><td>train/train_loss</td><td>▁</td></tr><tr><td>train/train_runtime</td><td>▁</td></tr><tr><td>train/train_samples_per_second</td><td>▁</td></tr><tr><td>train/train_steps_per_second</td><td>▁</td></tr></table><br/></div><div class=\"wandb-col\"><h3>Run summary:</h3><br/><table class=\"wandb\"><tr><td>eval/loss</td><td>2.23093</td></tr><tr><td>eval/runtime</td><td>70.4543</td></tr><tr><td>eval/samples_per_second</td><td>33.17</td></tr><tr><td>eval/steps_per_second</td><td>4.159</td></tr><tr><td>train/epoch</td><td>10.0</td></tr><tr><td>train/global_step</td><td>11690</td></tr><tr><td>train/learning_rate</td><td>0.0</td></tr><tr><td>train/loss</td><td>2.8383</td></tr><tr><td>train/total_flos</td><td>1.365422987280384e+17</td></tr><tr><td>train/train_loss</td><td>5.06901</td></tr><tr><td>train/train_runtime</td><td>7755.9018</td></tr><tr><td>train/train_samples_per_second</td><td>12.05</td></tr><tr><td>train/train_steps_per_second</td><td>1.507</td></tr></table><br/></div></div>"
      ],
      "text/plain": [
       "<IPython.core.display.HTML object>"
      ]
     },
     "metadata": {},
     "output_type": "display_data"
    },
    {
     "data": {
      "text/html": [
       " View run <strong style=\"color:#cdcd00\">paust_pko_t5_base_v3_run_9_adafactor_lora_10_epochs_saving_adapters_test</strong> at: <a href='https://wandb.ai/illunex_ai/news-topic-keyphrase-generation-model-dev/runs/wan4izar' target=\"_blank\">https://wandb.ai/illunex_ai/news-topic-keyphrase-generation-model-dev/runs/wan4izar</a><br/>Synced 5 W&B file(s), 0 media file(s), 0 artifact file(s) and 0 other file(s)"
      ],
      "text/plain": [
       "<IPython.core.display.HTML object>"
      ]
     },
     "metadata": {},
     "output_type": "display_data"
    },
    {
     "data": {
      "text/html": [
       "Find logs at: <code>./wandb/run-20230426_100400-wan4izar/logs</code>"
      ],
      "text/plain": [
       "<IPython.core.display.HTML object>"
      ]
     },
     "metadata": {},
     "output_type": "display_data"
    }
   ],
   "source": [
    "trainer.train()\n",
    "wandb.finish()"
   ]
  },
  {
   "attachments": {},
   "cell_type": "markdown",
   "id": "3625b988",
   "metadata": {
    "papermill": {
     "duration": 0.054117,
     "end_time": "2023-04-26T03:13:27.767030",
     "exception": false,
     "start_time": "2023-04-26T03:13:27.712913",
     "status": "completed"
    },
    "tags": []
   },
   "source": [
    "# Save LoRA Adapters for Best CKPT"
   ]
  },
  {
   "cell_type": "code",
   "execution_count": 17,
   "id": "dbc96c3f",
   "metadata": {
    "execution": {
     "iopub.execute_input": "2023-04-26T03:13:27.786208Z",
     "iopub.status.busy": "2023-04-26T03:13:27.785483Z",
     "iopub.status.idle": "2023-04-26T03:13:27.842391Z",
     "shell.execute_reply": "2023-04-26T03:13:27.840997Z"
    },
    "papermill": {
     "duration": 0.070197,
     "end_time": "2023-04-26T03:13:27.845580",
     "exception": false,
     "start_time": "2023-04-26T03:13:27.775383",
     "status": "completed"
    },
    "tags": []
   },
   "outputs": [],
   "source": [
    "model.save_pretrained(output_dir)"
   ]
  },
  {
   "cell_type": "code",
   "execution_count": 18,
   "id": "26e0b452",
   "metadata": {
    "execution": {
     "iopub.execute_input": "2023-04-26T03:13:27.870902Z",
     "iopub.status.busy": "2023-04-26T03:13:27.870438Z",
     "iopub.status.idle": "2023-04-26T03:13:27.877075Z",
     "shell.execute_reply": "2023-04-26T03:13:27.875674Z"
    },
    "papermill": {
     "duration": 0.018452,
     "end_time": "2023-04-26T03:13:27.879554",
     "exception": false,
     "start_time": "2023-04-26T03:13:27.861102",
     "status": "completed"
    },
    "tags": []
   },
   "outputs": [],
   "source": [
    "# keep = [\n",
    "#     'added_tokens.json',\n",
    "#     'config.json',\n",
    "#     'pytorch_model.bin',\n",
    "#     'special_tokens_map.json',\n",
    "#     'tokenizer.json',\n",
    "#     'tokenizer_config.json',\n",
    "#     'vocab.txt'\n",
    "#     'adapter_config.json', \n",
    "#     'adapter_model.bin', \n",
    "# ]\n",
    "\n",
    "# ckpts = os.listdir(output_dir)\n",
    "# for ckpt in ckpts:\n",
    "#     ckpt = os.path.join(output_dir, ckpt)\n",
    "#     for item in os.listdir(ckpt):\n",
    "#         if item not in keep:\n",
    "#             os.remove(os.path.join(ckpt, item))"
   ]
  },
  {
   "cell_type": "markdown",
   "id": "58cd1fce",
   "metadata": {
    "papermill": {
     "duration": 0.007788,
     "end_time": "2023-04-26T03:13:27.899957",
     "exception": false,
     "start_time": "2023-04-26T03:13:27.892169",
     "status": "completed"
    },
    "tags": []
   },
   "source": [
    "# Generate"
   ]
  },
  {
   "cell_type": "code",
   "execution_count": 19,
   "id": "2ed03e4e",
   "metadata": {
    "execution": {
     "iopub.execute_input": "2023-04-26T03:13:27.917463Z",
     "iopub.status.busy": "2023-04-26T03:13:27.917145Z",
     "iopub.status.idle": "2023-04-26T03:13:27.922345Z",
     "shell.execute_reply": "2023-04-26T03:13:27.921149Z"
    },
    "papermill": {
     "duration": 0.015995,
     "end_time": "2023-04-26T03:13:27.924009",
     "exception": false,
     "start_time": "2023-04-26T03:13:27.908014",
     "status": "completed"
    },
    "tags": []
   },
   "outputs": [],
   "source": [
    "# preds = trainer.predict(eval_dataset)"
   ]
  },
  {
   "cell_type": "code",
   "execution_count": 20,
   "id": "2e52a121",
   "metadata": {
    "execution": {
     "iopub.execute_input": "2023-04-26T03:13:27.946707Z",
     "iopub.status.busy": "2023-04-26T03:13:27.946261Z",
     "iopub.status.idle": "2023-04-26T03:13:27.951726Z",
     "shell.execute_reply": "2023-04-26T03:13:27.950510Z"
    },
    "papermill": {
     "duration": 0.017999,
     "end_time": "2023-04-26T03:13:27.954953",
     "exception": false,
     "start_time": "2023-04-26T03:13:27.936954",
     "status": "completed"
    },
    "tags": []
   },
   "outputs": [],
   "source": [
    "# preds.metrics"
   ]
  },
  {
   "cell_type": "code",
   "execution_count": 21,
   "id": "fd01dd3d",
   "metadata": {
    "execution": {
     "iopub.execute_input": "2023-04-26T03:13:27.979305Z",
     "iopub.status.busy": "2023-04-26T03:13:27.978856Z",
     "iopub.status.idle": "2023-04-26T03:13:27.984981Z",
     "shell.execute_reply": "2023-04-26T03:13:27.983755Z"
    },
    "papermill": {
     "duration": 0.017823,
     "end_time": "2023-04-26T03:13:27.987240",
     "exception": false,
     "start_time": "2023-04-26T03:13:27.969417",
     "status": "completed"
    },
    "tags": []
   },
   "outputs": [],
   "source": [
    "# for data, pred in zip(eval_dataset, preds.predictions):\n",
    "#     pred = np.where(pred != -100, pred, tokenizer.pad_token_id)\n",
    "#     # context = tokenizer.decode(data['input_ids'], skip_special_tokens=True)\n",
    "#     summary = tokenizer.decode(data['labels'], skip_special_tokens=True)\n",
    "#     pred = tokenizer.decode(pred, skip_special_tokens=True)\n",
    "#     # print(f'입력: {context}')\n",
    "#     print(f'정답: {summary}')\n",
    "#     print(f'예측: {pred}', end='\\n\\n')"
   ]
  }
 ],
 "metadata": {
  "kernelspec": {
   "display_name": ".venv",
   "language": "python",
   "name": "python3"
  },
  "language_info": {
   "codemirror_mode": {
    "name": "ipython",
    "version": 3
   },
   "file_extension": ".py",
   "mimetype": "text/x-python",
   "name": "python",
   "nbconvert_exporter": "python",
   "pygments_lexer": "ipython3",
   "version": "3.9.16"
  },
  "papermill": {
   "default_parameters": {},
   "duration": 7788.759217,
   "end_time": "2023-04-26T03:13:30.835747",
   "environment_variables": {},
   "exception": null,
   "input_path": "./train_seq2seq_plm.ipynb",
   "output_path": "./papermill/paust_pko_t5_base_v3_run_9_adafactor_lora_10_epochs_saving_adapters_test.ipynb",
   "parameters": {},
   "start_time": "2023-04-26T01:03:42.076530",
   "version": "2.4.0"
  },
  "widgets": {
   "application/vnd.jupyter.widget-state+json": {
    "state": {
     "2bbcc7abe4b14e809813c7473702651a": {
      "model_module": "@jupyter-widgets/controls",
      "model_module_version": "2.0.0",
      "model_name": "LabelStyleModel",
      "state": {
       "_model_module": "@jupyter-widgets/controls",
       "_model_module_version": "2.0.0",
       "_model_name": "LabelStyleModel",
       "_view_count": null,
       "_view_module": "@jupyter-widgets/base",
       "_view_module_version": "2.0.0",
       "_view_name": "StyleView",
       "background": null,
       "description_width": "",
       "font_family": null,
       "font_size": null,
       "font_style": null,
       "font_variant": null,
       "font_weight": null,
       "text_color": null,
       "text_decoration": null
      }
     },
     "34e8bfcec1304252815029e66d18d10e": {
      "model_module": "@jupyter-widgets/controls",
      "model_module_version": "2.0.0",
      "model_name": "FloatProgressModel",
      "state": {
       "_dom_classes": [],
       "_model_module": "@jupyter-widgets/controls",
       "_model_module_version": "2.0.0",
       "_model_name": "FloatProgressModel",
       "_view_count": null,
       "_view_module": "@jupyter-widgets/controls",
       "_view_module_version": "2.0.0",
       "_view_name": "ProgressView",
       "bar_style": "",
       "description": "",
       "description_allow_html": false,
       "layout": "IPY_MODEL_68e2ab3592af4e2a87e14aa1e9e230fe",
       "max": 1.0,
       "min": 0.0,
       "orientation": "horizontal",
       "style": "IPY_MODEL_5107f686aab34e198706766e83b3f688",
       "tabbable": null,
       "tooltip": null,
       "value": 0.0
      }
     },
     "360354f0158f43b58ffd47179823f941": {
      "model_module": "@jupyter-widgets/base",
      "model_module_version": "2.0.0",
      "model_name": "LayoutModel",
      "state": {
       "_model_module": "@jupyter-widgets/base",
       "_model_module_version": "2.0.0",
       "_model_name": "LayoutModel",
       "_view_count": null,
       "_view_module": "@jupyter-widgets/base",
       "_view_module_version": "2.0.0",
       "_view_name": "LayoutView",
       "align_content": null,
       "align_items": null,
       "align_self": null,
       "border_bottom": null,
       "border_left": null,
       "border_right": null,
       "border_top": null,
       "bottom": null,
       "display": null,
       "flex": null,
       "flex_flow": null,
       "grid_area": null,
       "grid_auto_columns": null,
       "grid_auto_flow": null,
       "grid_auto_rows": null,
       "grid_column": null,
       "grid_gap": null,
       "grid_row": null,
       "grid_template_areas": null,
       "grid_template_columns": null,
       "grid_template_rows": null,
       "height": null,
       "justify_content": null,
       "justify_items": null,
       "left": null,
       "margin": null,
       "max_height": null,
       "max_width": null,
       "min_height": null,
       "min_width": null,
       "object_fit": null,
       "object_position": null,
       "order": null,
       "overflow": null,
       "padding": null,
       "right": null,
       "top": null,
       "visibility": null,
       "width": null
      }
     },
     "4f55320781b6497f907accf7b1c18f19": {
      "model_module": "@jupyter-widgets/controls",
      "model_module_version": "2.0.0",
      "model_name": "LabelModel",
      "state": {
       "_dom_classes": [],
       "_model_module": "@jupyter-widgets/controls",
       "_model_module_version": "2.0.0",
       "_model_name": "LabelModel",
       "_view_count": null,
       "_view_module": "@jupyter-widgets/controls",
       "_view_module_version": "2.0.0",
       "_view_name": "LabelView",
       "description": "",
       "description_allow_html": false,
       "layout": "IPY_MODEL_ae2599f0ec3a4fafa8bfa40ce2bcf419",
       "placeholder": "​",
       "style": "IPY_MODEL_c7409dd3c6eb4271be21c9dbdf3460bc",
       "tabbable": null,
       "tooltip": null,
       "value": ""
      }
     },
     "5107f686aab34e198706766e83b3f688": {
      "model_module": "@jupyter-widgets/controls",
      "model_module_version": "2.0.0",
      "model_name": "ProgressStyleModel",
      "state": {
       "_model_module": "@jupyter-widgets/controls",
       "_model_module_version": "2.0.0",
       "_model_name": "ProgressStyleModel",
       "_view_count": null,
       "_view_module": "@jupyter-widgets/base",
       "_view_module_version": "2.0.0",
       "_view_name": "StyleView",
       "bar_color": null,
       "description_width": ""
      }
     },
     "5b5617639d1d4b3eb523d660c8605074": {
      "model_module": "@jupyter-widgets/base",
      "model_module_version": "2.0.0",
      "model_name": "LayoutModel",
      "state": {
       "_model_module": "@jupyter-widgets/base",
       "_model_module_version": "2.0.0",
       "_model_name": "LayoutModel",
       "_view_count": null,
       "_view_module": "@jupyter-widgets/base",
       "_view_module_version": "2.0.0",
       "_view_name": "LayoutView",
       "align_content": null,
       "align_items": null,
       "align_self": null,
       "border_bottom": null,
       "border_left": null,
       "border_right": null,
       "border_top": null,
       "bottom": null,
       "display": null,
       "flex": null,
       "flex_flow": null,
       "grid_area": null,
       "grid_auto_columns": null,
       "grid_auto_flow": null,
       "grid_auto_rows": null,
       "grid_column": null,
       "grid_gap": null,
       "grid_row": null,
       "grid_template_areas": null,
       "grid_template_columns": null,
       "grid_template_rows": null,
       "height": null,
       "justify_content": null,
       "justify_items": null,
       "left": null,
       "margin": null,
       "max_height": null,
       "max_width": null,
       "min_height": null,
       "min_width": null,
       "object_fit": null,
       "object_position": null,
       "order": null,
       "overflow": null,
       "padding": null,
       "right": null,
       "top": null,
       "visibility": null,
       "width": null
      }
     },
     "68e2ab3592af4e2a87e14aa1e9e230fe": {
      "model_module": "@jupyter-widgets/base",
      "model_module_version": "2.0.0",
      "model_name": "LayoutModel",
      "state": {
       "_model_module": "@jupyter-widgets/base",
       "_model_module_version": "2.0.0",
       "_model_name": "LayoutModel",
       "_view_count": null,
       "_view_module": "@jupyter-widgets/base",
       "_view_module_version": "2.0.0",
       "_view_name": "LayoutView",
       "align_content": null,
       "align_items": null,
       "align_self": null,
       "border_bottom": null,
       "border_left": null,
       "border_right": null,
       "border_top": null,
       "bottom": null,
       "display": null,
       "flex": null,
       "flex_flow": null,
       "grid_area": null,
       "grid_auto_columns": null,
       "grid_auto_flow": null,
       "grid_auto_rows": null,
       "grid_column": null,
       "grid_gap": null,
       "grid_row": null,
       "grid_template_areas": null,
       "grid_template_columns": null,
       "grid_template_rows": null,
       "height": null,
       "justify_content": null,
       "justify_items": null,
       "left": null,
       "margin": null,
       "max_height": null,
       "max_width": null,
       "min_height": null,
       "min_width": null,
       "object_fit": null,
       "object_position": null,
       "order": null,
       "overflow": null,
       "padding": null,
       "right": null,
       "top": null,
       "visibility": null,
       "width": null
      }
     },
     "7102ddfacab74750a6ae2d93f3e41220": {
      "model_module": "@jupyter-widgets/controls",
      "model_module_version": "2.0.0",
      "model_name": "FloatProgressModel",
      "state": {
       "_dom_classes": [],
       "_model_module": "@jupyter-widgets/controls",
       "_model_module_version": "2.0.0",
       "_model_name": "FloatProgressModel",
       "_view_count": null,
       "_view_module": "@jupyter-widgets/controls",
       "_view_module_version": "2.0.0",
       "_view_name": "ProgressView",
       "bar_style": "",
       "description": "",
       "description_allow_html": false,
       "layout": "IPY_MODEL_360354f0158f43b58ffd47179823f941",
       "max": 1.0,
       "min": 0.0,
       "orientation": "horizontal",
       "style": "IPY_MODEL_d5d681624bee464d883b3f0c09f4c536",
       "tabbable": null,
       "tooltip": null,
       "value": 0.0
      }
     },
     "87cabfa4966b4235b99853968dd45657": {
      "model_module": "@jupyter-widgets/controls",
      "model_module_version": "2.0.0",
      "model_name": "LabelModel",
      "state": {
       "_dom_classes": [],
       "_model_module": "@jupyter-widgets/controls",
       "_model_module_version": "2.0.0",
       "_model_name": "LabelModel",
       "_view_count": null,
       "_view_module": "@jupyter-widgets/controls",
       "_view_module_version": "2.0.0",
       "_view_name": "LabelView",
       "description": "",
       "description_allow_html": false,
       "layout": "IPY_MODEL_b5d87a84c7ac4474839730b11dbe6fe5",
       "placeholder": "​",
       "style": "IPY_MODEL_2bbcc7abe4b14e809813c7473702651a",
       "tabbable": null,
       "tooltip": null,
       "value": ""
      }
     },
     "ae2599f0ec3a4fafa8bfa40ce2bcf419": {
      "model_module": "@jupyter-widgets/base",
      "model_module_version": "2.0.0",
      "model_name": "LayoutModel",
      "state": {
       "_model_module": "@jupyter-widgets/base",
       "_model_module_version": "2.0.0",
       "_model_name": "LayoutModel",
       "_view_count": null,
       "_view_module": "@jupyter-widgets/base",
       "_view_module_version": "2.0.0",
       "_view_name": "LayoutView",
       "align_content": null,
       "align_items": null,
       "align_self": null,
       "border_bottom": null,
       "border_left": null,
       "border_right": null,
       "border_top": null,
       "bottom": null,
       "display": null,
       "flex": null,
       "flex_flow": null,
       "grid_area": null,
       "grid_auto_columns": null,
       "grid_auto_flow": null,
       "grid_auto_rows": null,
       "grid_column": null,
       "grid_gap": null,
       "grid_row": null,
       "grid_template_areas": null,
       "grid_template_columns": null,
       "grid_template_rows": null,
       "height": null,
       "justify_content": null,
       "justify_items": null,
       "left": null,
       "margin": null,
       "max_height": null,
       "max_width": null,
       "min_height": null,
       "min_width": null,
       "object_fit": null,
       "object_position": null,
       "order": null,
       "overflow": null,
       "padding": null,
       "right": null,
       "top": null,
       "visibility": null,
       "width": null
      }
     },
     "b5d87a84c7ac4474839730b11dbe6fe5": {
      "model_module": "@jupyter-widgets/base",
      "model_module_version": "2.0.0",
      "model_name": "LayoutModel",
      "state": {
       "_model_module": "@jupyter-widgets/base",
       "_model_module_version": "2.0.0",
       "_model_name": "LayoutModel",
       "_view_count": null,
       "_view_module": "@jupyter-widgets/base",
       "_view_module_version": "2.0.0",
       "_view_name": "LayoutView",
       "align_content": null,
       "align_items": null,
       "align_self": null,
       "border_bottom": null,
       "border_left": null,
       "border_right": null,
       "border_top": null,
       "bottom": null,
       "display": null,
       "flex": null,
       "flex_flow": null,
       "grid_area": null,
       "grid_auto_columns": null,
       "grid_auto_flow": null,
       "grid_auto_rows": null,
       "grid_column": null,
       "grid_gap": null,
       "grid_row": null,
       "grid_template_areas": null,
       "grid_template_columns": null,
       "grid_template_rows": null,
       "height": null,
       "justify_content": null,
       "justify_items": null,
       "left": null,
       "margin": null,
       "max_height": null,
       "max_width": null,
       "min_height": null,
       "min_width": null,
       "object_fit": null,
       "object_position": null,
       "order": null,
       "overflow": null,
       "padding": null,
       "right": null,
       "top": null,
       "visibility": null,
       "width": null
      }
     },
     "bdea31eaa93b458f927a8151a9e880b1": {
      "model_module": "@jupyter-widgets/base",
      "model_module_version": "2.0.0",
      "model_name": "LayoutModel",
      "state": {
       "_model_module": "@jupyter-widgets/base",
       "_model_module_version": "2.0.0",
       "_model_name": "LayoutModel",
       "_view_count": null,
       "_view_module": "@jupyter-widgets/base",
       "_view_module_version": "2.0.0",
       "_view_name": "LayoutView",
       "align_content": null,
       "align_items": null,
       "align_self": null,
       "border_bottom": null,
       "border_left": null,
       "border_right": null,
       "border_top": null,
       "bottom": null,
       "display": null,
       "flex": null,
       "flex_flow": null,
       "grid_area": null,
       "grid_auto_columns": null,
       "grid_auto_flow": null,
       "grid_auto_rows": null,
       "grid_column": null,
       "grid_gap": null,
       "grid_row": null,
       "grid_template_areas": null,
       "grid_template_columns": null,
       "grid_template_rows": null,
       "height": null,
       "justify_content": null,
       "justify_items": null,
       "left": null,
       "margin": null,
       "max_height": null,
       "max_width": null,
       "min_height": null,
       "min_width": null,
       "object_fit": null,
       "object_position": null,
       "order": null,
       "overflow": null,
       "padding": null,
       "right": null,
       "top": null,
       "visibility": null,
       "width": null
      }
     },
     "c7409dd3c6eb4271be21c9dbdf3460bc": {
      "model_module": "@jupyter-widgets/controls",
      "model_module_version": "2.0.0",
      "model_name": "LabelStyleModel",
      "state": {
       "_model_module": "@jupyter-widgets/controls",
       "_model_module_version": "2.0.0",
       "_model_name": "LabelStyleModel",
       "_view_count": null,
       "_view_module": "@jupyter-widgets/base",
       "_view_module_version": "2.0.0",
       "_view_name": "StyleView",
       "background": null,
       "description_width": "",
       "font_family": null,
       "font_size": null,
       "font_style": null,
       "font_variant": null,
       "font_weight": null,
       "text_color": null,
       "text_decoration": null
      }
     },
     "d5d681624bee464d883b3f0c09f4c536": {
      "model_module": "@jupyter-widgets/controls",
      "model_module_version": "2.0.0",
      "model_name": "ProgressStyleModel",
      "state": {
       "_model_module": "@jupyter-widgets/controls",
       "_model_module_version": "2.0.0",
       "_model_name": "ProgressStyleModel",
       "_view_count": null,
       "_view_module": "@jupyter-widgets/base",
       "_view_module_version": "2.0.0",
       "_view_name": "StyleView",
       "bar_color": null,
       "description_width": ""
      }
     },
     "e6dc0cebb1af471cb76c7ae48e51ccbe": {
      "model_module": "@jupyter-widgets/controls",
      "model_module_version": "2.0.0",
      "model_name": "VBoxModel",
      "state": {
       "_dom_classes": [],
       "_model_module": "@jupyter-widgets/controls",
       "_model_module_version": "2.0.0",
       "_model_name": "VBoxModel",
       "_view_count": null,
       "_view_module": "@jupyter-widgets/controls",
       "_view_module_version": "2.0.0",
       "_view_name": "VBoxView",
       "box_style": "",
       "children": [
        "IPY_MODEL_4f55320781b6497f907accf7b1c18f19",
        "IPY_MODEL_34e8bfcec1304252815029e66d18d10e"
       ],
       "layout": "IPY_MODEL_5b5617639d1d4b3eb523d660c8605074",
       "tabbable": null,
       "tooltip": null
      }
     },
     "fc8a56757bca46808b762a5f3738ff63": {
      "model_module": "@jupyter-widgets/controls",
      "model_module_version": "2.0.0",
      "model_name": "VBoxModel",
      "state": {
       "_dom_classes": [],
       "_model_module": "@jupyter-widgets/controls",
       "_model_module_version": "2.0.0",
       "_model_name": "VBoxModel",
       "_view_count": null,
       "_view_module": "@jupyter-widgets/controls",
       "_view_module_version": "2.0.0",
       "_view_name": "VBoxView",
       "box_style": "",
       "children": [
        "IPY_MODEL_87cabfa4966b4235b99853968dd45657",
        "IPY_MODEL_7102ddfacab74750a6ae2d93f3e41220"
       ],
       "layout": "IPY_MODEL_bdea31eaa93b458f927a8151a9e880b1",
       "tabbable": null,
       "tooltip": null
      }
     }
    },
    "version_major": 2,
    "version_minor": 0
   }
  }
 },
 "nbformat": 4,
 "nbformat_minor": 5
}