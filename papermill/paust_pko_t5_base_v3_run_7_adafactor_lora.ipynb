{
 "cells": [
  {
   "cell_type": "code",
   "execution_count": 1,
   "id": "05d90211",
   "metadata": {
    "execution": {
     "iopub.execute_input": "2023-04-24T07:28:10.530237Z",
     "iopub.status.busy": "2023-04-24T07:28:10.529998Z",
     "iopub.status.idle": "2023-04-24T07:28:10.540790Z",
     "shell.execute_reply": "2023-04-24T07:28:10.539979Z"
    },
    "papermill": {
     "duration": 0.023429,
     "end_time": "2023-04-24T07:28:10.542647",
     "exception": false,
     "start_time": "2023-04-24T07:28:10.519218",
     "status": "completed"
    },
    "tags": []
   },
   "outputs": [],
   "source": [
    "import os\n",
    "os.environ[\"TOKENIZERS_PARALLELISM\"] = \"false\"\n",
    "os.environ[\"CUDA_DEVICE_ORDER\"]=\"PCI_BUS_ID\"  # Arrange GPU devices starting from 0\n",
    "os.environ[\"CUDA_VISIBLE_DEVICES\"]= \"0\"  # Set the GPUs to use"
   ]
  },
  {
   "cell_type": "code",
   "execution_count": 2,
   "id": "c327d1df",
   "metadata": {
    "execution": {
     "iopub.execute_input": "2023-04-24T07:28:10.558697Z",
     "iopub.status.busy": "2023-04-24T07:28:10.558320Z",
     "iopub.status.idle": "2023-04-24T07:28:14.415836Z",
     "shell.execute_reply": "2023-04-24T07:28:14.414148Z"
    },
    "papermill": {
     "duration": 3.868132,
     "end_time": "2023-04-24T07:28:14.419887",
     "exception": false,
     "start_time": "2023-04-24T07:28:10.551755",
     "status": "completed"
    },
    "tags": []
   },
   "outputs": [],
   "source": [
    "import os\n",
    "import re\n",
    "import warnings\n",
    "\n",
    "import torch\n",
    "\n",
    "from transformers import (\n",
    "    AutoConfig, AutoTokenizer, \n",
    "    AutoModelForSeq2SeqLM, Seq2SeqTrainingArguments, Seq2SeqTrainer, DataCollatorForSeq2Seq, \n",
    "    AutoModelForCausalLM, TrainingArguments, Trainer, DataCollatorForLanguageModeling\n",
    ")\n",
    "\n",
    "from peft import get_peft_model, LoraConfig, TaskType\n",
    "\n",
    "from datasets import load_from_disk\n",
    "\n",
    "import wandb\n",
    "\n",
    "warnings.filterwarnings('ignore')"
   ]
  },
  {
   "cell_type": "code",
   "execution_count": 3,
   "id": "36d2adcc",
   "metadata": {
    "execution": {
     "iopub.execute_input": "2023-04-24T07:28:14.439510Z",
     "iopub.status.busy": "2023-04-24T07:28:14.438604Z",
     "iopub.status.idle": "2023-04-24T07:28:14.514948Z",
     "shell.execute_reply": "2023-04-24T07:28:14.513564Z"
    },
    "papermill": {
     "duration": 0.088257,
     "end_time": "2023-04-24T07:28:14.518216",
     "exception": false,
     "start_time": "2023-04-24T07:28:14.429959",
     "status": "completed"
    },
    "tags": []
   },
   "outputs": [
    {
     "data": {
      "text/plain": [
       "(1, 64)"
      ]
     },
     "execution_count": 3,
     "metadata": {},
     "output_type": "execute_result"
    }
   ],
   "source": [
    "NGPU = torch.cuda.device_count()\n",
    "NCPU = os.cpu_count()\n",
    "NGPU, NCPU"
   ]
  },
  {
   "cell_type": "code",
   "execution_count": 4,
   "id": "d1a9c428",
   "metadata": {
    "execution": {
     "iopub.execute_input": "2023-04-24T07:28:14.537526Z",
     "iopub.status.busy": "2023-04-24T07:28:14.536359Z",
     "iopub.status.idle": "2023-04-24T07:28:14.600101Z",
     "shell.execute_reply": "2023-04-24T07:28:14.599199Z"
    },
    "papermill": {
     "duration": 0.072344,
     "end_time": "2023-04-24T07:28:14.601873",
     "exception": false,
     "start_time": "2023-04-24T07:28:14.529529",
     "status": "completed"
    },
    "tags": []
   },
   "outputs": [
    {
     "data": {
      "text/plain": [
       "True"
      ]
     },
     "execution_count": 4,
     "metadata": {},
     "output_type": "execute_result"
    }
   ],
   "source": [
    "torch.cuda.is_available()"
   ]
  },
  {
   "cell_type": "markdown",
   "id": "caf831bf",
   "metadata": {
    "papermill": {
     "duration": 0.00546,
     "end_time": "2023-04-24T07:28:14.614679",
     "exception": false,
     "start_time": "2023-04-24T07:28:14.609219",
     "status": "completed"
    },
    "tags": []
   },
   "source": [
    "# Paths and Names"
   ]
  },
  {
   "cell_type": "code",
   "execution_count": 5,
   "id": "ca4449e4",
   "metadata": {
    "execution": {
     "iopub.execute_input": "2023-04-24T07:28:14.628383Z",
     "iopub.status.busy": "2023-04-24T07:28:14.627916Z",
     "iopub.status.idle": "2023-04-24T07:28:14.877466Z",
     "shell.execute_reply": "2023-04-24T07:28:14.875713Z"
    },
    "papermill": {
     "duration": 0.259209,
     "end_time": "2023-04-24T07:28:14.879783",
     "exception": false,
     "start_time": "2023-04-24T07:28:14.620574",
     "status": "completed"
    },
    "tags": []
   },
   "outputs": [
    {
     "name": "stdout",
     "output_type": "stream",
     "text": [
      "paust_pko_t5_base_v3_run_7_adafactor_lora\n",
      "./.log/paust_pko_t5_base_v3_run_7_adafactor_lora\n"
     ]
    }
   ],
   "source": [
    "### paths and names\n",
    "\n",
    "PROJECT_NAME = 'news-topic-keyphrase-generation-model-dev'\n",
    "RUN_ID = 'v3_run_7_adafactor_lora'\n",
    "\n",
    "TRAIN_DATA_PATH = 'data/model_dev/model_dev_v3_train.hf'\n",
    "EVAL_DATA_PATH = 'data/model_dev/model_dev_v3_eval.hf'\n",
    "\n",
    "MODEL_CHECKPOINT = 'paust/pko-t5-base'\n",
    "model_name = re.sub(r'[/-]', r'_', MODEL_CHECKPOINT).lower()\n",
    "\n",
    "NOTEBOOK_NAME = './train_seq2seq_plm.ipynb'\n",
    "\n",
    "ROOT_PATH = './'\n",
    "SAVE_PATH = os.path.join(ROOT_PATH, '.log')\n",
    "\n",
    "run_name = f'{model_name}_{RUN_ID}'\n",
    "output_dir = os.path.join(SAVE_PATH, run_name)\n",
    "\n",
    "print(run_name)\n",
    "print(output_dir)\n",
    "\n",
    "!mkdir -p {SAVE_PATH}"
   ]
  },
  {
   "cell_type": "code",
   "execution_count": 6,
   "id": "65bfa119",
   "metadata": {
    "execution": {
     "iopub.execute_input": "2023-04-24T07:28:14.896445Z",
     "iopub.status.busy": "2023-04-24T07:28:14.895898Z",
     "iopub.status.idle": "2023-04-24T07:28:16.891889Z",
     "shell.execute_reply": "2023-04-24T07:28:16.890355Z"
    },
    "papermill": {
     "duration": 2.005416,
     "end_time": "2023-04-24T07:28:16.893851",
     "exception": false,
     "start_time": "2023-04-24T07:28:14.888435",
     "status": "completed"
    },
    "tags": []
   },
   "outputs": [
    {
     "name": "stderr",
     "output_type": "stream",
     "text": [
      "\u001b[34m\u001b[1mwandb\u001b[0m: Currently logged in as: \u001b[33mjhpark__\u001b[0m (\u001b[33millunex_ai\u001b[0m). Use \u001b[1m`wandb login --relogin`\u001b[0m to force relogin\n"
     ]
    },
    {
     "data": {
      "text/plain": [
       "True"
      ]
     },
     "execution_count": 6,
     "metadata": {},
     "output_type": "execute_result"
    }
   ],
   "source": [
    "os.environ['WANDB_PROJECT'] = PROJECT_NAME\n",
    "os.environ['WANDB_NOTEBOOK_NAME'] = NOTEBOOK_NAME\n",
    "os.environ['WANDB_LOG_MODEL'] = 'false'\n",
    "os.environ['WANDB_WATCH'] = 'all'\n",
    "\n",
    "wandb.login()"
   ]
  },
  {
   "cell_type": "markdown",
   "id": "3af89314",
   "metadata": {
    "papermill": {
     "duration": 0.006085,
     "end_time": "2023-04-24T07:28:16.909102",
     "exception": false,
     "start_time": "2023-04-24T07:28:16.903017",
     "status": "completed"
    },
    "tags": []
   },
   "source": [
    "# Training Args"
   ]
  },
  {
   "cell_type": "code",
   "execution_count": 7,
   "id": "56b39ed0",
   "metadata": {
    "execution": {
     "iopub.execute_input": "2023-04-24T07:28:16.950877Z",
     "iopub.status.busy": "2023-04-24T07:28:16.950360Z",
     "iopub.status.idle": "2023-04-24T07:28:16.966143Z",
     "shell.execute_reply": "2023-04-24T07:28:16.965063Z"
    },
    "papermill": {
     "duration": 0.053832,
     "end_time": "2023-04-24T07:28:16.968680",
     "exception": false,
     "start_time": "2023-04-24T07:28:16.914848",
     "status": "completed"
    },
    "tags": []
   },
   "outputs": [],
   "source": [
    "batch_size = 8\n",
    "\n",
    "training_args = Seq2SeqTrainingArguments(\n",
    "    output_dir=output_dir,\n",
    "    run_name=run_name,\n",
    "    report_to=\"wandb\",\n",
    "\n",
    "    num_train_epochs=30,\n",
    "    per_device_train_batch_size=batch_size,\n",
    "    per_device_eval_batch_size=batch_size,\n",
    "    gradient_accumulation_steps=1,\n",
    "\n",
    "    ### AdaFactor\n",
    "    optim= 'adafactor',\n",
    "    learning_rate=3e-6 * (batch_size * NGPU) / 8,\n",
    "\n",
    "    lr_scheduler_type='linear', # 'linear', 'cosine', 'cosine_with_restarts', 'polynomial', 'constant', 'constant_with_warmup'\n",
    "    warmup_ratio=0,\n",
    "\n",
    "    # ### AdamW\n",
    "    # optim= 'adamw_torch', # 'adamw_torch' or 'adamw_hf'\n",
    "    # learning_rate=3e-6, # 3e-6 * (per_device_train_batch_size * NGPU) / 8\n",
    "    # adam_beta1=0.9,\n",
    "    # adam_beta2=0.999,\n",
    "    # adam_epsilon=1e-8,\n",
    "    # weight_decay=0.01,\n",
    "\n",
    "    # lr_scheduler_type='linear', # 'linear', 'cosine', 'cosine_with_restarts', 'polynomial', 'constant', 'constant_with_warmup'\n",
    "    # warmup_ratio=0,\n",
    "\n",
    "    save_total_limit=2,\n",
    "\n",
    "    load_best_model_at_end=True,\n",
    "    metric_for_best_model='eval_loss',\n",
    "\n",
    "    save_strategy='epoch',\n",
    "    evaluation_strategy='epoch',\n",
    "\n",
    "    logging_strategy='steps',\n",
    "    logging_first_step=True, \n",
    "    logging_steps=int(500 / NGPU),\n",
    "\n",
    "    predict_with_generate=False,\n",
    "    generation_max_length=64,\n",
    "    # generation_num_beams=generation_num_beams,\n",
    "\n",
    "    fp16=False,\n",
    ")"
   ]
  },
  {
   "attachments": {},
   "cell_type": "markdown",
   "id": "bc142b12",
   "metadata": {
    "papermill": {
     "duration": 0.005788,
     "end_time": "2023-04-24T07:28:16.983596",
     "exception": false,
     "start_time": "2023-04-24T07:28:16.977808",
     "status": "completed"
    },
    "tags": []
   },
   "source": [
    "# Load Model & Tokenizer"
   ]
  },
  {
   "cell_type": "code",
   "execution_count": 8,
   "id": "4cd0073f",
   "metadata": {
    "execution": {
     "iopub.execute_input": "2023-04-24T07:28:16.999707Z",
     "iopub.status.busy": "2023-04-24T07:28:16.999381Z",
     "iopub.status.idle": "2023-04-24T07:28:17.312380Z",
     "shell.execute_reply": "2023-04-24T07:28:17.310731Z"
    },
    "papermill": {
     "duration": 0.324193,
     "end_time": "2023-04-24T07:28:17.315942",
     "exception": false,
     "start_time": "2023-04-24T07:28:16.991749",
     "status": "completed"
    },
    "tags": []
   },
   "outputs": [],
   "source": [
    "config = AutoConfig.from_pretrained(MODEL_CHECKPOINT)"
   ]
  },
  {
   "cell_type": "code",
   "execution_count": 9,
   "id": "b91eca17",
   "metadata": {
    "execution": {
     "iopub.execute_input": "2023-04-24T07:28:17.335892Z",
     "iopub.status.busy": "2023-04-24T07:28:17.335416Z",
     "iopub.status.idle": "2023-04-24T07:28:21.427500Z",
     "shell.execute_reply": "2023-04-24T07:28:21.425920Z"
    },
    "papermill": {
     "duration": 4.102827,
     "end_time": "2023-04-24T07:28:21.430662",
     "exception": false,
     "start_time": "2023-04-24T07:28:17.327835",
     "status": "completed"
    },
    "tags": []
   },
   "outputs": [
    {
     "name": "stderr",
     "output_type": "stream",
     "text": [
      "Special tokens have been added in the vocabulary, make sure the associated word embeddings are fine-tuned or trained.\n"
     ]
    }
   ],
   "source": [
    "model = AutoModelForSeq2SeqLM.from_pretrained(MODEL_CHECKPOINT, config=config)\n",
    "tokenizer = AutoTokenizer.from_pretrained(MODEL_CHECKPOINT)"
   ]
  },
  {
   "cell_type": "code",
   "execution_count": 10,
   "id": "22795a27",
   "metadata": {
    "execution": {
     "iopub.execute_input": "2023-04-24T07:28:21.448991Z",
     "iopub.status.busy": "2023-04-24T07:28:21.448717Z",
     "iopub.status.idle": "2023-04-24T07:28:21.454531Z",
     "shell.execute_reply": "2023-04-24T07:28:21.453626Z"
    },
    "papermill": {
     "duration": 0.017075,
     "end_time": "2023-04-24T07:28:21.457794",
     "exception": false,
     "start_time": "2023-04-24T07:28:21.440719",
     "status": "completed"
    },
    "tags": []
   },
   "outputs": [],
   "source": [
    "peft_config = LoraConfig(\n",
    "    task_type=TaskType.SEQ_2_SEQ_LM, inference_mode=False, r=8, lora_alpha=32, lora_dropout=0.1\n",
    ")"
   ]
  },
  {
   "cell_type": "code",
   "execution_count": 11,
   "id": "54250b8b",
   "metadata": {
    "execution": {
     "iopub.execute_input": "2023-04-24T07:28:21.475233Z",
     "iopub.status.busy": "2023-04-24T07:28:21.475029Z",
     "iopub.status.idle": "2023-04-24T07:28:22.089633Z",
     "shell.execute_reply": "2023-04-24T07:28:22.088269Z"
    },
    "papermill": {
     "duration": 0.624625,
     "end_time": "2023-04-24T07:28:22.092742",
     "exception": false,
     "start_time": "2023-04-24T07:28:21.468117",
     "status": "completed"
    },
    "tags": []
   },
   "outputs": [
    {
     "name": "stdout",
     "output_type": "stream",
     "text": [
      "trainable params: 884736 || all params: 276463872 || trainable%: 0.3200186677556191\n"
     ]
    }
   ],
   "source": [
    "model = get_peft_model(model, peft_config)\n",
    "model.print_trainable_parameters()"
   ]
  },
  {
   "attachments": {},
   "cell_type": "markdown",
   "id": "c789df09",
   "metadata": {
    "papermill": {
     "duration": 0.005993,
     "end_time": "2023-04-24T07:28:22.107979",
     "exception": false,
     "start_time": "2023-04-24T07:28:22.101986",
     "status": "completed"
    },
    "tags": []
   },
   "source": [
    "# Load Data"
   ]
  },
  {
   "cell_type": "code",
   "execution_count": 12,
   "id": "1000e2c8",
   "metadata": {
    "execution": {
     "iopub.execute_input": "2023-04-24T07:28:22.121847Z",
     "iopub.status.busy": "2023-04-24T07:28:22.121365Z",
     "iopub.status.idle": "2023-04-24T07:28:22.138714Z",
     "shell.execute_reply": "2023-04-24T07:28:22.137613Z"
    },
    "papermill": {
     "duration": 0.027785,
     "end_time": "2023-04-24T07:28:22.141722",
     "exception": false,
     "start_time": "2023-04-24T07:28:22.113937",
     "status": "completed"
    },
    "tags": []
   },
   "outputs": [],
   "source": [
    "train_dataset = load_from_disk(TRAIN_DATA_PATH)\n",
    "eval_dataset = load_from_disk(EVAL_DATA_PATH)"
   ]
  },
  {
   "cell_type": "code",
   "execution_count": 13,
   "id": "ebed5d8f",
   "metadata": {
    "execution": {
     "iopub.execute_input": "2023-04-24T07:28:22.162241Z",
     "iopub.status.busy": "2023-04-24T07:28:22.161736Z",
     "iopub.status.idle": "2023-04-24T07:28:25.599424Z",
     "shell.execute_reply": "2023-04-24T07:28:25.597926Z"
    },
    "papermill": {
     "duration": 3.449959,
     "end_time": "2023-04-24T07:28:25.602122",
     "exception": false,
     "start_time": "2023-04-24T07:28:22.152163",
     "status": "completed"
    },
    "tags": []
   },
   "outputs": [
    {
     "data": {
      "text/plain": [
       "'generate keyphrases: \"로페테기가 좋아하는 황희찬, 리즈전 선발 가능성 있어\" 복귀전에서 득점을 한 황희찬은 선발 출전을 대기하고 있다.울버햄튼은 19일 오전 0시(한국시간) 영국 울버햄튼에 위치한 몰리뉴 스타디움에서 리즈 유나이티드와 2022-23시즌 잉글리시 프리미어리그(EPL) 28라운드를 치른다. 울버햄튼은 13위, 리즈는 19위에 위치 중이다.영국 \\'익스프레스 앤 스타\\'는 울버햄튼, 리즈 경기를 프리뷰하면서 \"홈 팬들은 시작부터 공격적이고 강렬한 경기를 원한다. 훌렌 로페테기 감독은 때로는 보수적인 방식으로 접근을 했다. 홈 팬들 앞에서는 달라야 한다. 공격진 변화가 예상되는 황희찬이 선발로 나설 수 있다\"고 전했다.황희찬은 브루노 라즈 감독 아래에선 벤치 신세였다. 로페테기 감독이 온 후엔 달랐다. 득점 수는 적어도 기동력과 저돌적인 황희찬을 선호했다. 경기력으로 응답했다. 2022 국제축구연맹(FIFA) 카타르 월드컵에서 활약으로 자신감까지 올랐다. 좋은 활약을 이어가던 황희찬은 리버풀전에서 부상을 당해 한동안 빠졌다.재활 기간을 거친 황희찬은 지난 뉴캐슬 유나이티드전에 복귀를 했는데 골을 넣었다. 0-1로 뒤지던 후반 24분 들어와 후반 25분 집중력 있는 모습으로 뉴캐슬 골망을 흔들었다. 경기는 울버햄튼의 1-2 패배로 끝이 났지만 황희찬에겐 고무적인 날이었다. 이날 골로 황희찬은 리그 1호 득점에 성공했고 EPL에선 무려 13개월 만에 골 맛을 봤다. 부상 불운을 골로 보답을 받는 날이었다.\\'익스프레스 앤 스타\\'는 \"로페테기 감독은 황희찬을 정말 좋아한다. 근면한 모습과 라울 히메네스를 대체할 수 있는 능력이 있어 리즈전에 선발로 택할 수 있다. 지난 주말 햄스트링 부상에서 돌아온 황희찬은 뉴캐슬을 상대로 골을 넣었다. 황희찬이 선발로 나오면 레프트백 라얀 아이트-누리와 같이 가능성이 높다\"고 구체적인 전망을 내놓았다.울버햄튼 순위는 13위지만 강등권인 18위 본머스와 승점 3점차밖에 안 난다. 리즈전 필승이 요구되는 이유다. 뉴캐슬전에선 골을 넣고도 웃지 못한 황희찬이 리즈전에선 선발 출전, 득점, 팀 승리까지 모두 얻을지 관심이 크다.기사제공 인터풋볼신동훈 기자 hun7599@interfootball.co.krCopyright c 인터풋볼. All rights reserved. 무단 전재 및 재배포 금지.기사 섹션 분류 가이드포포투 FourFourTwo 잡지 정기 구독하기</s><pad><pad><pad><pad><pad><pad><pad><pad><pad><pad><pad><pad><pad><pad><pad><pad><pad><pad><pad><pad><pad><pad><pad><pad><pad><pad><pad><pad><pad><pad><pad><pad><pad><pad><pad><pad><pad><pad><pad><pad><pad><pad><pad><pad><pad><pad><pad><pad><pad><pad><pad><pad><pad><pad><pad><pad><pad><pad><pad><pad><pad><pad><pad><pad><pad><pad><pad><pad><pad><pad><pad><pad><pad><pad><pad><pad><pad><pad><pad><pad><pad><pad><pad><pad><pad><pad><pad><pad><pad><pad><pad><pad><pad><pad><pad><pad><pad><pad><pad><pad><pad><pad><pad><pad><pad><pad><pad><pad><pad><pad><pad><pad><pad><pad><pad><pad><pad><pad><pad><pad><pad><pad><pad><pad><pad><pad><pad><pad><pad><pad><pad><pad><pad><pad><pad><pad><pad><pad><pad><pad><pad><pad><pad><pad><pad><pad><pad><pad><pad><pad><pad><pad><pad><pad><pad><pad><pad><pad><pad><pad><pad><pad><pad><pad><pad><pad><pad><pad><pad><pad><pad><pad><pad><pad><pad><pad><pad><pad><pad><pad><pad><pad><pad><pad><pad><pad><pad><pad><pad><pad><pad><pad><pad><pad><pad><pad><pad><pad>'"
      ]
     },
     "execution_count": 13,
     "metadata": {},
     "output_type": "execute_result"
    }
   ],
   "source": [
    "tokenizer.decode(train_dataset['input_ids'][0])"
   ]
  },
  {
   "cell_type": "code",
   "execution_count": 14,
   "id": "9587f9cd",
   "metadata": {
    "execution": {
     "iopub.execute_input": "2023-04-24T07:28:25.619894Z",
     "iopub.status.busy": "2023-04-24T07:28:25.619510Z",
     "iopub.status.idle": "2023-04-24T07:28:25.868372Z",
     "shell.execute_reply": "2023-04-24T07:28:25.867253Z"
    },
    "papermill": {
     "duration": 0.259823,
     "end_time": "2023-04-24T07:28:25.871631",
     "exception": false,
     "start_time": "2023-04-24T07:28:25.611808",
     "status": "completed"
    },
    "tags": []
   },
   "outputs": [
    {
     "data": {
      "text/plain": [
       "'로페테기; 황희찬; 선발 출전; 울버햄튼; 리즈전; EPL; 득점; 복귀전; 한동안; 부상</s><pad><pad><pad><pad><pad><pad><pad><pad><pad><pad><pad><pad><pad><pad><pad><pad><pad><pad><pad><pad><pad><pad><pad><pad><pad>'"
      ]
     },
     "execution_count": 14,
     "metadata": {},
     "output_type": "execute_result"
    }
   ],
   "source": [
    "tokenizer.decode(train_dataset['labels'][0])"
   ]
  },
  {
   "cell_type": "markdown",
   "id": "54663be4",
   "metadata": {
    "papermill": {
     "duration": 0.007925,
     "end_time": "2023-04-24T07:28:25.893129",
     "exception": false,
     "start_time": "2023-04-24T07:28:25.885204",
     "status": "completed"
    },
    "tags": []
   },
   "source": [
    "# Train"
   ]
  },
  {
   "cell_type": "code",
   "execution_count": 15,
   "id": "0ff454c1",
   "metadata": {
    "execution": {
     "iopub.execute_input": "2023-04-24T07:28:25.909524Z",
     "iopub.status.busy": "2023-04-24T07:28:25.909287Z",
     "iopub.status.idle": "2023-04-24T07:28:27.177829Z",
     "shell.execute_reply": "2023-04-24T07:28:27.176490Z"
    },
    "papermill": {
     "duration": 1.279756,
     "end_time": "2023-04-24T07:28:27.181149",
     "exception": false,
     "start_time": "2023-04-24T07:28:25.901393",
     "status": "completed"
    },
    "tags": []
   },
   "outputs": [],
   "source": [
    "data_collator = DataCollatorForSeq2Seq(tokenizer=tokenizer, model=model, padding=True)\n",
    "\n",
    "trainer = Seq2SeqTrainer(\n",
    "    model=model,\n",
    "    \n",
    "    args=training_args,\n",
    "    \n",
    "    train_dataset=train_dataset,\n",
    "    eval_dataset=eval_dataset,\n",
    "    \n",
    "    tokenizer=tokenizer,\n",
    "    data_collator=data_collator,\n",
    "    \n",
    "    # compute_metrics=compute_metrics,\n",
    ")"
   ]
  },
  {
   "cell_type": "code",
   "execution_count": 16,
   "id": "a27b19e6",
   "metadata": {
    "execution": {
     "iopub.execute_input": "2023-04-24T07:28:27.201462Z",
     "iopub.status.busy": "2023-04-24T07:28:27.200974Z",
     "iopub.status.idle": "2023-04-24T13:55:43.711904Z",
     "shell.execute_reply": "2023-04-24T13:55:43.710922Z"
    },
    "papermill": {
     "duration": 23236.521688,
     "end_time": "2023-04-24T13:55:43.714422",
     "exception": false,
     "start_time": "2023-04-24T07:28:27.192734",
     "status": "completed"
    },
    "tags": []
   },
   "outputs": [
    {
     "data": {
      "text/html": [
       "wandb version 0.15.0 is available!  To upgrade, please run:\n",
       " $ pip install wandb --upgrade"
      ],
      "text/plain": [
       "<IPython.core.display.HTML object>"
      ]
     },
     "metadata": {},
     "output_type": "display_data"
    },
    {
     "data": {
      "text/html": [
       "Tracking run with wandb version 0.13.11"
      ],
      "text/plain": [
       "<IPython.core.display.HTML object>"
      ]
     },
     "metadata": {},
     "output_type": "display_data"
    },
    {
     "data": {
      "text/html": [
       "Run data is saved locally in <code>/workspace/news-topic-keyphrase-generation-model-dev/wandb/run-20230424_162827-9ljfa1tc</code>"
      ],
      "text/plain": [
       "<IPython.core.display.HTML object>"
      ]
     },
     "metadata": {},
     "output_type": "display_data"
    },
    {
     "data": {
      "text/html": [
       "Syncing run <strong><a href='https://wandb.ai/illunex_ai/news-topic-keyphrase-generation-model-dev/runs/9ljfa1tc' target=\"_blank\">paust_pko_t5_base_v3_run_7_adafactor_lora</a></strong> to <a href='https://wandb.ai/illunex_ai/news-topic-keyphrase-generation-model-dev' target=\"_blank\">Weights & Biases</a> (<a href='https://wandb.me/run' target=\"_blank\">docs</a>)<br/>"
      ],
      "text/plain": [
       "<IPython.core.display.HTML object>"
      ]
     },
     "metadata": {},
     "output_type": "display_data"
    },
    {
     "data": {
      "text/html": [
       " View project at <a href='https://wandb.ai/illunex_ai/news-topic-keyphrase-generation-model-dev' target=\"_blank\">https://wandb.ai/illunex_ai/news-topic-keyphrase-generation-model-dev</a>"
      ],
      "text/plain": [
       "<IPython.core.display.HTML object>"
      ]
     },
     "metadata": {},
     "output_type": "display_data"
    },
    {
     "data": {
      "text/html": [
       " View run at <a href='https://wandb.ai/illunex_ai/news-topic-keyphrase-generation-model-dev/runs/9ljfa1tc' target=\"_blank\">https://wandb.ai/illunex_ai/news-topic-keyphrase-generation-model-dev/runs/9ljfa1tc</a>"
      ],
      "text/plain": [
       "<IPython.core.display.HTML object>"
      ]
     },
     "metadata": {},
     "output_type": "display_data"
    },
    {
     "name": "stderr",
     "output_type": "stream",
     "text": [
      "You're using a T5TokenizerFast tokenizer. Please note that with a fast tokenizer, using the `__call__` method is faster than using a method to encode the text followed by a call to the `pad` method to get a padded encoding.\n"
     ]
    },
    {
     "data": {
      "text/html": [
       "\n",
       "    <div>\n",
       "      \n",
       "      <progress value='35070' max='35070' style='width:300px; height:20px; vertical-align: middle;'></progress>\n",
       "      [35070/35070 6:27:02, Epoch 30/30]\n",
       "    </div>\n",
       "    <table border=\"1\" class=\"dataframe\">\n",
       "  <thead>\n",
       " <tr style=\"text-align: left;\">\n",
       "      <th>Epoch</th>\n",
       "      <th>Training Loss</th>\n",
       "      <th>Validation Loss</th>\n",
       "    </tr>\n",
       "  </thead>\n",
       "  <tbody>\n",
       "    <tr>\n",
       "      <td>1</td>\n",
       "      <td>8.942600</td>\n",
       "      <td>7.454755</td>\n",
       "    </tr>\n",
       "    <tr>\n",
       "      <td>2</td>\n",
       "      <td>7.245800</td>\n",
       "      <td>6.422139</td>\n",
       "    </tr>\n",
       "    <tr>\n",
       "      <td>3</td>\n",
       "      <td>6.011900</td>\n",
       "      <td>5.460868</td>\n",
       "    </tr>\n",
       "    <tr>\n",
       "      <td>4</td>\n",
       "      <td>5.130300</td>\n",
       "      <td>4.255542</td>\n",
       "    </tr>\n",
       "    <tr>\n",
       "      <td>5</td>\n",
       "      <td>3.782300</td>\n",
       "      <td>2.480933</td>\n",
       "    </tr>\n",
       "    <tr>\n",
       "      <td>6</td>\n",
       "      <td>2.698600</td>\n",
       "      <td>2.120263</td>\n",
       "    </tr>\n",
       "    <tr>\n",
       "      <td>7</td>\n",
       "      <td>2.443200</td>\n",
       "      <td>2.000340</td>\n",
       "    </tr>\n",
       "    <tr>\n",
       "      <td>8</td>\n",
       "      <td>2.228300</td>\n",
       "      <td>1.888430</td>\n",
       "    </tr>\n",
       "    <tr>\n",
       "      <td>9</td>\n",
       "      <td>2.026200</td>\n",
       "      <td>1.800569</td>\n",
       "    </tr>\n",
       "    <tr>\n",
       "      <td>10</td>\n",
       "      <td>1.939200</td>\n",
       "      <td>1.695539</td>\n",
       "    </tr>\n",
       "    <tr>\n",
       "      <td>11</td>\n",
       "      <td>1.853100</td>\n",
       "      <td>1.584390</td>\n",
       "    </tr>\n",
       "    <tr>\n",
       "      <td>12</td>\n",
       "      <td>1.729000</td>\n",
       "      <td>1.498907</td>\n",
       "    </tr>\n",
       "    <tr>\n",
       "      <td>13</td>\n",
       "      <td>1.665900</td>\n",
       "      <td>1.427496</td>\n",
       "    </tr>\n",
       "    <tr>\n",
       "      <td>14</td>\n",
       "      <td>1.628600</td>\n",
       "      <td>1.371441</td>\n",
       "    </tr>\n",
       "    <tr>\n",
       "      <td>15</td>\n",
       "      <td>1.552000</td>\n",
       "      <td>1.325606</td>\n",
       "    </tr>\n",
       "    <tr>\n",
       "      <td>16</td>\n",
       "      <td>1.520300</td>\n",
       "      <td>1.287492</td>\n",
       "    </tr>\n",
       "    <tr>\n",
       "      <td>17</td>\n",
       "      <td>1.488500</td>\n",
       "      <td>1.255875</td>\n",
       "    </tr>\n",
       "    <tr>\n",
       "      <td>18</td>\n",
       "      <td>1.455400</td>\n",
       "      <td>1.231192</td>\n",
       "    </tr>\n",
       "    <tr>\n",
       "      <td>19</td>\n",
       "      <td>1.437500</td>\n",
       "      <td>1.208748</td>\n",
       "    </tr>\n",
       "    <tr>\n",
       "      <td>20</td>\n",
       "      <td>1.410100</td>\n",
       "      <td>1.189826</td>\n",
       "    </tr>\n",
       "    <tr>\n",
       "      <td>21</td>\n",
       "      <td>1.387900</td>\n",
       "      <td>1.176371</td>\n",
       "    </tr>\n",
       "    <tr>\n",
       "      <td>22</td>\n",
       "      <td>1.383200</td>\n",
       "      <td>1.162776</td>\n",
       "    </tr>\n",
       "    <tr>\n",
       "      <td>23</td>\n",
       "      <td>1.365300</td>\n",
       "      <td>1.153941</td>\n",
       "    </tr>\n",
       "    <tr>\n",
       "      <td>24</td>\n",
       "      <td>1.343400</td>\n",
       "      <td>1.145025</td>\n",
       "    </tr>\n",
       "    <tr>\n",
       "      <td>25</td>\n",
       "      <td>1.343700</td>\n",
       "      <td>1.138131</td>\n",
       "    </tr>\n",
       "    <tr>\n",
       "      <td>26</td>\n",
       "      <td>1.328100</td>\n",
       "      <td>1.132892</td>\n",
       "    </tr>\n",
       "    <tr>\n",
       "      <td>27</td>\n",
       "      <td>1.322500</td>\n",
       "      <td>1.128283</td>\n",
       "    </tr>\n",
       "    <tr>\n",
       "      <td>28</td>\n",
       "      <td>1.323400</td>\n",
       "      <td>1.125702</td>\n",
       "    </tr>\n",
       "    <tr>\n",
       "      <td>29</td>\n",
       "      <td>1.313400</td>\n",
       "      <td>1.124231</td>\n",
       "    </tr>\n",
       "    <tr>\n",
       "      <td>30</td>\n",
       "      <td>1.322000</td>\n",
       "      <td>1.123850</td>\n",
       "    </tr>\n",
       "  </tbody>\n",
       "</table><p>"
      ],
      "text/plain": [
       "<IPython.core.display.HTML object>"
      ]
     },
     "metadata": {},
     "output_type": "display_data"
    },
    {
     "data": {
      "text/html": [
       "Waiting for W&B process to finish... <strong style=\"color:green\">(success).</strong>"
      ],
      "text/plain": [
       "<IPython.core.display.HTML object>"
      ]
     },
     "metadata": {},
     "output_type": "display_data"
    },
    {
     "data": {
      "text/html": [
       "<style>\n",
       "    table.wandb td:nth-child(1) { padding: 0 10px; text-align: left ; width: auto;} td:nth-child(2) {text-align: left ; width: 100%}\n",
       "    .wandb-row { display: flex; flex-direction: row; flex-wrap: wrap; justify-content: flex-start; width: 100% }\n",
       "    .wandb-col { display: flex; flex-direction: column; flex-basis: 100%; flex: 1; padding: 10px; }\n",
       "    </style>\n",
       "<div class=\"wandb-row\"><div class=\"wandb-col\"><h3>Run history:</h3><br/><table class=\"wandb\"><tr><td>eval/loss</td><td>█▇▆▄▃▂▂▂▂▂▂▁▁▁▁▁▁▁▁▁▁▁▁▁▁▁▁▁▁▁</td></tr><tr><td>eval/runtime</td><td>▁▃▂▂▃█▇▇▇█▇▇▇▁▂▂▁▁▇▆▇▇▇▇█▇▁▁▂▁</td></tr><tr><td>eval/samples_per_second</td><td>█▆▇▇▆▁▂▂▂▁▂▂▂█▇▇██▂▃▂▂▂▂▁▂██▇█</td></tr><tr><td>eval/steps_per_second</td><td>█▆▇▇▆▁▂▂▂▁▂▂▂█▇███▁▃▂▂▂▂▁▂██▇█</td></tr><tr><td>train/epoch</td><td>▁▁▁▁▂▂▂▂▂▃▃▃▃▃▄▄▄▄▄▄▅▅▅▅▅▅▆▆▆▆▆▇▇▇▇▇████</td></tr><tr><td>train/global_step</td><td>▁▁▁▁▂▂▂▂▂▃▃▃▃▃▄▄▄▄▄▄▅▅▅▅▅▅▆▆▆▆▆▇▇▇▇▇████</td></tr><tr><td>train/learning_rate</td><td>████▇▇▇▇▇▆▆▆▆▆▆▅▅▅▅▅▅▄▄▄▄▄▃▃▃▃▃▃▂▂▂▂▂▁▁▁</td></tr><tr><td>train/loss</td><td>██▆▅▄▄▃▂▂▂▂▂▂▁▁▁▁▁▁▁▁▁▁▁▁▁▁▁▁▁▁▁▁▁▁▁▁▁▁▁</td></tr><tr><td>train/total_flos</td><td>▁</td></tr><tr><td>train/train_loss</td><td>▁</td></tr><tr><td>train/train_runtime</td><td>▁</td></tr><tr><td>train/train_samples_per_second</td><td>▁</td></tr><tr><td>train/train_steps_per_second</td><td>▁</td></tr></table><br/></div><div class=\"wandb-col\"><h3>Run summary:</h3><br/><table class=\"wandb\"><tr><td>eval/loss</td><td>1.12385</td></tr><tr><td>eval/runtime</td><td>69.4446</td></tr><tr><td>eval/samples_per_second</td><td>33.653</td></tr><tr><td>eval/steps_per_second</td><td>4.219</td></tr><tr><td>train/epoch</td><td>30.0</td></tr><tr><td>train/global_step</td><td>35070</td></tr><tr><td>train/learning_rate</td><td>0.0</td></tr><tr><td>train/loss</td><td>1.322</td></tr><tr><td>train/total_flos</td><td>4.096268961841152e+17</td></tr><tr><td>train/train_loss</td><td>2.43763</td></tr><tr><td>train/train_runtime</td><td>23224.6552</td></tr><tr><td>train/train_samples_per_second</td><td>12.073</td></tr><tr><td>train/train_steps_per_second</td><td>1.51</td></tr></table><br/></div></div>"
      ],
      "text/plain": [
       "<IPython.core.display.HTML object>"
      ]
     },
     "metadata": {},
     "output_type": "display_data"
    },
    {
     "data": {
      "text/html": [
       " View run <strong style=\"color:#cdcd00\">paust_pko_t5_base_v3_run_7_adafactor_lora</strong> at: <a href='https://wandb.ai/illunex_ai/news-topic-keyphrase-generation-model-dev/runs/9ljfa1tc' target=\"_blank\">https://wandb.ai/illunex_ai/news-topic-keyphrase-generation-model-dev/runs/9ljfa1tc</a><br/>Synced 5 W&B file(s), 0 media file(s), 0 artifact file(s) and 0 other file(s)"
      ],
      "text/plain": [
       "<IPython.core.display.HTML object>"
      ]
     },
     "metadata": {},
     "output_type": "display_data"
    },
    {
     "data": {
      "text/html": [
       "Find logs at: <code>./wandb/run-20230424_162827-9ljfa1tc/logs</code>"
      ],
      "text/plain": [
       "<IPython.core.display.HTML object>"
      ]
     },
     "metadata": {},
     "output_type": "display_data"
    }
   ],
   "source": [
    "trainer.train()\n",
    "wandb.finish()"
   ]
  },
  {
   "cell_type": "code",
   "execution_count": 17,
   "id": "418afac7",
   "metadata": {
    "execution": {
     "iopub.execute_input": "2023-04-24T13:55:43.738847Z",
     "iopub.status.busy": "2023-04-24T13:55:43.737719Z",
     "iopub.status.idle": "2023-04-24T13:55:43.744527Z",
     "shell.execute_reply": "2023-04-24T13:55:43.743520Z"
    },
    "papermill": {
     "duration": 0.019094,
     "end_time": "2023-04-24T13:55:43.746766",
     "exception": false,
     "start_time": "2023-04-24T13:55:43.727672",
     "status": "completed"
    },
    "tags": []
   },
   "outputs": [],
   "source": [
    "# keep = [\n",
    "#     'added_tokens.json',\n",
    "#     'config.json',\n",
    "#     'pytorch_model.bin',\n",
    "#     'special_tokens_map.json',\n",
    "#     'tokenizer.json',\n",
    "#     'tokenizer_config.json',\n",
    "#     'vocab.txt'\n",
    "# ]\n",
    "\n",
    "# ckpts = os.listdir(output_dir)\n",
    "# for ckpt in ckpts:\n",
    "#     ckpt = os.path.join(output_dir, ckpt)\n",
    "#     for item in os.listdir(ckpt):\n",
    "#         if item not in keep:\n",
    "#             os.remove(os.path.join(ckpt, item))"
   ]
  },
  {
   "cell_type": "markdown",
   "id": "f536c611",
   "metadata": {
    "papermill": {
     "duration": 0.008087,
     "end_time": "2023-04-24T13:55:43.765314",
     "exception": false,
     "start_time": "2023-04-24T13:55:43.757227",
     "status": "completed"
    },
    "tags": []
   },
   "source": [
    "# Generate"
   ]
  },
  {
   "cell_type": "code",
   "execution_count": 18,
   "id": "3da47e89",
   "metadata": {
    "execution": {
     "iopub.execute_input": "2023-04-24T13:55:43.782435Z",
     "iopub.status.busy": "2023-04-24T13:55:43.781899Z",
     "iopub.status.idle": "2023-04-24T13:55:43.786978Z",
     "shell.execute_reply": "2023-04-24T13:55:43.785978Z"
    },
    "papermill": {
     "duration": 0.01626,
     "end_time": "2023-04-24T13:55:43.789475",
     "exception": false,
     "start_time": "2023-04-24T13:55:43.773215",
     "status": "completed"
    },
    "tags": []
   },
   "outputs": [],
   "source": [
    "# preds = trainer.predict(eval_dataset)"
   ]
  },
  {
   "cell_type": "code",
   "execution_count": 19,
   "id": "37d262bb",
   "metadata": {
    "execution": {
     "iopub.execute_input": "2023-04-24T13:55:43.810880Z",
     "iopub.status.busy": "2023-04-24T13:55:43.809547Z",
     "iopub.status.idle": "2023-04-24T13:55:43.814471Z",
     "shell.execute_reply": "2023-04-24T13:55:43.813649Z"
    },
    "papermill": {
     "duration": 0.016385,
     "end_time": "2023-04-24T13:55:43.816695",
     "exception": false,
     "start_time": "2023-04-24T13:55:43.800310",
     "status": "completed"
    },
    "tags": []
   },
   "outputs": [],
   "source": [
    "# preds.metrics"
   ]
  },
  {
   "cell_type": "code",
   "execution_count": 20,
   "id": "ea9b8491",
   "metadata": {
    "execution": {
     "iopub.execute_input": "2023-04-24T13:55:43.839291Z",
     "iopub.status.busy": "2023-04-24T13:55:43.838118Z",
     "iopub.status.idle": "2023-04-24T13:55:43.844207Z",
     "shell.execute_reply": "2023-04-24T13:55:43.843002Z"
    },
    "papermill": {
     "duration": 0.017858,
     "end_time": "2023-04-24T13:55:43.846625",
     "exception": false,
     "start_time": "2023-04-24T13:55:43.828767",
     "status": "completed"
    },
    "tags": []
   },
   "outputs": [],
   "source": [
    "# for data, pred in zip(eval_dataset, preds.predictions):\n",
    "#     pred = np.where(pred != -100, pred, tokenizer.pad_token_id)\n",
    "#     # context = tokenizer.decode(data['input_ids'], skip_special_tokens=True)\n",
    "#     summary = tokenizer.decode(data['labels'], skip_special_tokens=True)\n",
    "#     pred = tokenizer.decode(pred, skip_special_tokens=True)\n",
    "#     # print(f'입력: {context}')\n",
    "#     print(f'정답: {summary}')\n",
    "#     print(f'예측: {pred}', end='\\n\\n')"
   ]
  }
 ],
 "metadata": {
  "kernelspec": {
   "display_name": ".venv",
   "language": "python",
   "name": "python3"
  },
  "language_info": {
   "codemirror_mode": {
    "name": "ipython",
    "version": 3
   },
   "file_extension": ".py",
   "mimetype": "text/x-python",
   "name": "python",
   "nbconvert_exporter": "python",
   "pygments_lexer": "ipython3",
   "version": "3.9.16"
  },
  "papermill": {
   "default_parameters": {},
   "duration": 23258.375825,
   "end_time": "2023-04-24T13:55:46.731347",
   "environment_variables": {},
   "exception": null,
   "input_path": "./train_seq2seq_plm.ipynb",
   "output_path": "./papermill/paust_pko_t5_base_v3_run_7_adafactor_lora.ipynb",
   "parameters": {},
   "start_time": "2023-04-24T07:28:08.355522",
   "version": "2.4.0"
  },
  "widgets": {
   "application/vnd.jupyter.widget-state+json": {
    "state": {
     "0cc1f44c133542fa97d8aa3375c9e3fe": {
      "model_module": "@jupyter-widgets/base",
      "model_module_version": "2.0.0",
      "model_name": "LayoutModel",
      "state": {
       "_model_module": "@jupyter-widgets/base",
       "_model_module_version": "2.0.0",
       "_model_name": "LayoutModel",
       "_view_count": null,
       "_view_module": "@jupyter-widgets/base",
       "_view_module_version": "2.0.0",
       "_view_name": "LayoutView",
       "align_content": null,
       "align_items": null,
       "align_self": null,
       "border_bottom": null,
       "border_left": null,
       "border_right": null,
       "border_top": null,
       "bottom": null,
       "display": null,
       "flex": null,
       "flex_flow": null,
       "grid_area": null,
       "grid_auto_columns": null,
       "grid_auto_flow": null,
       "grid_auto_rows": null,
       "grid_column": null,
       "grid_gap": null,
       "grid_row": null,
       "grid_template_areas": null,
       "grid_template_columns": null,
       "grid_template_rows": null,
       "height": null,
       "justify_content": null,
       "justify_items": null,
       "left": null,
       "margin": null,
       "max_height": null,
       "max_width": null,
       "min_height": null,
       "min_width": null,
       "object_fit": null,
       "object_position": null,
       "order": null,
       "overflow": null,
       "padding": null,
       "right": null,
       "top": null,
       "visibility": null,
       "width": null
      }
     },
     "12c2e621e5b348ab8501e342df7874d5": {
      "model_module": "@jupyter-widgets/controls",
      "model_module_version": "2.0.0",
      "model_name": "LabelModel",
      "state": {
       "_dom_classes": [],
       "_model_module": "@jupyter-widgets/controls",
       "_model_module_version": "2.0.0",
       "_model_name": "LabelModel",
       "_view_count": null,
       "_view_module": "@jupyter-widgets/controls",
       "_view_module_version": "2.0.0",
       "_view_name": "LabelView",
       "description": "",
       "description_allow_html": false,
       "layout": "IPY_MODEL_4a8e54a755d447b0903961eef73a1493",
       "placeholder": "​",
       "style": "IPY_MODEL_ee49edd062234c7cbb971dd293113c37",
       "tabbable": null,
       "tooltip": null,
       "value": ""
      }
     },
     "362d4990c31b4fbabbcb03f7ea2b7c18": {
      "model_module": "@jupyter-widgets/controls",
      "model_module_version": "2.0.0",
      "model_name": "FloatProgressModel",
      "state": {
       "_dom_classes": [],
       "_model_module": "@jupyter-widgets/controls",
       "_model_module_version": "2.0.0",
       "_model_name": "FloatProgressModel",
       "_view_count": null,
       "_view_module": "@jupyter-widgets/controls",
       "_view_module_version": "2.0.0",
       "_view_name": "ProgressView",
       "bar_style": "",
       "description": "",
       "description_allow_html": false,
       "layout": "IPY_MODEL_0cc1f44c133542fa97d8aa3375c9e3fe",
       "max": 1.0,
       "min": 0.0,
       "orientation": "horizontal",
       "style": "IPY_MODEL_b2373bb61a734d4cbf2044bae74628bd",
       "tabbable": null,
       "tooltip": null,
       "value": 0.0
      }
     },
     "45f5dd0e2edf4b519e644424e891324d": {
      "model_module": "@jupyter-widgets/controls",
      "model_module_version": "2.0.0",
      "model_name": "FloatProgressModel",
      "state": {
       "_dom_classes": [],
       "_model_module": "@jupyter-widgets/controls",
       "_model_module_version": "2.0.0",
       "_model_name": "FloatProgressModel",
       "_view_count": null,
       "_view_module": "@jupyter-widgets/controls",
       "_view_module_version": "2.0.0",
       "_view_name": "ProgressView",
       "bar_style": "",
       "description": "",
       "description_allow_html": false,
       "layout": "IPY_MODEL_81023562e41147919c6778dcf7d0cf33",
       "max": 1.0,
       "min": 0.0,
       "orientation": "horizontal",
       "style": "IPY_MODEL_ec19404f72494716818240ba64155d1e",
       "tabbable": null,
       "tooltip": null,
       "value": 0.0
      }
     },
     "4a8e54a755d447b0903961eef73a1493": {
      "model_module": "@jupyter-widgets/base",
      "model_module_version": "2.0.0",
      "model_name": "LayoutModel",
      "state": {
       "_model_module": "@jupyter-widgets/base",
       "_model_module_version": "2.0.0",
       "_model_name": "LayoutModel",
       "_view_count": null,
       "_view_module": "@jupyter-widgets/base",
       "_view_module_version": "2.0.0",
       "_view_name": "LayoutView",
       "align_content": null,
       "align_items": null,
       "align_self": null,
       "border_bottom": null,
       "border_left": null,
       "border_right": null,
       "border_top": null,
       "bottom": null,
       "display": null,
       "flex": null,
       "flex_flow": null,
       "grid_area": null,
       "grid_auto_columns": null,
       "grid_auto_flow": null,
       "grid_auto_rows": null,
       "grid_column": null,
       "grid_gap": null,
       "grid_row": null,
       "grid_template_areas": null,
       "grid_template_columns": null,
       "grid_template_rows": null,
       "height": null,
       "justify_content": null,
       "justify_items": null,
       "left": null,
       "margin": null,
       "max_height": null,
       "max_width": null,
       "min_height": null,
       "min_width": null,
       "object_fit": null,
       "object_position": null,
       "order": null,
       "overflow": null,
       "padding": null,
       "right": null,
       "top": null,
       "visibility": null,
       "width": null
      }
     },
     "5b7a8f8ffc084defa2c13cf1f6e62a77": {
      "model_module": "@jupyter-widgets/controls",
      "model_module_version": "2.0.0",
      "model_name": "LabelModel",
      "state": {
       "_dom_classes": [],
       "_model_module": "@jupyter-widgets/controls",
       "_model_module_version": "2.0.0",
       "_model_name": "LabelModel",
       "_view_count": null,
       "_view_module": "@jupyter-widgets/controls",
       "_view_module_version": "2.0.0",
       "_view_name": "LabelView",
       "description": "",
       "description_allow_html": false,
       "layout": "IPY_MODEL_6ae36640e70c44ffa38235ea7505fd4e",
       "placeholder": "​",
       "style": "IPY_MODEL_61d056d220a24b089ce50a71b69abd29",
       "tabbable": null,
       "tooltip": null,
       "value": ""
      }
     },
     "61d056d220a24b089ce50a71b69abd29": {
      "model_module": "@jupyter-widgets/controls",
      "model_module_version": "2.0.0",
      "model_name": "LabelStyleModel",
      "state": {
       "_model_module": "@jupyter-widgets/controls",
       "_model_module_version": "2.0.0",
       "_model_name": "LabelStyleModel",
       "_view_count": null,
       "_view_module": "@jupyter-widgets/base",
       "_view_module_version": "2.0.0",
       "_view_name": "StyleView",
       "background": null,
       "description_width": "",
       "font_family": null,
       "font_size": null,
       "font_style": null,
       "font_variant": null,
       "font_weight": null,
       "text_color": null,
       "text_decoration": null
      }
     },
     "6ae36640e70c44ffa38235ea7505fd4e": {
      "model_module": "@jupyter-widgets/base",
      "model_module_version": "2.0.0",
      "model_name": "LayoutModel",
      "state": {
       "_model_module": "@jupyter-widgets/base",
       "_model_module_version": "2.0.0",
       "_model_name": "LayoutModel",
       "_view_count": null,
       "_view_module": "@jupyter-widgets/base",
       "_view_module_version": "2.0.0",
       "_view_name": "LayoutView",
       "align_content": null,
       "align_items": null,
       "align_self": null,
       "border_bottom": null,
       "border_left": null,
       "border_right": null,
       "border_top": null,
       "bottom": null,
       "display": null,
       "flex": null,
       "flex_flow": null,
       "grid_area": null,
       "grid_auto_columns": null,
       "grid_auto_flow": null,
       "grid_auto_rows": null,
       "grid_column": null,
       "grid_gap": null,
       "grid_row": null,
       "grid_template_areas": null,
       "grid_template_columns": null,
       "grid_template_rows": null,
       "height": null,
       "justify_content": null,
       "justify_items": null,
       "left": null,
       "margin": null,
       "max_height": null,
       "max_width": null,
       "min_height": null,
       "min_width": null,
       "object_fit": null,
       "object_position": null,
       "order": null,
       "overflow": null,
       "padding": null,
       "right": null,
       "top": null,
       "visibility": null,
       "width": null
      }
     },
     "81023562e41147919c6778dcf7d0cf33": {
      "model_module": "@jupyter-widgets/base",
      "model_module_version": "2.0.0",
      "model_name": "LayoutModel",
      "state": {
       "_model_module": "@jupyter-widgets/base",
       "_model_module_version": "2.0.0",
       "_model_name": "LayoutModel",
       "_view_count": null,
       "_view_module": "@jupyter-widgets/base",
       "_view_module_version": "2.0.0",
       "_view_name": "LayoutView",
       "align_content": null,
       "align_items": null,
       "align_self": null,
       "border_bottom": null,
       "border_left": null,
       "border_right": null,
       "border_top": null,
       "bottom": null,
       "display": null,
       "flex": null,
       "flex_flow": null,
       "grid_area": null,
       "grid_auto_columns": null,
       "grid_auto_flow": null,
       "grid_auto_rows": null,
       "grid_column": null,
       "grid_gap": null,
       "grid_row": null,
       "grid_template_areas": null,
       "grid_template_columns": null,
       "grid_template_rows": null,
       "height": null,
       "justify_content": null,
       "justify_items": null,
       "left": null,
       "margin": null,
       "max_height": null,
       "max_width": null,
       "min_height": null,
       "min_width": null,
       "object_fit": null,
       "object_position": null,
       "order": null,
       "overflow": null,
       "padding": null,
       "right": null,
       "top": null,
       "visibility": null,
       "width": null
      }
     },
     "88aac533bf644e0b83a158d90f4bc5cc": {
      "model_module": "@jupyter-widgets/controls",
      "model_module_version": "2.0.0",
      "model_name": "VBoxModel",
      "state": {
       "_dom_classes": [],
       "_model_module": "@jupyter-widgets/controls",
       "_model_module_version": "2.0.0",
       "_model_name": "VBoxModel",
       "_view_count": null,
       "_view_module": "@jupyter-widgets/controls",
       "_view_module_version": "2.0.0",
       "_view_name": "VBoxView",
       "box_style": "",
       "children": [
        "IPY_MODEL_12c2e621e5b348ab8501e342df7874d5",
        "IPY_MODEL_362d4990c31b4fbabbcb03f7ea2b7c18"
       ],
       "layout": "IPY_MODEL_96c85d703e1144d3988157f0e3d4b938",
       "tabbable": null,
       "tooltip": null
      }
     },
     "8ddc7288e21c4cd586ca20f84d9c7f3d": {
      "model_module": "@jupyter-widgets/base",
      "model_module_version": "2.0.0",
      "model_name": "LayoutModel",
      "state": {
       "_model_module": "@jupyter-widgets/base",
       "_model_module_version": "2.0.0",
       "_model_name": "LayoutModel",
       "_view_count": null,
       "_view_module": "@jupyter-widgets/base",
       "_view_module_version": "2.0.0",
       "_view_name": "LayoutView",
       "align_content": null,
       "align_items": null,
       "align_self": null,
       "border_bottom": null,
       "border_left": null,
       "border_right": null,
       "border_top": null,
       "bottom": null,
       "display": null,
       "flex": null,
       "flex_flow": null,
       "grid_area": null,
       "grid_auto_columns": null,
       "grid_auto_flow": null,
       "grid_auto_rows": null,
       "grid_column": null,
       "grid_gap": null,
       "grid_row": null,
       "grid_template_areas": null,
       "grid_template_columns": null,
       "grid_template_rows": null,
       "height": null,
       "justify_content": null,
       "justify_items": null,
       "left": null,
       "margin": null,
       "max_height": null,
       "max_width": null,
       "min_height": null,
       "min_width": null,
       "object_fit": null,
       "object_position": null,
       "order": null,
       "overflow": null,
       "padding": null,
       "right": null,
       "top": null,
       "visibility": null,
       "width": null
      }
     },
     "96c85d703e1144d3988157f0e3d4b938": {
      "model_module": "@jupyter-widgets/base",
      "model_module_version": "2.0.0",
      "model_name": "LayoutModel",
      "state": {
       "_model_module": "@jupyter-widgets/base",
       "_model_module_version": "2.0.0",
       "_model_name": "LayoutModel",
       "_view_count": null,
       "_view_module": "@jupyter-widgets/base",
       "_view_module_version": "2.0.0",
       "_view_name": "LayoutView",
       "align_content": null,
       "align_items": null,
       "align_self": null,
       "border_bottom": null,
       "border_left": null,
       "border_right": null,
       "border_top": null,
       "bottom": null,
       "display": null,
       "flex": null,
       "flex_flow": null,
       "grid_area": null,
       "grid_auto_columns": null,
       "grid_auto_flow": null,
       "grid_auto_rows": null,
       "grid_column": null,
       "grid_gap": null,
       "grid_row": null,
       "grid_template_areas": null,
       "grid_template_columns": null,
       "grid_template_rows": null,
       "height": null,
       "justify_content": null,
       "justify_items": null,
       "left": null,
       "margin": null,
       "max_height": null,
       "max_width": null,
       "min_height": null,
       "min_width": null,
       "object_fit": null,
       "object_position": null,
       "order": null,
       "overflow": null,
       "padding": null,
       "right": null,
       "top": null,
       "visibility": null,
       "width": null
      }
     },
     "b2373bb61a734d4cbf2044bae74628bd": {
      "model_module": "@jupyter-widgets/controls",
      "model_module_version": "2.0.0",
      "model_name": "ProgressStyleModel",
      "state": {
       "_model_module": "@jupyter-widgets/controls",
       "_model_module_version": "2.0.0",
       "_model_name": "ProgressStyleModel",
       "_view_count": null,
       "_view_module": "@jupyter-widgets/base",
       "_view_module_version": "2.0.0",
       "_view_name": "StyleView",
       "bar_color": null,
       "description_width": ""
      }
     },
     "d2d8388fd4084e4fbbe0f9498821df41": {
      "model_module": "@jupyter-widgets/controls",
      "model_module_version": "2.0.0",
      "model_name": "VBoxModel",
      "state": {
       "_dom_classes": [],
       "_model_module": "@jupyter-widgets/controls",
       "_model_module_version": "2.0.0",
       "_model_name": "VBoxModel",
       "_view_count": null,
       "_view_module": "@jupyter-widgets/controls",
       "_view_module_version": "2.0.0",
       "_view_name": "VBoxView",
       "box_style": "",
       "children": [
        "IPY_MODEL_5b7a8f8ffc084defa2c13cf1f6e62a77",
        "IPY_MODEL_45f5dd0e2edf4b519e644424e891324d"
       ],
       "layout": "IPY_MODEL_8ddc7288e21c4cd586ca20f84d9c7f3d",
       "tabbable": null,
       "tooltip": null
      }
     },
     "ec19404f72494716818240ba64155d1e": {
      "model_module": "@jupyter-widgets/controls",
      "model_module_version": "2.0.0",
      "model_name": "ProgressStyleModel",
      "state": {
       "_model_module": "@jupyter-widgets/controls",
       "_model_module_version": "2.0.0",
       "_model_name": "ProgressStyleModel",
       "_view_count": null,
       "_view_module": "@jupyter-widgets/base",
       "_view_module_version": "2.0.0",
       "_view_name": "StyleView",
       "bar_color": null,
       "description_width": ""
      }
     },
     "ee49edd062234c7cbb971dd293113c37": {
      "model_module": "@jupyter-widgets/controls",
      "model_module_version": "2.0.0",
      "model_name": "LabelStyleModel",
      "state": {
       "_model_module": "@jupyter-widgets/controls",
       "_model_module_version": "2.0.0",
       "_model_name": "LabelStyleModel",
       "_view_count": null,
       "_view_module": "@jupyter-widgets/base",
       "_view_module_version": "2.0.0",
       "_view_name": "StyleView",
       "background": null,
       "description_width": "",
       "font_family": null,
       "font_size": null,
       "font_style": null,
       "font_variant": null,
       "font_weight": null,
       "text_color": null,
       "text_decoration": null
      }
     }
    },
    "version_major": 2,
    "version_minor": 0
   }
  }
 },
 "nbformat": 4,
 "nbformat_minor": 5
}