{
 "cells": [
  {
   "cell_type": "code",
   "execution_count": 1,
   "id": "7a6203b5",
   "metadata": {
    "execution": {
     "iopub.execute_input": "2023-04-25T00:18:29.308574Z",
     "iopub.status.busy": "2023-04-25T00:18:29.308291Z",
     "iopub.status.idle": "2023-04-25T00:18:29.319378Z",
     "shell.execute_reply": "2023-04-25T00:18:29.318522Z"
    },
    "papermill": {
     "duration": 0.027937,
     "end_time": "2023-04-25T00:18:29.322098",
     "exception": false,
     "start_time": "2023-04-25T00:18:29.294161",
     "status": "completed"
    },
    "tags": []
   },
   "outputs": [],
   "source": [
    "import os\n",
    "os.environ[\"TOKENIZERS_PARALLELISM\"] = \"false\"\n",
    "os.environ[\"CUDA_DEVICE_ORDER\"]=\"PCI_BUS_ID\"  # Arrange GPU devices starting from 0\n",
    "os.environ[\"CUDA_VISIBLE_DEVICES\"]= \"1\"  # Set the GPUs to use"
   ]
  },
  {
   "cell_type": "code",
   "execution_count": 2,
   "id": "a2e225a6",
   "metadata": {
    "execution": {
     "iopub.execute_input": "2023-04-25T00:18:29.338157Z",
     "iopub.status.busy": "2023-04-25T00:18:29.337752Z",
     "iopub.status.idle": "2023-04-25T00:18:33.719501Z",
     "shell.execute_reply": "2023-04-25T00:18:33.718097Z"
    },
    "papermill": {
     "duration": 4.392676,
     "end_time": "2023-04-25T00:18:33.723674",
     "exception": false,
     "start_time": "2023-04-25T00:18:29.330998",
     "status": "completed"
    },
    "tags": []
   },
   "outputs": [],
   "source": [
    "import os\n",
    "import re\n",
    "import warnings\n",
    "\n",
    "import torch\n",
    "\n",
    "from transformers import (\n",
    "    AutoConfig, AutoTokenizer, \n",
    "    AutoModelForSeq2SeqLM, Seq2SeqTrainingArguments, Seq2SeqTrainer, DataCollatorForSeq2Seq, \n",
    "    AutoModelForCausalLM, TrainingArguments, Trainer, DataCollatorForLanguageModeling\n",
    ")\n",
    "\n",
    "from peft import get_peft_model, LoraConfig, TaskType\n",
    "\n",
    "from datasets import load_from_disk\n",
    "\n",
    "import wandb\n",
    "\n",
    "warnings.filterwarnings('ignore')"
   ]
  },
  {
   "cell_type": "code",
   "execution_count": 3,
   "id": "b4048d72",
   "metadata": {
    "execution": {
     "iopub.execute_input": "2023-04-25T00:18:33.742965Z",
     "iopub.status.busy": "2023-04-25T00:18:33.742109Z",
     "iopub.status.idle": "2023-04-25T00:18:33.817763Z",
     "shell.execute_reply": "2023-04-25T00:18:33.815812Z"
    },
    "papermill": {
     "duration": 0.086092,
     "end_time": "2023-04-25T00:18:33.821228",
     "exception": false,
     "start_time": "2023-04-25T00:18:33.735136",
     "status": "completed"
    },
    "tags": []
   },
   "outputs": [
    {
     "data": {
      "text/plain": [
       "(1, 64)"
      ]
     },
     "execution_count": 3,
     "metadata": {},
     "output_type": "execute_result"
    }
   ],
   "source": [
    "NGPU = torch.cuda.device_count()\n",
    "NCPU = os.cpu_count()\n",
    "NGPU, NCPU"
   ]
  },
  {
   "cell_type": "code",
   "execution_count": 4,
   "id": "e5cdaf1d",
   "metadata": {
    "execution": {
     "iopub.execute_input": "2023-04-25T00:18:33.837574Z",
     "iopub.status.busy": "2023-04-25T00:18:33.836503Z",
     "iopub.status.idle": "2023-04-25T00:18:33.882344Z",
     "shell.execute_reply": "2023-04-25T00:18:33.881278Z"
    },
    "papermill": {
     "duration": 0.056209,
     "end_time": "2023-04-25T00:18:33.885388",
     "exception": false,
     "start_time": "2023-04-25T00:18:33.829179",
     "status": "completed"
    },
    "tags": []
   },
   "outputs": [
    {
     "data": {
      "text/plain": [
       "True"
      ]
     },
     "execution_count": 4,
     "metadata": {},
     "output_type": "execute_result"
    }
   ],
   "source": [
    "torch.cuda.is_available()"
   ]
  },
  {
   "cell_type": "markdown",
   "id": "6fa9567f",
   "metadata": {
    "papermill": {
     "duration": 0.005459,
     "end_time": "2023-04-25T00:18:33.898986",
     "exception": false,
     "start_time": "2023-04-25T00:18:33.893527",
     "status": "completed"
    },
    "tags": []
   },
   "source": [
    "# Paths and Names"
   ]
  },
  {
   "cell_type": "code",
   "execution_count": 5,
   "id": "29c39023",
   "metadata": {
    "execution": {
     "iopub.execute_input": "2023-04-25T00:18:33.915032Z",
     "iopub.status.busy": "2023-04-25T00:18:33.913963Z",
     "iopub.status.idle": "2023-04-25T00:18:34.176510Z",
     "shell.execute_reply": "2023-04-25T00:18:34.174643Z"
    },
    "papermill": {
     "duration": 0.275634,
     "end_time": "2023-04-25T00:18:34.179976",
     "exception": false,
     "start_time": "2023-04-25T00:18:33.904342",
     "status": "completed"
    },
    "tags": []
   },
   "outputs": [
    {
     "name": "stdout",
     "output_type": "stream",
     "text": [
      "paust_pko_t5_base_v3_run_8_adafactor_lora_100_epochs\n",
      "./.log/paust_pko_t5_base_v3_run_8_adafactor_lora_100_epochs\n"
     ]
    }
   ],
   "source": [
    "### paths and names\n",
    "\n",
    "PROJECT_NAME = 'news-topic-keyphrase-generation-model-dev'\n",
    "RUN_ID = 'v3_run_8_adafactor_lora_100_epochs'\n",
    "\n",
    "TRAIN_DATA_PATH = 'data/model_dev/model_dev_v3_train.hf'\n",
    "EVAL_DATA_PATH = 'data/model_dev/model_dev_v3_eval.hf'\n",
    "\n",
    "MODEL_CHECKPOINT = 'paust/pko-t5-base'\n",
    "model_name = re.sub(r'[/-]', r'_', MODEL_CHECKPOINT).lower()\n",
    "\n",
    "NOTEBOOK_NAME = './train_seq2seq_plm.ipynb'\n",
    "\n",
    "ROOT_PATH = './'\n",
    "SAVE_PATH = os.path.join(ROOT_PATH, '.log')\n",
    "\n",
    "run_name = f'{model_name}_{RUN_ID}'\n",
    "output_dir = os.path.join(SAVE_PATH, run_name)\n",
    "\n",
    "print(run_name)\n",
    "print(output_dir)\n",
    "\n",
    "!mkdir -p {SAVE_PATH}"
   ]
  },
  {
   "cell_type": "code",
   "execution_count": 6,
   "id": "35524591",
   "metadata": {
    "execution": {
     "iopub.execute_input": "2023-04-25T00:18:34.199700Z",
     "iopub.status.busy": "2023-04-25T00:18:34.199086Z",
     "iopub.status.idle": "2023-04-25T00:18:36.214262Z",
     "shell.execute_reply": "2023-04-25T00:18:36.213166Z"
    },
    "papermill": {
     "duration": 2.024894,
     "end_time": "2023-04-25T00:18:36.216695",
     "exception": false,
     "start_time": "2023-04-25T00:18:34.191801",
     "status": "completed"
    },
    "tags": []
   },
   "outputs": [
    {
     "name": "stderr",
     "output_type": "stream",
     "text": [
      "\u001b[34m\u001b[1mwandb\u001b[0m: Currently logged in as: \u001b[33mjhpark__\u001b[0m (\u001b[33millunex_ai\u001b[0m). Use \u001b[1m`wandb login --relogin`\u001b[0m to force relogin\n"
     ]
    },
    {
     "data": {
      "text/plain": [
       "True"
      ]
     },
     "execution_count": 6,
     "metadata": {},
     "output_type": "execute_result"
    }
   ],
   "source": [
    "os.environ['WANDB_PROJECT'] = PROJECT_NAME\n",
    "os.environ['WANDB_NOTEBOOK_NAME'] = NOTEBOOK_NAME\n",
    "os.environ['WANDB_LOG_MODEL'] = 'false'\n",
    "os.environ['WANDB_WATCH'] = 'all'\n",
    "\n",
    "wandb.login()"
   ]
  },
  {
   "cell_type": "markdown",
   "id": "1671a00a",
   "metadata": {
    "papermill": {
     "duration": 0.005647,
     "end_time": "2023-04-25T00:18:36.231187",
     "exception": false,
     "start_time": "2023-04-25T00:18:36.225540",
     "status": "completed"
    },
    "tags": []
   },
   "source": [
    "# Training Args"
   ]
  },
  {
   "cell_type": "code",
   "execution_count": 7,
   "id": "668ab4c1",
   "metadata": {
    "execution": {
     "iopub.execute_input": "2023-04-25T00:18:36.292702Z",
     "iopub.status.busy": "2023-04-25T00:18:36.292313Z",
     "iopub.status.idle": "2023-04-25T00:18:36.303698Z",
     "shell.execute_reply": "2023-04-25T00:18:36.303166Z"
    },
    "papermill": {
     "duration": 0.068681,
     "end_time": "2023-04-25T00:18:36.305452",
     "exception": false,
     "start_time": "2023-04-25T00:18:36.236771",
     "status": "completed"
    },
    "tags": []
   },
   "outputs": [],
   "source": [
    "batch_size = 8\n",
    "\n",
    "training_args = Seq2SeqTrainingArguments(\n",
    "    output_dir=output_dir,\n",
    "    run_name=run_name,\n",
    "    report_to=\"wandb\",\n",
    "\n",
    "    num_train_epochs=100,\n",
    "    per_device_train_batch_size=batch_size,\n",
    "    per_device_eval_batch_size=batch_size,\n",
    "    gradient_accumulation_steps=1,\n",
    "\n",
    "    ### AdaFactor\n",
    "    optim= 'adafactor',\n",
    "    learning_rate=3e-6 * (batch_size * NGPU) / 8,\n",
    "\n",
    "    lr_scheduler_type='linear', # 'linear', 'cosine', 'cosine_with_restarts', 'polynomial', 'constant', 'constant_with_warmup'\n",
    "    warmup_ratio=0,\n",
    "\n",
    "    # ### AdamW\n",
    "    # optim= 'adamw_torch', # 'adamw_torch' or 'adamw_hf'\n",
    "    # learning_rate=3e-6, # 3e-6 * (per_device_train_batch_size * NGPU) / 8\n",
    "    # adam_beta1=0.9,\n",
    "    # adam_beta2=0.999,\n",
    "    # adam_epsilon=1e-8,\n",
    "    # weight_decay=0.01,\n",
    "\n",
    "    # lr_scheduler_type='linear', # 'linear', 'cosine', 'cosine_with_restarts', 'polynomial', 'constant', 'constant_with_warmup'\n",
    "    # warmup_ratio=0,\n",
    "\n",
    "    save_total_limit=2,\n",
    "\n",
    "    load_best_model_at_end=True,\n",
    "    metric_for_best_model='eval_loss',\n",
    "\n",
    "    save_strategy='epoch',\n",
    "    evaluation_strategy='epoch',\n",
    "\n",
    "    logging_strategy='steps',\n",
    "    logging_first_step=True, \n",
    "    logging_steps=int(500 / NGPU),\n",
    "\n",
    "    predict_with_generate=False,\n",
    "    generation_max_length=64,\n",
    "    # generation_num_beams=generation_num_beams,\n",
    "\n",
    "    fp16=False,\n",
    ")"
   ]
  },
  {
   "attachments": {},
   "cell_type": "markdown",
   "id": "285a8244",
   "metadata": {
    "papermill": {
     "duration": 0.005594,
     "end_time": "2023-04-25T00:18:36.319903",
     "exception": false,
     "start_time": "2023-04-25T00:18:36.314309",
     "status": "completed"
    },
    "tags": []
   },
   "source": [
    "# Load Model & Tokenizer"
   ]
  },
  {
   "cell_type": "code",
   "execution_count": 8,
   "id": "1030fb87",
   "metadata": {
    "execution": {
     "iopub.execute_input": "2023-04-25T00:18:36.332974Z",
     "iopub.status.busy": "2023-04-25T00:18:36.332569Z",
     "iopub.status.idle": "2023-04-25T00:18:43.262283Z",
     "shell.execute_reply": "2023-04-25T00:18:43.261122Z"
    },
    "papermill": {
     "duration": 6.940041,
     "end_time": "2023-04-25T00:18:43.266077",
     "exception": false,
     "start_time": "2023-04-25T00:18:36.326036",
     "status": "completed"
    },
    "tags": []
   },
   "outputs": [],
   "source": [
    "config = AutoConfig.from_pretrained(MODEL_CHECKPOINT)"
   ]
  },
  {
   "cell_type": "code",
   "execution_count": 9,
   "id": "6c76ec7a",
   "metadata": {
    "execution": {
     "iopub.execute_input": "2023-04-25T00:18:43.284444Z",
     "iopub.status.busy": "2023-04-25T00:18:43.283536Z",
     "iopub.status.idle": "2023-04-25T00:18:59.595934Z",
     "shell.execute_reply": "2023-04-25T00:18:59.595027Z"
    },
    "papermill": {
     "duration": 16.321661,
     "end_time": "2023-04-25T00:18:59.598015",
     "exception": false,
     "start_time": "2023-04-25T00:18:43.276354",
     "status": "completed"
    },
    "tags": []
   },
   "outputs": [
    {
     "name": "stderr",
     "output_type": "stream",
     "text": [
      "Special tokens have been added in the vocabulary, make sure the associated word embeddings are fine-tuned or trained.\n"
     ]
    }
   ],
   "source": [
    "model = AutoModelForSeq2SeqLM.from_pretrained(MODEL_CHECKPOINT, config=config)\n",
    "tokenizer = AutoTokenizer.from_pretrained(MODEL_CHECKPOINT)"
   ]
  },
  {
   "cell_type": "code",
   "execution_count": 10,
   "id": "2355c949",
   "metadata": {
    "execution": {
     "iopub.execute_input": "2023-04-25T00:18:59.613860Z",
     "iopub.status.busy": "2023-04-25T00:18:59.613203Z",
     "iopub.status.idle": "2023-04-25T00:18:59.620454Z",
     "shell.execute_reply": "2023-04-25T00:18:59.619300Z"
    },
    "papermill": {
     "duration": 0.016541,
     "end_time": "2023-04-25T00:18:59.622249",
     "exception": false,
     "start_time": "2023-04-25T00:18:59.605708",
     "status": "completed"
    },
    "tags": []
   },
   "outputs": [],
   "source": [
    "peft_config = LoraConfig(\n",
    "    task_type=TaskType.SEQ_2_SEQ_LM, inference_mode=False, r=8, lora_alpha=32, lora_dropout=0.1\n",
    ")"
   ]
  },
  {
   "cell_type": "code",
   "execution_count": 11,
   "id": "24a5deba",
   "metadata": {
    "execution": {
     "iopub.execute_input": "2023-04-25T00:18:59.639958Z",
     "iopub.status.busy": "2023-04-25T00:18:59.639449Z",
     "iopub.status.idle": "2023-04-25T00:19:00.253715Z",
     "shell.execute_reply": "2023-04-25T00:19:00.253171Z"
    },
    "papermill": {
     "duration": 0.625983,
     "end_time": "2023-04-25T00:19:00.257155",
     "exception": false,
     "start_time": "2023-04-25T00:18:59.631172",
     "status": "completed"
    },
    "tags": []
   },
   "outputs": [
    {
     "name": "stdout",
     "output_type": "stream",
     "text": [
      "trainable params: 884736 || all params: 276463872 || trainable%: 0.3200186677556191\n"
     ]
    }
   ],
   "source": [
    "model = get_peft_model(model, peft_config)\n",
    "model.print_trainable_parameters()"
   ]
  },
  {
   "attachments": {},
   "cell_type": "markdown",
   "id": "dc9c815a",
   "metadata": {
    "papermill": {
     "duration": 0.00714,
     "end_time": "2023-04-25T00:19:00.279074",
     "exception": false,
     "start_time": "2023-04-25T00:19:00.271934",
     "status": "completed"
    },
    "tags": []
   },
   "source": [
    "# Load Data"
   ]
  },
  {
   "cell_type": "code",
   "execution_count": 12,
   "id": "e3ac204b",
   "metadata": {
    "execution": {
     "iopub.execute_input": "2023-04-25T00:19:00.301435Z",
     "iopub.status.busy": "2023-04-25T00:19:00.300440Z",
     "iopub.status.idle": "2023-04-25T00:19:00.320200Z",
     "shell.execute_reply": "2023-04-25T00:19:00.319575Z"
    },
    "papermill": {
     "duration": 0.03401,
     "end_time": "2023-04-25T00:19:00.322245",
     "exception": false,
     "start_time": "2023-04-25T00:19:00.288235",
     "status": "completed"
    },
    "tags": []
   },
   "outputs": [],
   "source": [
    "train_dataset = load_from_disk(TRAIN_DATA_PATH)\n",
    "eval_dataset = load_from_disk(EVAL_DATA_PATH)"
   ]
  },
  {
   "cell_type": "code",
   "execution_count": 13,
   "id": "ac3ecba4",
   "metadata": {
    "execution": {
     "iopub.execute_input": "2023-04-25T00:19:00.340048Z",
     "iopub.status.busy": "2023-04-25T00:19:00.339316Z",
     "iopub.status.idle": "2023-04-25T00:19:03.736797Z",
     "shell.execute_reply": "2023-04-25T00:19:03.736211Z"
    },
    "papermill": {
     "duration": 3.408917,
     "end_time": "2023-04-25T00:19:03.740886",
     "exception": false,
     "start_time": "2023-04-25T00:19:00.331969",
     "status": "completed"
    },
    "tags": []
   },
   "outputs": [
    {
     "data": {
      "text/plain": [
       "'generate keyphrases: \"로페테기가 좋아하는 황희찬, 리즈전 선발 가능성 있어\" 복귀전에서 득점을 한 황희찬은 선발 출전을 대기하고 있다.울버햄튼은 19일 오전 0시(한국시간) 영국 울버햄튼에 위치한 몰리뉴 스타디움에서 리즈 유나이티드와 2022-23시즌 잉글리시 프리미어리그(EPL) 28라운드를 치른다. 울버햄튼은 13위, 리즈는 19위에 위치 중이다.영국 \\'익스프레스 앤 스타\\'는 울버햄튼, 리즈 경기를 프리뷰하면서 \"홈 팬들은 시작부터 공격적이고 강렬한 경기를 원한다. 훌렌 로페테기 감독은 때로는 보수적인 방식으로 접근을 했다. 홈 팬들 앞에서는 달라야 한다. 공격진 변화가 예상되는 황희찬이 선발로 나설 수 있다\"고 전했다.황희찬은 브루노 라즈 감독 아래에선 벤치 신세였다. 로페테기 감독이 온 후엔 달랐다. 득점 수는 적어도 기동력과 저돌적인 황희찬을 선호했다. 경기력으로 응답했다. 2022 국제축구연맹(FIFA) 카타르 월드컵에서 활약으로 자신감까지 올랐다. 좋은 활약을 이어가던 황희찬은 리버풀전에서 부상을 당해 한동안 빠졌다.재활 기간을 거친 황희찬은 지난 뉴캐슬 유나이티드전에 복귀를 했는데 골을 넣었다. 0-1로 뒤지던 후반 24분 들어와 후반 25분 집중력 있는 모습으로 뉴캐슬 골망을 흔들었다. 경기는 울버햄튼의 1-2 패배로 끝이 났지만 황희찬에겐 고무적인 날이었다. 이날 골로 황희찬은 리그 1호 득점에 성공했고 EPL에선 무려 13개월 만에 골 맛을 봤다. 부상 불운을 골로 보답을 받는 날이었다.\\'익스프레스 앤 스타\\'는 \"로페테기 감독은 황희찬을 정말 좋아한다. 근면한 모습과 라울 히메네스를 대체할 수 있는 능력이 있어 리즈전에 선발로 택할 수 있다. 지난 주말 햄스트링 부상에서 돌아온 황희찬은 뉴캐슬을 상대로 골을 넣었다. 황희찬이 선발로 나오면 레프트백 라얀 아이트-누리와 같이 가능성이 높다\"고 구체적인 전망을 내놓았다.울버햄튼 순위는 13위지만 강등권인 18위 본머스와 승점 3점차밖에 안 난다. 리즈전 필승이 요구되는 이유다. 뉴캐슬전에선 골을 넣고도 웃지 못한 황희찬이 리즈전에선 선발 출전, 득점, 팀 승리까지 모두 얻을지 관심이 크다.기사제공 인터풋볼신동훈 기자 hun7599@interfootball.co.krCopyright c 인터풋볼. All rights reserved. 무단 전재 및 재배포 금지.기사 섹션 분류 가이드포포투 FourFourTwo 잡지 정기 구독하기</s><pad><pad><pad><pad><pad><pad><pad><pad><pad><pad><pad><pad><pad><pad><pad><pad><pad><pad><pad><pad><pad><pad><pad><pad><pad><pad><pad><pad><pad><pad><pad><pad><pad><pad><pad><pad><pad><pad><pad><pad><pad><pad><pad><pad><pad><pad><pad><pad><pad><pad><pad><pad><pad><pad><pad><pad><pad><pad><pad><pad><pad><pad><pad><pad><pad><pad><pad><pad><pad><pad><pad><pad><pad><pad><pad><pad><pad><pad><pad><pad><pad><pad><pad><pad><pad><pad><pad><pad><pad><pad><pad><pad><pad><pad><pad><pad><pad><pad><pad><pad><pad><pad><pad><pad><pad><pad><pad><pad><pad><pad><pad><pad><pad><pad><pad><pad><pad><pad><pad><pad><pad><pad><pad><pad><pad><pad><pad><pad><pad><pad><pad><pad><pad><pad><pad><pad><pad><pad><pad><pad><pad><pad><pad><pad><pad><pad><pad><pad><pad><pad><pad><pad><pad><pad><pad><pad><pad><pad><pad><pad><pad><pad><pad><pad><pad><pad><pad><pad><pad><pad><pad><pad><pad><pad><pad><pad><pad><pad><pad><pad><pad><pad><pad><pad><pad><pad><pad><pad><pad><pad><pad><pad><pad><pad><pad><pad><pad><pad>'"
      ]
     },
     "execution_count": 13,
     "metadata": {},
     "output_type": "execute_result"
    }
   ],
   "source": [
    "tokenizer.decode(train_dataset['input_ids'][0])"
   ]
  },
  {
   "cell_type": "code",
   "execution_count": 14,
   "id": "a06014ec",
   "metadata": {
    "execution": {
     "iopub.execute_input": "2023-04-25T00:19:03.757979Z",
     "iopub.status.busy": "2023-04-25T00:19:03.757215Z",
     "iopub.status.idle": "2023-04-25T00:19:03.995496Z",
     "shell.execute_reply": "2023-04-25T00:19:03.994995Z"
    },
    "papermill": {
     "duration": 0.249219,
     "end_time": "2023-04-25T00:19:03.999242",
     "exception": false,
     "start_time": "2023-04-25T00:19:03.750023",
     "status": "completed"
    },
    "tags": []
   },
   "outputs": [
    {
     "data": {
      "text/plain": [
       "'로페테기; 황희찬; 선발 출전; 울버햄튼; 리즈전; EPL; 득점; 복귀전; 한동안; 부상</s><pad><pad><pad><pad><pad><pad><pad><pad><pad><pad><pad><pad><pad><pad><pad><pad><pad><pad><pad><pad><pad><pad><pad><pad><pad>'"
      ]
     },
     "execution_count": 14,
     "metadata": {},
     "output_type": "execute_result"
    }
   ],
   "source": [
    "tokenizer.decode(train_dataset['labels'][0])"
   ]
  },
  {
   "cell_type": "markdown",
   "id": "f53b0753",
   "metadata": {
    "papermill": {
     "duration": 0.006365,
     "end_time": "2023-04-25T00:19:04.015630",
     "exception": false,
     "start_time": "2023-04-25T00:19:04.009265",
     "status": "completed"
    },
    "tags": []
   },
   "source": [
    "# Train"
   ]
  },
  {
   "cell_type": "code",
   "execution_count": 15,
   "id": "2e629d4c",
   "metadata": {
    "execution": {
     "iopub.execute_input": "2023-04-25T00:19:04.029460Z",
     "iopub.status.busy": "2023-04-25T00:19:04.029004Z",
     "iopub.status.idle": "2023-04-25T00:19:05.422535Z",
     "shell.execute_reply": "2023-04-25T00:19:05.421876Z"
    },
    "papermill": {
     "duration": 1.403354,
     "end_time": "2023-04-25T00:19:05.425078",
     "exception": false,
     "start_time": "2023-04-25T00:19:04.021724",
     "status": "completed"
    },
    "tags": []
   },
   "outputs": [],
   "source": [
    "data_collator = DataCollatorForSeq2Seq(tokenizer=tokenizer, model=model, padding=True)\n",
    "\n",
    "trainer = Seq2SeqTrainer(\n",
    "    model=model,\n",
    "    \n",
    "    args=training_args,\n",
    "    \n",
    "    train_dataset=train_dataset,\n",
    "    eval_dataset=eval_dataset,\n",
    "    \n",
    "    tokenizer=tokenizer,\n",
    "    data_collator=data_collator,\n",
    "    \n",
    "    # compute_metrics=compute_metrics,\n",
    ")"
   ]
  },
  {
   "cell_type": "code",
   "execution_count": 16,
   "id": "7731d32c",
   "metadata": {
    "execution": {
     "iopub.execute_input": "2023-04-25T00:19:05.446639Z",
     "iopub.status.busy": "2023-04-25T00:19:05.445970Z"
    },
    "papermill": {
     "duration": null,
     "end_time": null,
     "exception": false,
     "start_time": "2023-04-25T00:19:05.437765",
     "status": "running"
    },
    "tags": []
   },
   "outputs": [
    {
     "data": {
      "text/html": [
       "wandb version 0.15.0 is available!  To upgrade, please run:\n",
       " $ pip install wandb --upgrade"
      ],
      "text/plain": [
       "<IPython.core.display.HTML object>"
      ]
     },
     "metadata": {},
     "output_type": "display_data"
    },
    {
     "data": {
      "text/html": [
       "Tracking run with wandb version 0.13.11"
      ],
      "text/plain": [
       "<IPython.core.display.HTML object>"
      ]
     },
     "metadata": {},
     "output_type": "display_data"
    },
    {
     "data": {
      "text/html": [
       "Run data is saved locally in <code>/workspace/news-topic-keyphrase-generation-model-dev/wandb/run-20230425_091905-4ukqj0wp</code>"
      ],
      "text/plain": [
       "<IPython.core.display.HTML object>"
      ]
     },
     "metadata": {},
     "output_type": "display_data"
    },
    {
     "data": {
      "text/html": [
       "Syncing run <strong><a href='https://wandb.ai/illunex_ai/news-topic-keyphrase-generation-model-dev/runs/4ukqj0wp' target=\"_blank\">paust_pko_t5_base_v3_run_8_adafactor_lora_100_epochs</a></strong> to <a href='https://wandb.ai/illunex_ai/news-topic-keyphrase-generation-model-dev' target=\"_blank\">Weights & Biases</a> (<a href='https://wandb.me/run' target=\"_blank\">docs</a>)<br/>"
      ],
      "text/plain": [
       "<IPython.core.display.HTML object>"
      ]
     },
     "metadata": {},
     "output_type": "display_data"
    },
    {
     "data": {
      "text/html": [
       " View project at <a href='https://wandb.ai/illunex_ai/news-topic-keyphrase-generation-model-dev' target=\"_blank\">https://wandb.ai/illunex_ai/news-topic-keyphrase-generation-model-dev</a>"
      ],
      "text/plain": [
       "<IPython.core.display.HTML object>"
      ]
     },
     "metadata": {},
     "output_type": "display_data"
    },
    {
     "data": {
      "text/html": [
       " View run at <a href='https://wandb.ai/illunex_ai/news-topic-keyphrase-generation-model-dev/runs/4ukqj0wp' target=\"_blank\">https://wandb.ai/illunex_ai/news-topic-keyphrase-generation-model-dev/runs/4ukqj0wp</a>"
      ],
      "text/plain": [
       "<IPython.core.display.HTML object>"
      ]
     },
     "metadata": {},
     "output_type": "display_data"
    },
    {
     "name": "stderr",
     "output_type": "stream",
     "text": [
      "You're using a T5TokenizerFast tokenizer. Please note that with a fast tokenizer, using the `__call__` method is faster than using a method to encode the text followed by a call to the `pad` method to get a padded encoding.\n"
     ]
    },
    {
     "data": {
      "text/html": [
       "\n",
       "    <div>\n",
       "      \n",
       "      <progress value='152' max='116900' style='width:300px; height:20px; vertical-align: middle;'></progress>\n",
       "      [   152/116900 01:28 < 19:06:44, 1.70 it/s, Epoch 0.13/100]\n",
       "    </div>\n",
       "    <table border=\"1\" class=\"dataframe\">\n",
       "  <thead>\n",
       " <tr style=\"text-align: left;\">\n",
       "      <th>Epoch</th>\n",
       "      <th>Training Loss</th>\n",
       "      <th>Validation Loss</th>\n",
       "    </tr>\n",
       "  </thead>\n",
       "  <tbody>\n",
       "  </tbody>\n",
       "</table><p>"
      ],
      "text/plain": [
       "<IPython.core.display.HTML object>"
      ]
     },
     "metadata": {},
     "output_type": "display_data"
    }
   ],
   "source": [
    "trainer.train()\n",
    "wandb.finish()"
   ]
  },
  {
   "cell_type": "code",
   "execution_count": null,
   "id": "a8369b8f",
   "metadata": {
    "papermill": {
     "duration": null,
     "end_time": null,
     "exception": null,
     "start_time": null,
     "status": "pending"
    },
    "tags": []
   },
   "outputs": [],
   "source": [
    "# keep = [\n",
    "#     'added_tokens.json',\n",
    "#     'config.json',\n",
    "#     'pytorch_model.bin',\n",
    "#     'special_tokens_map.json',\n",
    "#     'tokenizer.json',\n",
    "#     'tokenizer_config.json',\n",
    "#     'vocab.txt'\n",
    "# ]\n",
    "\n",
    "# ckpts = os.listdir(output_dir)\n",
    "# for ckpt in ckpts:\n",
    "#     ckpt = os.path.join(output_dir, ckpt)\n",
    "#     for item in os.listdir(ckpt):\n",
    "#         if item not in keep:\n",
    "#             os.remove(os.path.join(ckpt, item))"
   ]
  },
  {
   "cell_type": "markdown",
   "id": "d0c24442",
   "metadata": {
    "papermill": {
     "duration": null,
     "end_time": null,
     "exception": null,
     "start_time": null,
     "status": "pending"
    },
    "tags": []
   },
   "source": [
    "# Generate"
   ]
  },
  {
   "cell_type": "code",
   "execution_count": null,
   "id": "923b7467",
   "metadata": {
    "papermill": {
     "duration": null,
     "end_time": null,
     "exception": null,
     "start_time": null,
     "status": "pending"
    },
    "tags": []
   },
   "outputs": [],
   "source": [
    "# preds = trainer.predict(eval_dataset)"
   ]
  },
  {
   "cell_type": "code",
   "execution_count": null,
   "id": "a444550c",
   "metadata": {
    "papermill": {
     "duration": null,
     "end_time": null,
     "exception": null,
     "start_time": null,
     "status": "pending"
    },
    "tags": []
   },
   "outputs": [],
   "source": [
    "# preds.metrics"
   ]
  },
  {
   "cell_type": "code",
   "execution_count": null,
   "id": "18d2555b",
   "metadata": {
    "papermill": {
     "duration": null,
     "end_time": null,
     "exception": null,
     "start_time": null,
     "status": "pending"
    },
    "tags": []
   },
   "outputs": [],
   "source": [
    "# for data, pred in zip(eval_dataset, preds.predictions):\n",
    "#     pred = np.where(pred != -100, pred, tokenizer.pad_token_id)\n",
    "#     # context = tokenizer.decode(data['input_ids'], skip_special_tokens=True)\n",
    "#     summary = tokenizer.decode(data['labels'], skip_special_tokens=True)\n",
    "#     pred = tokenizer.decode(pred, skip_special_tokens=True)\n",
    "#     # print(f'입력: {context}')\n",
    "#     print(f'정답: {summary}')\n",
    "#     print(f'예측: {pred}', end='\\n\\n')"
   ]
  }
 ],
 "metadata": {
  "kernelspec": {
   "display_name": ".venv",
   "language": "python",
   "name": "python3"
  },
  "language_info": {
   "codemirror_mode": {
    "name": "ipython",
    "version": 3
   },
   "file_extension": ".py",
   "mimetype": "text/x-python",
   "name": "python",
   "nbconvert_exporter": "python",
   "pygments_lexer": "ipython3",
   "version": "3.9.16"
  },
  "papermill": {
   "default_parameters": {},
   "duration": null,
   "end_time": null,
   "environment_variables": {},
   "exception": null,
   "input_path": "./train_seq2seq_plm.ipynb",
   "output_path": "./papermill/paust_pko_t5_base_v3_run_8_adafactor_lora_100_epochs.ipynb",
   "parameters": {},
   "start_time": "2023-04-25T00:18:26.836042",
   "version": "2.4.0"
  }
 },
 "nbformat": 4,
 "nbformat_minor": 5
}