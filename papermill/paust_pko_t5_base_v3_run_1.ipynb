{
 "cells": [
  {
   "cell_type": "code",
   "execution_count": 1,
   "id": "d6853c06",
   "metadata": {
    "execution": {
     "iopub.execute_input": "2023-04-17T06:49:19.416266Z",
     "iopub.status.busy": "2023-04-17T06:49:19.415938Z",
     "iopub.status.idle": "2023-04-17T06:49:23.328463Z",
     "shell.execute_reply": "2023-04-17T06:49:23.326905Z"
    },
    "papermill": {
     "duration": 3.931154,
     "end_time": "2023-04-17T06:49:23.333524",
     "exception": false,
     "start_time": "2023-04-17T06:49:19.402370",
     "status": "completed"
    },
    "tags": []
   },
   "outputs": [
    {
     "name": "stderr",
     "output_type": "stream",
     "text": [
      "[nltk_data] Downloading package punkt to /root/nltk_data...\n",
      "[nltk_data]   Package punkt is already up-to-date!\n"
     ]
    },
    {
     "data": {
      "text/plain": [
       "True"
      ]
     },
     "execution_count": 1,
     "metadata": {},
     "output_type": "execute_result"
    }
   ],
   "source": [
    "import os\n",
    "import re\n",
    "import warnings\n",
    "\n",
    "import pandas as pd\n",
    "import numpy as np\n",
    "import torch\n",
    "\n",
    "from transformers import (\n",
    "    AutoConfig, AutoTokenizer, \n",
    "    AutoModelForSeq2SeqLM, Seq2SeqTrainingArguments, Seq2SeqTrainer, DataCollatorForSeq2Seq, \n",
    "    AutoModelForCausalLM, TrainingArguments, Trainer, DataCollatorForLanguageModeling\n",
    ")\n",
    "\n",
    "from datasets import load_metric, Dataset\n",
    "\n",
    "import wandb\n",
    "import nltk\n",
    "\n",
    "os.environ[\"TOKENIZERS_PARALLELISM\"] = \"false\"\n",
    "warnings.filterwarnings('ignore')\n",
    "nltk.download('punkt')"
   ]
  },
  {
   "cell_type": "code",
   "execution_count": 2,
   "id": "f498ed32",
   "metadata": {
    "execution": {
     "iopub.execute_input": "2023-04-17T06:49:23.351449Z",
     "iopub.status.busy": "2023-04-17T06:49:23.350500Z",
     "iopub.status.idle": "2023-04-17T06:49:23.435775Z",
     "shell.execute_reply": "2023-04-17T06:49:23.434549Z"
    },
    "papermill": {
     "duration": 0.096333,
     "end_time": "2023-04-17T06:49:23.439186",
     "exception": false,
     "start_time": "2023-04-17T06:49:23.342853",
     "status": "completed"
    },
    "tags": []
   },
   "outputs": [
    {
     "data": {
      "text/plain": [
       "(6, 64)"
      ]
     },
     "execution_count": 2,
     "metadata": {},
     "output_type": "execute_result"
    }
   ],
   "source": [
    "NGPU = torch.cuda.device_count()\n",
    "NCPU = os.cpu_count()\n",
    "NGPU, NCPU"
   ]
  },
  {
   "cell_type": "code",
   "execution_count": 3,
   "id": "0cff9acc",
   "metadata": {
    "execution": {
     "iopub.execute_input": "2023-04-17T06:49:23.456665Z",
     "iopub.status.busy": "2023-04-17T06:49:23.456203Z",
     "iopub.status.idle": "2023-04-17T06:49:23.596464Z",
     "shell.execute_reply": "2023-04-17T06:49:23.595253Z"
    },
    "papermill": {
     "duration": 0.151011,
     "end_time": "2023-04-17T06:49:23.599788",
     "exception": false,
     "start_time": "2023-04-17T06:49:23.448777",
     "status": "completed"
    },
    "tags": []
   },
   "outputs": [
    {
     "data": {
      "text/plain": [
       "True"
      ]
     },
     "execution_count": 3,
     "metadata": {},
     "output_type": "execute_result"
    }
   ],
   "source": [
    "torch.cuda.is_available()"
   ]
  },
  {
   "cell_type": "markdown",
   "id": "ae779d2f",
   "metadata": {
    "papermill": {
     "duration": 0.00632,
     "end_time": "2023-04-17T06:49:23.618420",
     "exception": false,
     "start_time": "2023-04-17T06:49:23.612100",
     "status": "completed"
    },
    "tags": []
   },
   "source": [
    "# Paths and Names"
   ]
  },
  {
   "cell_type": "code",
   "execution_count": 4,
   "id": "291cd35a",
   "metadata": {
    "execution": {
     "iopub.execute_input": "2023-04-17T06:49:23.635510Z",
     "iopub.status.busy": "2023-04-17T06:49:23.635018Z",
     "iopub.status.idle": "2023-04-17T06:49:23.896663Z",
     "shell.execute_reply": "2023-04-17T06:49:23.894665Z"
    },
    "papermill": {
     "duration": 0.273018,
     "end_time": "2023-04-17T06:49:23.900530",
     "exception": false,
     "start_time": "2023-04-17T06:49:23.627512",
     "status": "completed"
    },
    "tags": []
   },
   "outputs": [
    {
     "name": "stdout",
     "output_type": "stream",
     "text": [
      "paust_pko_t5_base_v3_run_1\n",
      "./.log/paust_pko_t5_base_v3_run_1\n"
     ]
    }
   ],
   "source": [
    "### paths and names\n",
    "\n",
    "PROJECT_NAME = 'news-topic-keyphrase-generation-model-dev'\n",
    "RUN_ID = 'v3_run_1'\n",
    "\n",
    "DATA_PATH = 'data/model_dev/model_dev_v3.pickle'\n",
    "\n",
    "MODEL_CHECKPOINT = 'paust/pko-t5-base'\n",
    "model_name = re.sub(r'[/-]', r'_', MODEL_CHECKPOINT).lower()\n",
    "\n",
    "METRIC_NAME = 'rouge'\n",
    "\n",
    "NOTEBOOK_NAME = './train_seq2seq_plm.ipynb'\n",
    "\n",
    "ROOT_PATH = './'\n",
    "SAVE_PATH = os.path.join(ROOT_PATH, '.log')\n",
    "\n",
    "run_name = f'{model_name}_{RUN_ID}'\n",
    "output_dir = os.path.join(SAVE_PATH, run_name)\n",
    "\n",
    "print(run_name)\n",
    "print(output_dir)\n",
    "\n",
    "!mkdir -p {SAVE_PATH}"
   ]
  },
  {
   "cell_type": "code",
   "execution_count": 5,
   "id": "9b2fa1fd",
   "metadata": {
    "execution": {
     "iopub.execute_input": "2023-04-17T06:49:23.920657Z",
     "iopub.status.busy": "2023-04-17T06:49:23.920157Z",
     "iopub.status.idle": "2023-04-17T06:49:25.916761Z",
     "shell.execute_reply": "2023-04-17T06:49:25.915126Z"
    },
    "papermill": {
     "duration": 2.008627,
     "end_time": "2023-04-17T06:49:25.920165",
     "exception": false,
     "start_time": "2023-04-17T06:49:23.911538",
     "status": "completed"
    },
    "tags": []
   },
   "outputs": [
    {
     "name": "stderr",
     "output_type": "stream",
     "text": [
      "\u001b[34m\u001b[1mwandb\u001b[0m: Currently logged in as: \u001b[33mdotsnangles\u001b[0m. Use \u001b[1m`wandb login --relogin`\u001b[0m to force relogin\n"
     ]
    },
    {
     "data": {
      "text/plain": [
       "True"
      ]
     },
     "execution_count": 5,
     "metadata": {},
     "output_type": "execute_result"
    }
   ],
   "source": [
    "os.environ['WANDB_PROJECT'] = PROJECT_NAME\n",
    "os.environ['WANDB_NOTEBOOK_NAME'] = NOTEBOOK_NAME\n",
    "os.environ['WANDB_LOG_MODEL'] = 'true'\n",
    "os.environ['WANDB_WATCH'] = 'all'\n",
    "\n",
    "wandb.login()"
   ]
  },
  {
   "cell_type": "markdown",
   "id": "0733ba9c",
   "metadata": {
    "papermill": {
     "duration": 0.006076,
     "end_time": "2023-04-17T06:49:25.933551",
     "exception": false,
     "start_time": "2023-04-17T06:49:25.927475",
     "status": "completed"
    },
    "tags": []
   },
   "source": [
    "# Training Args"
   ]
  },
  {
   "cell_type": "code",
   "execution_count": 6,
   "id": "3696694a",
   "metadata": {
    "execution": {
     "iopub.execute_input": "2023-04-17T06:49:25.947607Z",
     "iopub.status.busy": "2023-04-17T06:49:25.947256Z",
     "iopub.status.idle": "2023-04-17T06:49:25.956877Z",
     "shell.execute_reply": "2023-04-17T06:49:25.955775Z"
    },
    "papermill": {
     "duration": 0.020195,
     "end_time": "2023-04-17T06:49:25.959726",
     "exception": false,
     "start_time": "2023-04-17T06:49:25.939531",
     "status": "completed"
    },
    "tags": []
   },
   "outputs": [],
   "source": [
    "report_to=\"wandb\"\n",
    "\n",
    "num_train_epochs = 15\n",
    "per_device_train_batch_size = 2\n",
    "per_device_eval_batch_size = 2\n",
    "gradient_accumulation_steps = 1\n",
    "\n",
    "optim = 'adamw_torch' # 'adamw_torch' or 'adamw_hf'\n",
    "\n",
    "learning_rate = 3e-6 * (per_device_train_batch_size * NGPU) / 8\n",
    "weight_decay = 0.01\n",
    "adam_epsilon = 1e-8\n",
    "\n",
    "lr_scheduler_type = 'cosine' # 'linear', 'cosine', 'cosine_with_restarts', 'polynomial', 'constant', 'constant_with_warmup'\n",
    "warmup_ratio = 0\n",
    "\n",
    "save_total_limit = 2\n",
    "\n",
    "load_best_model_at_end = True\n",
    "metric_for_best_model = 'eval_loss'\n",
    "\n",
    "save_strategy = \"epoch\"\n",
    "evaluation_strategy = \"epoch\"\n",
    "\n",
    "logging_strategy = \"steps\"\n",
    "logging_first_step = True \n",
    "logging_steps = int(500 / NGPU)\n",
    "\n",
    "predict_with_generate=True\n",
    "generation_max_length=64\n",
    "# generation_num_beams=5\n",
    "\n",
    "fp16 = False"
   ]
  },
  {
   "cell_type": "markdown",
   "id": "40355953",
   "metadata": {
    "papermill": {
     "duration": 0.006731,
     "end_time": "2023-04-17T06:49:25.978454",
     "exception": false,
     "start_time": "2023-04-17T06:49:25.971723",
     "status": "completed"
    },
    "tags": []
   },
   "source": [
    "# Model & Tokenizer & Metric"
   ]
  },
  {
   "cell_type": "code",
   "execution_count": 7,
   "id": "6ee2433c",
   "metadata": {
    "execution": {
     "iopub.execute_input": "2023-04-17T06:49:25.992176Z",
     "iopub.status.busy": "2023-04-17T06:49:25.991730Z",
     "iopub.status.idle": "2023-04-17T06:49:26.344900Z",
     "shell.execute_reply": "2023-04-17T06:49:26.343337Z"
    },
    "papermill": {
     "duration": 0.364056,
     "end_time": "2023-04-17T06:49:26.348525",
     "exception": false,
     "start_time": "2023-04-17T06:49:25.984469",
     "status": "completed"
    },
    "tags": []
   },
   "outputs": [],
   "source": [
    "config = AutoConfig.from_pretrained(MODEL_CHECKPOINT)"
   ]
  },
  {
   "cell_type": "code",
   "execution_count": 8,
   "id": "9053bec9",
   "metadata": {
    "execution": {
     "iopub.execute_input": "2023-04-17T06:49:26.394734Z",
     "iopub.status.busy": "2023-04-17T06:49:26.394400Z",
     "iopub.status.idle": "2023-04-17T06:49:31.759790Z",
     "shell.execute_reply": "2023-04-17T06:49:31.758218Z"
    },
    "papermill": {
     "duration": 5.376884,
     "end_time": "2023-04-17T06:49:31.763509",
     "exception": false,
     "start_time": "2023-04-17T06:49:26.386625",
     "status": "completed"
    },
    "tags": []
   },
   "outputs": [
    {
     "name": "stderr",
     "output_type": "stream",
     "text": [
      "Special tokens have been added in the vocabulary, make sure the associated word embeddings are fine-tuned or trained.\n"
     ]
    }
   ],
   "source": [
    "model = AutoModelForSeq2SeqLM.from_pretrained(MODEL_CHECKPOINT, config=config)\n",
    "tokenizer = AutoTokenizer.from_pretrained(MODEL_CHECKPOINT)\n",
    "metric = load_metric(METRIC_NAME)"
   ]
  },
  {
   "cell_type": "markdown",
   "id": "004128dd",
   "metadata": {
    "papermill": {
     "duration": 0.006326,
     "end_time": "2023-04-17T06:49:31.782933",
     "exception": false,
     "start_time": "2023-04-17T06:49:31.776607",
     "status": "completed"
    },
    "tags": []
   },
   "source": [
    "# Functions"
   ]
  },
  {
   "cell_type": "code",
   "execution_count": 9,
   "id": "be9539e8",
   "metadata": {
    "execution": {
     "iopub.execute_input": "2023-04-17T06:49:31.799941Z",
     "iopub.status.busy": "2023-04-17T06:49:31.799670Z",
     "iopub.status.idle": "2023-04-17T06:49:31.808794Z",
     "shell.execute_reply": "2023-04-17T06:49:31.807600Z"
    },
    "papermill": {
     "duration": 0.022185,
     "end_time": "2023-04-17T06:49:31.811279",
     "exception": false,
     "start_time": "2023-04-17T06:49:31.789094",
     "status": "completed"
    },
    "tags": []
   },
   "outputs": [],
   "source": [
    "prefix = \"generate keyphrases: \"\n",
    "\n",
    "max_input_length = 1024\n",
    "max_target_length = 64\n",
    "\n",
    "def preprocess_function(examples):\n",
    "    inputs = [prefix + doc for doc in examples[\"input_text\"]]\n",
    "    model_inputs = tokenizer(inputs, max_length=max_input_length, truncation=True)\n",
    "\n",
    "    labels = tokenizer(examples[\"target_text\"], max_length=max_target_length, truncation=True)\n",
    "\n",
    "    model_inputs[\"labels\"] = labels[\"input_ids\"]\n",
    "    return model_inputs"
   ]
  },
  {
   "cell_type": "code",
   "execution_count": 10,
   "id": "62ff5b6a",
   "metadata": {
    "execution": {
     "iopub.execute_input": "2023-04-17T06:49:31.827233Z",
     "iopub.status.busy": "2023-04-17T06:49:31.827033Z",
     "iopub.status.idle": "2023-04-17T06:49:31.834890Z",
     "shell.execute_reply": "2023-04-17T06:49:31.833930Z"
    },
    "papermill": {
     "duration": 0.01775,
     "end_time": "2023-04-17T06:49:31.837890",
     "exception": false,
     "start_time": "2023-04-17T06:49:31.820140",
     "status": "completed"
    },
    "tags": []
   },
   "outputs": [],
   "source": [
    "def compute_metrics(eval_pred):\n",
    "    predictions, labels = eval_pred\n",
    "    decoded_preds = tokenizer.batch_decode(predictions, skip_special_tokens=True)\n",
    "    # Replace -100 in the labels as we can't decode them.\n",
    "    labels = np.where(labels != -100, labels, tokenizer.pad_token_id)\n",
    "    decoded_labels = tokenizer.batch_decode(labels, skip_special_tokens=True)\n",
    "    \n",
    "    # Rouge expects a newline after each sentence\n",
    "    decoded_preds = [\"\\n\".join(nltk.sent_tokenize(pred.strip())) for pred in decoded_preds]\n",
    "    decoded_labels = [\"\\n\".join(nltk.sent_tokenize(label.strip())) for label in decoded_labels]\n",
    "    \n",
    "    result = metric.compute(predictions=decoded_preds, references=decoded_labels, use_stemmer=True)\n",
    "    # Extract a few results\n",
    "    result = {key: value.mid.fmeasure * 100 for key, value in result.items()}\n",
    "    \n",
    "    # Add mean generated length\n",
    "    prediction_lens = [np.count_nonzero(pred != tokenizer.pad_token_id) for pred in predictions]\n",
    "    result[\"gen_len\"] = np.mean(prediction_lens)\n",
    "    \n",
    "    return {k: round(v, 4) for k, v in result.items()}"
   ]
  },
  {
   "cell_type": "markdown",
   "id": "52f0d6da",
   "metadata": {
    "papermill": {
     "duration": 0.006338,
     "end_time": "2023-04-17T06:49:31.855435",
     "exception": false,
     "start_time": "2023-04-17T06:49:31.849097",
     "status": "completed"
    },
    "tags": []
   },
   "source": [
    "# Inputs and Labels"
   ]
  },
  {
   "cell_type": "code",
   "execution_count": 11,
   "id": "7bfd9ca7",
   "metadata": {
    "execution": {
     "iopub.execute_input": "2023-04-17T06:49:31.869248Z",
     "iopub.status.busy": "2023-04-17T06:49:31.869003Z",
     "iopub.status.idle": "2023-04-17T06:49:31.951366Z",
     "shell.execute_reply": "2023-04-17T06:49:31.950079Z"
    },
    "papermill": {
     "duration": 0.092651,
     "end_time": "2023-04-17T06:49:31.954510",
     "exception": false,
     "start_time": "2023-04-17T06:49:31.861859",
     "status": "completed"
    },
    "tags": []
   },
   "outputs": [],
   "source": [
    "data_df = pd.read_pickle(DATA_PATH)"
   ]
  },
  {
   "cell_type": "code",
   "execution_count": 12,
   "id": "09fe2a44",
   "metadata": {
    "execution": {
     "iopub.execute_input": "2023-04-17T06:49:31.976448Z",
     "iopub.status.busy": "2023-04-17T06:49:31.976192Z",
     "iopub.status.idle": "2023-04-17T06:49:32.111086Z",
     "shell.execute_reply": "2023-04-17T06:49:32.109789Z"
    },
    "papermill": {
     "duration": 0.145762,
     "end_time": "2023-04-17T06:49:32.114418",
     "exception": false,
     "start_time": "2023-04-17T06:49:31.968656",
     "status": "completed"
    },
    "tags": []
   },
   "outputs": [],
   "source": [
    "dataset = Dataset.from_pandas(data_df).shuffle(seed=100).train_test_split(0.2, seed=100)\n",
    "train_dataset = dataset['train']\n",
    "eval_dataset = dataset['test']"
   ]
  },
  {
   "cell_type": "code",
   "execution_count": 13,
   "id": "f5594035",
   "metadata": {
    "execution": {
     "iopub.execute_input": "2023-04-17T06:49:32.133326Z",
     "iopub.status.busy": "2023-04-17T06:49:32.133074Z",
     "iopub.status.idle": "2023-04-17T06:49:46.497639Z",
     "shell.execute_reply": "2023-04-17T06:49:46.496380Z"
    },
    "papermill": {
     "duration": 14.375307,
     "end_time": "2023-04-17T06:49:46.500799",
     "exception": false,
     "start_time": "2023-04-17T06:49:32.125492",
     "status": "completed"
    },
    "tags": []
   },
   "outputs": [
    {
     "data": {
      "application/vnd.jupyter.widget-view+json": {
       "model_id": "5cc4eb4c3d6a4c65ad64d9dfa72db421",
       "version_major": 2,
       "version_minor": 0
      },
      "text/plain": [
       "Map (num_proc=64):   0%|          | 0/9346 [00:00<?, ? examples/s]"
      ]
     },
     "metadata": {},
     "output_type": "display_data"
    },
    {
     "data": {
      "application/vnd.jupyter.widget-view+json": {
       "model_id": "c522225dce2c4b6b99565eeca02ead02",
       "version_major": 2,
       "version_minor": 0
      },
      "text/plain": [
       "Map (num_proc=64):   0%|          | 0/2337 [00:00<?, ? examples/s]"
      ]
     },
     "metadata": {},
     "output_type": "display_data"
    },
    {
     "name": "stdout",
     "output_type": "stream",
     "text": [
      "Dataset({\n",
      "    features: ['input_ids', 'attention_mask', 'labels'],\n",
      "    num_rows: 9346\n",
      "})\n",
      "Dataset({\n",
      "    features: ['input_ids', 'attention_mask', 'labels'],\n",
      "    num_rows: 2337\n",
      "})\n"
     ]
    }
   ],
   "source": [
    "train_dataset = train_dataset.map(preprocess_function, \n",
    "                                  batched=True, \n",
    "                                  num_proc=NCPU, \n",
    "                                  remove_columns=train_dataset.column_names)\n",
    "\n",
    "eval_dataset = eval_dataset.map(preprocess_function, \n",
    "                                batched=True, \n",
    "                                num_proc=NCPU, \n",
    "                                remove_columns=eval_dataset.column_names)\n",
    "print(train_dataset)\n",
    "print(eval_dataset)"
   ]
  },
  {
   "cell_type": "code",
   "execution_count": 14,
   "id": "06e2f103",
   "metadata": {
    "execution": {
     "iopub.execute_input": "2023-04-17T06:49:46.521983Z",
     "iopub.status.busy": "2023-04-17T06:49:46.521726Z",
     "iopub.status.idle": "2023-04-17T06:49:49.273889Z",
     "shell.execute_reply": "2023-04-17T06:49:49.272464Z"
    },
    "papermill": {
     "duration": 2.764291,
     "end_time": "2023-04-17T06:49:49.277097",
     "exception": false,
     "start_time": "2023-04-17T06:49:46.512806",
     "status": "completed"
    },
    "tags": []
   },
   "outputs": [
    {
     "data": {
      "text/plain": [
       "'generate keyphrases: \"로페테기가 좋아하는 황희찬, 리즈전 선발 가능성 있어\" 복귀전에서 득점을 한 황희찬은 선발 출전을 대기하고 있다.울버햄튼은 19일 오전 0시(한국시간) 영국 울버햄튼에 위치한 몰리뉴 스타디움에서 리즈 유나이티드와 2022-23시즌 잉글리시 프리미어리그(EPL) 28라운드를 치른다. 울버햄튼은 13위, 리즈는 19위에 위치 중이다.영국 \\'익스프레스 앤 스타\\'는 울버햄튼, 리즈 경기를 프리뷰하면서 \"홈 팬들은 시작부터 공격적이고 강렬한 경기를 원한다. 훌렌 로페테기 감독은 때로는 보수적인 방식으로 접근을 했다. 홈 팬들 앞에서는 달라야 한다. 공격진 변화가 예상되는 황희찬이 선발로 나설 수 있다\"고 전했다.황희찬은 브루노 라즈 감독 아래에선 벤치 신세였다. 로페테기 감독이 온 후엔 달랐다. 득점 수는 적어도 기동력과 저돌적인 황희찬을 선호했다. 경기력으로 응답했다. 2022 국제축구연맹(FIFA) 카타르 월드컵에서 활약으로 자신감까지 올랐다. 좋은 활약을 이어가던 황희찬은 리버풀전에서 부상을 당해 한동안 빠졌다.재활 기간을 거친 황희찬은 지난 뉴캐슬 유나이티드전에 복귀를 했는데 골을 넣었다. 0-1로 뒤지던 후반 24분 들어와 후반 25분 집중력 있는 모습으로 뉴캐슬 골망을 흔들었다. 경기는 울버햄튼의 1-2 패배로 끝이 났지만 황희찬에겐 고무적인 날이었다. 이날 골로 황희찬은 리그 1호 득점에 성공했고 EPL에선 무려 13개월 만에 골 맛을 봤다. 부상 불운을 골로 보답을 받는 날이었다.\\'익스프레스 앤 스타\\'는 \"로페테기 감독은 황희찬을 정말 좋아한다. 근면한 모습과 라울 히메네스를 대체할 수 있는 능력이 있어 리즈전에 선발로 택할 수 있다. 지난 주말 햄스트링 부상에서 돌아온 황희찬은 뉴캐슬을 상대로 골을 넣었다. 황희찬이 선발로 나오면 레프트백 라얀 아이트-누리와 같이 가능성이 높다\"고 구체적인 전망을 내놓았다.울버햄튼 순위는 13위지만 강등권인 18위 본머스와 승점 3점차밖에 안 난다. 리즈전 필승이 요구되는 이유다. 뉴캐슬전에선 골을 넣고도 웃지 못한 황희찬이 리즈전에선 선발 출전, 득점, 팀 승리까지 모두 얻을지 관심이 크다.기사제공 인터풋볼신동훈 기자 hun7599@interfootball.co.krCopyright c 인터풋볼. All rights reserved. 무단 전재 및 재배포 금지.기사 섹션 분류 가이드포포투 FourFourTwo 잡지 정기 구독하기</s>'"
      ]
     },
     "execution_count": 14,
     "metadata": {},
     "output_type": "execute_result"
    }
   ],
   "source": [
    "tokenizer.decode(train_dataset['input_ids'][0])"
   ]
  },
  {
   "cell_type": "code",
   "execution_count": 15,
   "id": "245eb428",
   "metadata": {
    "execution": {
     "iopub.execute_input": "2023-04-17T06:49:49.296426Z",
     "iopub.status.busy": "2023-04-17T06:49:49.295279Z",
     "iopub.status.idle": "2023-04-17T06:49:49.489097Z",
     "shell.execute_reply": "2023-04-17T06:49:49.487869Z"
    },
    "papermill": {
     "duration": 0.205307,
     "end_time": "2023-04-17T06:49:49.492335",
     "exception": false,
     "start_time": "2023-04-17T06:49:49.287028",
     "status": "completed"
    },
    "tags": []
   },
   "outputs": [
    {
     "data": {
      "text/plain": [
       "'로페테기; 황희찬; 선발 출전; 울버햄튼; 리즈전; EPL; 득점; 복귀전; 한동안; 부상</s>'"
      ]
     },
     "execution_count": 15,
     "metadata": {},
     "output_type": "execute_result"
    }
   ],
   "source": [
    "tokenizer.decode(train_dataset['labels'][0])"
   ]
  },
  {
   "cell_type": "markdown",
   "id": "64e0832e",
   "metadata": {
    "papermill": {
     "duration": 0.007111,
     "end_time": "2023-04-17T06:49:49.510158",
     "exception": false,
     "start_time": "2023-04-17T06:49:49.503047",
     "status": "completed"
    },
    "tags": []
   },
   "source": [
    "# Train"
   ]
  },
  {
   "cell_type": "code",
   "execution_count": 16,
   "id": "561a5154",
   "metadata": {
    "execution": {
     "iopub.execute_input": "2023-04-17T06:49:49.526730Z",
     "iopub.status.busy": "2023-04-17T06:49:49.525823Z",
     "iopub.status.idle": "2023-04-17T06:49:49.541780Z",
     "shell.execute_reply": "2023-04-17T06:49:49.540711Z"
    },
    "papermill": {
     "duration": 0.026947,
     "end_time": "2023-04-17T06:49:49.544224",
     "exception": false,
     "start_time": "2023-04-17T06:49:49.517277",
     "status": "completed"
    },
    "tags": []
   },
   "outputs": [],
   "source": [
    "training_args = Seq2SeqTrainingArguments(\n",
    "    output_dir=output_dir,\n",
    "    run_name=run_name,\n",
    "    report_to=report_to,\n",
    "\n",
    "    num_train_epochs=num_train_epochs,\n",
    "    per_device_train_batch_size=per_device_train_batch_size,\n",
    "    per_device_eval_batch_size=per_device_eval_batch_size,\n",
    "    gradient_accumulation_steps=gradient_accumulation_steps,\n",
    "\n",
    "    optim=optim,\n",
    "\n",
    "    learning_rate=learning_rate,\n",
    "    weight_decay=weight_decay,\n",
    "    adam_epsilon=adam_epsilon,\n",
    "\n",
    "    lr_scheduler_type=lr_scheduler_type,\n",
    "    warmup_ratio=warmup_ratio,\n",
    "\n",
    "    save_total_limit=save_total_limit,\n",
    "\n",
    "    load_best_model_at_end=load_best_model_at_end,\n",
    "    metric_for_best_model=metric_for_best_model,\n",
    "\n",
    "    save_strategy=save_strategy,\n",
    "    evaluation_strategy=evaluation_strategy,\n",
    "\n",
    "    logging_strategy=logging_strategy,\n",
    "    logging_first_step=logging_first_step, \n",
    "    logging_steps=logging_steps,\n",
    "\n",
    "    predict_with_generate=predict_with_generate,\n",
    "    generation_max_length=generation_max_length,\n",
    "    # generation_num_beams=generation_num_beams,\n",
    "\n",
    "    fp16=fp16,\n",
    ")"
   ]
  },
  {
   "cell_type": "code",
   "execution_count": 17,
   "id": "8cebedc7",
   "metadata": {
    "execution": {
     "iopub.execute_input": "2023-04-17T06:49:49.564080Z",
     "iopub.status.busy": "2023-04-17T06:49:49.563419Z",
     "iopub.status.idle": "2023-04-17T06:49:50.856751Z",
     "shell.execute_reply": "2023-04-17T06:49:50.855433Z"
    },
    "papermill": {
     "duration": 1.30484,
     "end_time": "2023-04-17T06:49:50.860133",
     "exception": false,
     "start_time": "2023-04-17T06:49:49.555293",
     "status": "completed"
    },
    "tags": []
   },
   "outputs": [],
   "source": [
    "data_collator = DataCollatorForSeq2Seq(tokenizer=tokenizer, model=model, padding=True)\n",
    "\n",
    "trainer = Seq2SeqTrainer(\n",
    "    model=model,\n",
    "    \n",
    "    args=training_args,\n",
    "    \n",
    "    train_dataset=train_dataset,\n",
    "    eval_dataset=eval_dataset,\n",
    "    \n",
    "    tokenizer=tokenizer,\n",
    "    data_collator=data_collator,\n",
    "    \n",
    "    compute_metrics=compute_metrics,\n",
    ")"
   ]
  },
  {
   "cell_type": "code",
   "execution_count": 18,
   "id": "eba65db2",
   "metadata": {
    "execution": {
     "iopub.execute_input": "2023-04-17T06:49:50.882930Z",
     "iopub.status.busy": "2023-04-17T06:49:50.882432Z"
    },
    "papermill": {
     "duration": null,
     "end_time": null,
     "exception": false,
     "start_time": "2023-04-17T06:49:50.873386",
     "status": "running"
    },
    "tags": []
   },
   "outputs": [
    {
     "data": {
      "text/html": [
       "wandb version 0.14.2 is available!  To upgrade, please run:\n",
       " $ pip install wandb --upgrade"
      ],
      "text/plain": [
       "<IPython.core.display.HTML object>"
      ]
     },
     "metadata": {},
     "output_type": "display_data"
    },
    {
     "data": {
      "text/html": [
       "Tracking run with wandb version 0.13.11"
      ],
      "text/plain": [
       "<IPython.core.display.HTML object>"
      ]
     },
     "metadata": {},
     "output_type": "display_data"
    },
    {
     "data": {
      "text/html": [
       "Run data is saved locally in <code>/workspace/news-topic-keyphrase-generation-model-dev/wandb/run-20230417_154950-nwoxtgfm</code>"
      ],
      "text/plain": [
       "<IPython.core.display.HTML object>"
      ]
     },
     "metadata": {},
     "output_type": "display_data"
    },
    {
     "data": {
      "text/html": [
       "Syncing run <strong><a href='https://wandb.ai/dotsnangles/news-topic-keyphrase-generation-model-dev/runs/nwoxtgfm' target=\"_blank\">paust_pko_t5_base_v3_run_1</a></strong> to <a href='https://wandb.ai/dotsnangles/news-topic-keyphrase-generation-model-dev' target=\"_blank\">Weights & Biases</a> (<a href='https://wandb.me/run' target=\"_blank\">docs</a>)<br/>"
      ],
      "text/plain": [
       "<IPython.core.display.HTML object>"
      ]
     },
     "metadata": {},
     "output_type": "display_data"
    },
    {
     "data": {
      "text/html": [
       " View project at <a href='https://wandb.ai/dotsnangles/news-topic-keyphrase-generation-model-dev' target=\"_blank\">https://wandb.ai/dotsnangles/news-topic-keyphrase-generation-model-dev</a>"
      ],
      "text/plain": [
       "<IPython.core.display.HTML object>"
      ]
     },
     "metadata": {},
     "output_type": "display_data"
    },
    {
     "data": {
      "text/html": [
       " View run at <a href='https://wandb.ai/dotsnangles/news-topic-keyphrase-generation-model-dev/runs/nwoxtgfm' target=\"_blank\">https://wandb.ai/dotsnangles/news-topic-keyphrase-generation-model-dev/runs/nwoxtgfm</a>"
      ],
      "text/plain": [
       "<IPython.core.display.HTML object>"
      ]
     },
     "metadata": {},
     "output_type": "display_data"
    },
    {
     "name": "stderr",
     "output_type": "stream",
     "text": [
      "You're using a T5TokenizerFast tokenizer. Please note that with a fast tokenizer, using the `__call__` method is faster than using a method to encode the text followed by a call to the `pad` method to get a padded encoding.\n"
     ]
    },
    {
     "data": {
      "text/html": [
       "\n",
       "    <div>\n",
       "      \n",
       "      <progress value='198' max='11685' style='width:300px; height:20px; vertical-align: middle;'></progress>\n",
       "      [  198/11685 10:21 < 10:07:16, 0.32 it/s, Epoch 0.25/15]\n",
       "    </div>\n",
       "    <table border=\"1\" class=\"dataframe\">\n",
       "  <thead>\n",
       " <tr style=\"text-align: left;\">\n",
       "      <th>Epoch</th>\n",
       "      <th>Training Loss</th>\n",
       "      <th>Validation Loss</th>\n",
       "    </tr>\n",
       "  </thead>\n",
       "  <tbody>\n",
       "  </tbody>\n",
       "</table><p>"
      ],
      "text/plain": [
       "<IPython.core.display.HTML object>"
      ]
     },
     "metadata": {},
     "output_type": "display_data"
    }
   ],
   "source": [
    "trainer.train()\n",
    "wandb.finish()"
   ]
  },
  {
   "cell_type": "code",
   "execution_count": null,
   "id": "d9610b80",
   "metadata": {
    "papermill": {
     "duration": null,
     "end_time": null,
     "exception": null,
     "start_time": null,
     "status": "pending"
    },
    "tags": []
   },
   "outputs": [],
   "source": [
    "keep = [\n",
    "    'added_tokens.json',\n",
    "    'config.json',\n",
    "    'pytorch_model.bin',\n",
    "    'special_tokens_map.json',\n",
    "    'tokenizer.json',\n",
    "    'tokenizer_config.json',\n",
    "    'vocab.txt'\n",
    "]\n",
    "\n",
    "ckpts = os.listdir(output_dir)\n",
    "for ckpt in ckpts:\n",
    "    ckpt = os.path.join(output_dir, ckpt)\n",
    "    for item in os.listdir(ckpt):\n",
    "        if item not in keep:\n",
    "            os.remove(os.path.join(ckpt, item))"
   ]
  },
  {
   "cell_type": "markdown",
   "id": "d2565c56",
   "metadata": {
    "papermill": {
     "duration": null,
     "end_time": null,
     "exception": null,
     "start_time": null,
     "status": "pending"
    },
    "tags": []
   },
   "source": [
    "# Generate"
   ]
  },
  {
   "cell_type": "code",
   "execution_count": null,
   "id": "81e117fb",
   "metadata": {
    "papermill": {
     "duration": null,
     "end_time": null,
     "exception": null,
     "start_time": null,
     "status": "pending"
    },
    "tags": []
   },
   "outputs": [],
   "source": [
    "preds = trainer.predict(eval_dataset)"
   ]
  },
  {
   "cell_type": "code",
   "execution_count": null,
   "id": "b8b37808",
   "metadata": {
    "papermill": {
     "duration": null,
     "end_time": null,
     "exception": null,
     "start_time": null,
     "status": "pending"
    },
    "tags": []
   },
   "outputs": [],
   "source": [
    "for data, pred in zip(eval_dataset, preds.predictions):\n",
    "    context = tokenizer.decode(data['input_ids'], skip_special_tokens=True)\n",
    "    summary = tokenizer.decode(data['labels'], skip_special_tokens=True)\n",
    "    pred = tokenizer.decode(pred[2:], skip_special_tokens=True)\n",
    "    # print(f'입력: {context}')\n",
    "    print(f'정답: {summary}')\n",
    "    print(f'예측: {pred}', end='\\n\\n')"
   ]
  }
 ],
 "metadata": {
  "kernelspec": {
   "display_name": ".venv",
   "language": "python",
   "name": "python3"
  },
  "language_info": {
   "codemirror_mode": {
    "name": "ipython",
    "version": 3
   },
   "file_extension": ".py",
   "mimetype": "text/x-python",
   "name": "python",
   "nbconvert_exporter": "python",
   "pygments_lexer": "ipython3",
   "version": "3.9.16"
  },
  "papermill": {
   "default_parameters": {},
   "duration": null,
   "end_time": null,
   "environment_variables": {},
   "exception": null,
   "input_path": "./train_seq2seq_plm.ipynb",
   "output_path": "./papermill/paust_pko_t5_base_v3_run_1.ipynb",
   "parameters": {},
   "start_time": "2023-04-17T06:49:17.227432",
   "version": "2.4.0"
  }
 },
 "nbformat": 4,
 "nbformat_minor": 5
}