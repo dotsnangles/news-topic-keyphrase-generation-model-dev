{
 "cells": [
  {
   "cell_type": "code",
   "execution_count": 1,
   "metadata": {},
   "outputs": [
    {
     "name": "stderr",
     "output_type": "stream",
     "text": [
      "[nltk_data] Downloading package punkt to /home/jake/nltk_data...\n",
      "[nltk_data]   Package punkt is already up-to-date!\n"
     ]
    },
    {
     "data": {
      "text/plain": [
       "True"
      ]
     },
     "execution_count": 1,
     "metadata": {},
     "output_type": "execute_result"
    }
   ],
   "source": [
    "import os\n",
    "import re\n",
    "import warnings\n",
    "\n",
    "import pandas as pd\n",
    "import numpy as np\n",
    "import torch\n",
    "\n",
    "from transformers import (\n",
    "    AutoConfig, AutoTokenizer, AutoModelForSeq2SeqLM, \n",
    "    Seq2SeqTrainingArguments, Seq2SeqTrainer, \n",
    "    DataCollatorForSeq2Seq, \n",
    ")\n",
    "\n",
    "from datasets import load_metric, Dataset\n",
    "\n",
    "import wandb\n",
    "import nltk\n",
    "\n",
    "os.environ[\"TOKENIZERS_PARALLELISM\"] = \"false\"\n",
    "warnings.filterwarnings('ignore')\n",
    "nltk.download('punkt')"
   ]
  },
  {
   "cell_type": "code",
   "execution_count": 2,
   "metadata": {},
   "outputs": [
    {
     "data": {
      "text/plain": [
       "(1, 16)"
      ]
     },
     "execution_count": 2,
     "metadata": {},
     "output_type": "execute_result"
    }
   ],
   "source": [
    "NGPU = torch.cuda.device_count()\n",
    "NCPU = os.cpu_count()\n",
    "NGPU, NCPU"
   ]
  },
  {
   "cell_type": "markdown",
   "metadata": {},
   "source": [
    "# Paths and Names"
   ]
  },
  {
   "cell_type": "code",
   "execution_count": 3,
   "metadata": {},
   "outputs": [],
   "source": [
    "### paths and names\n",
    "\n",
    "PROJECT_NAME = 'news-topic-keyphrase-generation-model-dev'\n",
    "RUN_ID = 'v1'\n",
    "\n",
    "DATA_PATH = './data/total_2513_samples.pickle'\n",
    "\n",
    "MODEL_CHECKPOINT = 'paust/pko-t5-base'\n",
    "METRIC_NAME = 'rouge'\n",
    "\n",
    "NOTEBOOK_NAME = './train.ipynb'\n",
    "\n",
    "ROOT_PATH = './'\n",
    "SAVE_PATH = os.path.join(ROOT_PATH, '.log')\n",
    "\n",
    "model_name = re.sub(r'[/-]', r'_', MODEL_CHECKPOINT).lower()\n",
    "run_name = f'{model_name}_{RUN_ID}'\n",
    "output_dir = os.path.join(SAVE_PATH, run_name)\n",
    "\n",
    "!mkdir -p {SAVE_PATH}"
   ]
  },
  {
   "cell_type": "code",
   "execution_count": 4,
   "metadata": {},
   "outputs": [
    {
     "name": "stderr",
     "output_type": "stream",
     "text": [
      "\u001b[34m\u001b[1mwandb\u001b[0m: \u001b[33mWARNING\u001b[0m WANDB_NOTEBOOK_NAME should be a path to a notebook file, couldn't find {NOTEBOOK_PATH}.\n"
     ]
    },
    {
     "name": "stdout",
     "output_type": "stream",
     "text": [
      "env: WANDB_PROJECT=news-topic-keyphrase-generation-model-dev\n",
      "env: WANDB_NOTEBOOK_NAME={NOTEBOOK_PATH}\n",
      "env: WANDB_LOG_MODEL=true\n",
      "env: WANDB_WATCH=all\n"
     ]
    },
    {
     "name": "stderr",
     "output_type": "stream",
     "text": [
      "\u001b[34m\u001b[1mwandb\u001b[0m: Currently logged in as: \u001b[33mdotsnangles\u001b[0m. Use \u001b[1m`wandb login --relogin`\u001b[0m to force relogin\n"
     ]
    },
    {
     "data": {
      "text/plain": [
       "True"
      ]
     },
     "execution_count": 4,
     "metadata": {},
     "output_type": "execute_result"
    }
   ],
   "source": [
    "%env WANDB_PROJECT={PROJECT_NAME}\n",
    "%env WANDB_NOTEBOOK_NAME={NOTEBOOK_PATH}\n",
    "%env WANDB_LOG_MODEL=true\n",
    "%env WANDB_WATCH=all\n",
    "wandb.login()"
   ]
  },
  {
   "cell_type": "markdown",
   "metadata": {},
   "source": [
    "# Training Args"
   ]
  },
  {
   "cell_type": "code",
   "execution_count": 5,
   "metadata": {},
   "outputs": [],
   "source": [
    "report_to=\"wandb\"\n",
    "\n",
    "num_train_epochs = 30\n",
    "per_device_train_batch_size = 2\n",
    "per_device_eval_batch_size = 2\n",
    "gradient_accumulation_steps = 1\n",
    "\n",
    "optim = 'adamw_torch' # 'adamw_torch' or 'adamw_hf'\n",
    "\n",
    "learning_rate = 3e-6 * NGPU\n",
    "weight_decay = 0.01\n",
    "adam_epsilon = 1e-8\n",
    "\n",
    "lr_scheduler_type = 'cosine' # 'linear', 'cosine', 'cosine_with_restarts', 'polynomial', 'constant', 'constant_with_warmup'\n",
    "warmup_ratio = 0\n",
    "\n",
    "save_total_limit = 2\n",
    "\n",
    "load_best_model_at_end = True\n",
    "metric_for_best_model = 'eval_loss'\n",
    "\n",
    "save_strategy = \"epoch\"\n",
    "evaluation_strategy = \"epoch\"\n",
    "\n",
    "logging_strategy = \"steps\"\n",
    "logging_first_step = True \n",
    "logging_steps = int(500 / NGPU)\n",
    "\n",
    "predict_with_generate=True\n",
    "generation_max_length=64\n",
    "# generation_num_beams=5\n",
    "\n",
    "fp16 = False"
   ]
  },
  {
   "cell_type": "markdown",
   "metadata": {},
   "source": [
    "# Model & Tokenizer & Metric"
   ]
  },
  {
   "cell_type": "markdown",
   "metadata": {},
   "source": [
    "- 모델과 토크나이저, 그리고 평가지표를 계산하는 데 사용할 함수를 불러옵니다.\n",
    "- 모델의 config에는 사용하지 않는 설정이 포함되어 있습니다. 삭제합니다."
   ]
  },
  {
   "cell_type": "code",
   "execution_count": 6,
   "metadata": {},
   "outputs": [],
   "source": [
    "config = AutoConfig.from_pretrained(MODEL_CHECKPOINT)"
   ]
  },
  {
   "cell_type": "code",
   "execution_count": 7,
   "metadata": {},
   "outputs": [
    {
     "name": "stderr",
     "output_type": "stream",
     "text": [
      "Special tokens have been added in the vocabulary, make sure the associated word embeddings are fine-tuned or trained.\n"
     ]
    }
   ],
   "source": [
    "model = AutoModelForSeq2SeqLM.from_pretrained(MODEL_CHECKPOINT, config=config)\n",
    "tokenizer = AutoTokenizer.from_pretrained(MODEL_CHECKPOINT)\n",
    "metric = load_metric(METRIC_NAME)"
   ]
  },
  {
   "cell_type": "markdown",
   "metadata": {},
   "source": [
    "# Functions"
   ]
  },
  {
   "cell_type": "markdown",
   "metadata": {},
   "source": [
    "- 모델 훈련을 위해 전처리를 수행해주는 함수를 선언합니다.\n",
    "- 입력 문장이 input이 되고 요약문이 label이 됩니다.\n",
    "- tokenizer를 사용해 input_ids로 변환하고 입력값에는 attention_mask를 생성해줍니다.\n",
    "- 입력 문장에 prefix를 추가하여 성능 실험을 해볼 수 있으나 지금은 적용하지 않겠습니다."
   ]
  },
  {
   "cell_type": "code",
   "execution_count": 8,
   "metadata": {},
   "outputs": [],
   "source": [
    "prefix = \"key phrase generation: \"\n",
    "\n",
    "max_input_length = 512\n",
    "max_target_length = 64\n",
    "\n",
    "def preprocess_function(examples):\n",
    "    inputs = [prefix + doc for doc in examples[\"input_text\"]]\n",
    "    model_inputs = tokenizer(inputs, max_length=max_input_length, truncation=True, padding=\"max_length\")\n",
    "\n",
    "    labels = tokenizer(examples[\"target_text\"], max_length=max_target_length, truncation=True, padding=\"max_length\")\n",
    "\n",
    "    model_inputs[\"labels\"] = labels[\"input_ids\"]\n",
    "    return model_inputs"
   ]
  },
  {
   "cell_type": "markdown",
   "metadata": {},
   "source": [
    "- 모델의 예측값과 위에서 전처리한 라벨을 활용하여 평가지표를 출력하는 함수를 선언합니다.\n",
    "- ROUGE를 평가지표로 사용합니다.\n",
    "    - ROUGE-N (N-gram) scoring\n",
    "    - ROUGE-L (Longest Common Subsequence) scoring\n",
    "        - sentence-level: Compute longest common subsequence (LCS) between two pieces of text. Newlines are ignored. This is called rougeL in this package.\n",
    "        - summary-level: Newlines in the text are interpreted as sentence boundaries, and the LCS is computed between each pair of reference and candidate sentences, and something called union-LCS is computed. This is called rougeLsum in this package."
   ]
  },
  {
   "cell_type": "code",
   "execution_count": 9,
   "metadata": {},
   "outputs": [],
   "source": [
    "def compute_metrics(eval_pred):\n",
    "    predictions, labels = eval_pred\n",
    "    decoded_preds = tokenizer.batch_decode(predictions, skip_special_tokens=True)\n",
    "    # Replace -100 in the labels as we can't decode them.\n",
    "    labels = np.where(labels != -100, labels, tokenizer.pad_token_id)\n",
    "    decoded_labels = tokenizer.batch_decode(labels, skip_special_tokens=True)\n",
    "    \n",
    "    # Rouge expects a newline after each sentence\n",
    "    decoded_preds = [\"\\n\".join(nltk.sent_tokenize(pred.strip())) for pred in decoded_preds]\n",
    "    decoded_labels = [\"\\n\".join(nltk.sent_tokenize(label.strip())) for label in decoded_labels]\n",
    "    \n",
    "    result = metric.compute(predictions=decoded_preds, references=decoded_labels, use_stemmer=True)\n",
    "    # Extract a few results\n",
    "    result = {key: value.mid.fmeasure * 100 for key, value in result.items()}\n",
    "    \n",
    "    # Add mean generated length\n",
    "    prediction_lens = [np.count_nonzero(pred != tokenizer.pad_token_id) for pred in predictions]\n",
    "    result[\"gen_len\"] = np.mean(prediction_lens)\n",
    "    \n",
    "    return {k: round(v, 4) for k, v in result.items()}"
   ]
  },
  {
   "cell_type": "markdown",
   "metadata": {},
   "source": [
    "# Inputs and Labels"
   ]
  },
  {
   "cell_type": "markdown",
   "metadata": {},
   "source": [
    "- csv로 저장된 데이터를 불러와 9:1로 훈련과 검증에 사용합니다.\n",
    "- 선언한 전처리 함수를 적용하여 데이터세트를 생성합니다."
   ]
  },
  {
   "cell_type": "code",
   "execution_count": 10,
   "metadata": {},
   "outputs": [],
   "source": [
    "data_df = pd.read_pickle(DATA_PATH)"
   ]
  },
  {
   "cell_type": "code",
   "execution_count": 11,
   "metadata": {},
   "outputs": [
    {
     "data": {
      "text/html": [
       "<div>\n",
       "<style scoped>\n",
       "    .dataframe tbody tr th:only-of-type {\n",
       "        vertical-align: middle;\n",
       "    }\n",
       "\n",
       "    .dataframe tbody tr th {\n",
       "        vertical-align: top;\n",
       "    }\n",
       "\n",
       "    .dataframe thead th {\n",
       "        text-align: right;\n",
       "    }\n",
       "</style>\n",
       "<table border=\"1\" class=\"dataframe\">\n",
       "  <thead>\n",
       "    <tr style=\"text-align: right;\">\n",
       "      <th></th>\n",
       "      <th>input_text</th>\n",
       "      <th>target_text</th>\n",
       "      <th>prefix</th>\n",
       "    </tr>\n",
       "  </thead>\n",
       "  <tbody>\n",
       "    <tr>\n",
       "      <th>0</th>\n",
       "      <td>다음 달부터 15억 초과 주택 대출 허용…ltv 50%도 다음 달부터는 무주택자의 ...</td>\n",
       "      <td>주택담보대출,ltv 규제 완화,dsr</td>\n",
       "      <td>extract keywords:</td>\n",
       "    </tr>\n",
       "    <tr>\n",
       "      <th>1</th>\n",
       "      <td>송혜교x장기용 \"끝까지 사랑일 거야\" ..애절함 폭발 '지헤중', 순간 최고 9% ...</td>\n",
       "      <td>송혜교,장기용,사랑,애절함,지헤중,최고 시청률,민여사,강정자,윤수완,신유정</td>\n",
       "      <td>extract keywords:</td>\n",
       "    </tr>\n",
       "    <tr>\n",
       "      <th>2</th>\n",
       "      <td>1개당 3만원? 자가검사키트 막판 사재기...정부 \"17일 이후 해소\" 사진=온라인...</td>\n",
       "      <td>자가검사키트</td>\n",
       "      <td>extract keywords:</td>\n",
       "    </tr>\n",
       "    <tr>\n",
       "      <th>3</th>\n",
       "      <td>돌싱글즈 유세윤 어릴 적 부모님 이혼사실 몰라.. 父해외 출장 간 줄 [스타뉴스 공...</td>\n",
       "      <td>돌싱글즈,유세윤,부모님 이혼,해외 출장,빈하영,정윤식</td>\n",
       "      <td>extract keywords:</td>\n",
       "    </tr>\n",
       "    <tr>\n",
       "      <th>4</th>\n",
       "      <td>내릴 땐 '찔끔', 올릴 땐 '확'…휘발유 가격, 급속도로 인상</td>\n",
       "      <td>가격 인상,휘발유 가격</td>\n",
       "      <td>extract keywords:</td>\n",
       "    </tr>\n",
       "    <tr>\n",
       "      <th>...</th>\n",
       "      <td>...</td>\n",
       "      <td>...</td>\n",
       "      <td>...</td>\n",
       "    </tr>\n",
       "    <tr>\n",
       "      <th>392</th>\n",
       "      <td>T1 잔류 선택한 '페이커' 이상혁 \"내가 돌아왔다\" '페이커' 이상혁이 T1에 잔...</td>\n",
       "      <td>잔류,이상혁,페이커,T1</td>\n",
       "      <td>extract keywords:</td>\n",
       "    </tr>\n",
       "    <tr>\n",
       "      <th>393</th>\n",
       "      <td>영국 철도노조 30여년 만에 최대규모 파업…기차역 텅 비어 임금인상·구조조정 중단 ...</td>\n",
       "      <td>영국철도노조,최대규모 파업,임금인상,구조조정 중단요구</td>\n",
       "      <td>extract keywords:</td>\n",
       "    </tr>\n",
       "    <tr>\n",
       "      <th>394</th>\n",
       "      <td>‘밥심’ 마리아 “韓 아이돌 데뷔가 꿈→30kg 감량” 매경닷컴 MK스포츠 손진아 ...</td>\n",
       "      <td>밥심,마리아,한국 아이돌,데뷔,감량,30kg,미스트롯2,올 하트,외국인 참가자,SB...</td>\n",
       "      <td>extract keywords:</td>\n",
       "    </tr>\n",
       "    <tr>\n",
       "      <th>395</th>\n",
       "      <td>손연정 '멀리 멀리'  24일 경기도 안산 아일랜드 CC에서 열린 한국여자프로골프 ...</td>\n",
       "      <td>한국여자프로골프,엘크루-TV조선 프로 셀러브리티 2021,손연정</td>\n",
       "      <td>extract keywords:</td>\n",
       "    </tr>\n",
       "    <tr>\n",
       "      <th>396</th>\n",
       "      <td>황의조, 결승골 도움…보르도, 5연패 탈출 김도용 기자 = 프랑스 리그1 FC 지롱...</td>\n",
       "      <td>결승골,황의조,보르도,도움</td>\n",
       "      <td>extract keywords:</td>\n",
       "    </tr>\n",
       "  </tbody>\n",
       "</table>\n",
       "<p>2513 rows × 3 columns</p>\n",
       "</div>"
      ],
      "text/plain": [
       "                                            input_text  \\\n",
       "0    다음 달부터 15억 초과 주택 대출 허용…ltv 50%도 다음 달부터는 무주택자의 ...   \n",
       "1    송혜교x장기용 \"끝까지 사랑일 거야\" ..애절함 폭발 '지헤중', 순간 최고 9% ...   \n",
       "2    1개당 3만원? 자가검사키트 막판 사재기...정부 \"17일 이후 해소\" 사진=온라인...   \n",
       "3    돌싱글즈 유세윤 어릴 적 부모님 이혼사실 몰라.. 父해외 출장 간 줄 [스타뉴스 공...   \n",
       "4                  내릴 땐 '찔끔', 올릴 땐 '확'…휘발유 가격, 급속도로 인상   \n",
       "..                                                 ...   \n",
       "392  T1 잔류 선택한 '페이커' 이상혁 \"내가 돌아왔다\" '페이커' 이상혁이 T1에 잔...   \n",
       "393  영국 철도노조 30여년 만에 최대규모 파업…기차역 텅 비어 임금인상·구조조정 중단 ...   \n",
       "394  ‘밥심’ 마리아 “韓 아이돌 데뷔가 꿈→30kg 감량” 매경닷컴 MK스포츠 손진아 ...   \n",
       "395  손연정 '멀리 멀리'  24일 경기도 안산 아일랜드 CC에서 열린 한국여자프로골프 ...   \n",
       "396  황의조, 결승골 도움…보르도, 5연패 탈출 김도용 기자 = 프랑스 리그1 FC 지롱...   \n",
       "\n",
       "                                           target_text              prefix  \n",
       "0                                 주택담보대출,ltv 규제 완화,dsr  extract keywords:   \n",
       "1            송혜교,장기용,사랑,애절함,지헤중,최고 시청률,민여사,강정자,윤수완,신유정  extract keywords:   \n",
       "2                                               자가검사키트  extract keywords:   \n",
       "3                        돌싱글즈,유세윤,부모님 이혼,해외 출장,빈하영,정윤식  extract keywords:   \n",
       "4                                         가격 인상,휘발유 가격  extract keywords:   \n",
       "..                                                 ...                 ...  \n",
       "392                                      잔류,이상혁,페이커,T1  extract keywords:   \n",
       "393                      영국철도노조,최대규모 파업,임금인상,구조조정 중단요구  extract keywords:   \n",
       "394  밥심,마리아,한국 아이돌,데뷔,감량,30kg,미스트롯2,올 하트,외국인 참가자,SB...  extract keywords:   \n",
       "395                한국여자프로골프,엘크루-TV조선 프로 셀러브리티 2021,손연정  extract keywords:   \n",
       "396                                     결승골,황의조,보르도,도움  extract keywords:   \n",
       "\n",
       "[2513 rows x 3 columns]"
      ]
     },
     "execution_count": 11,
     "metadata": {},
     "output_type": "execute_result"
    }
   ],
   "source": [
    "data_df"
   ]
  },
  {
   "cell_type": "code",
   "execution_count": 12,
   "metadata": {},
   "outputs": [],
   "source": [
    "dataset = Dataset.from_pandas(data_df).shuffle(seed=100).train_test_split(0.2)\n",
    "train_dataset = dataset['train']\n",
    "eval_dataset = dataset['test']"
   ]
  },
  {
   "cell_type": "code",
   "execution_count": 13,
   "metadata": {},
   "outputs": [
    {
     "data": {
      "application/vnd.jupyter.widget-view+json": {
       "model_id": "5a33b39dd7e3424cb5fc61929704ca61",
       "version_major": 2,
       "version_minor": 0
      },
      "text/plain": [
       "Map (num_proc=16):   0%|          | 0/2010 [00:00<?, ? examples/s]"
      ]
     },
     "metadata": {},
     "output_type": "display_data"
    },
    {
     "data": {
      "application/vnd.jupyter.widget-view+json": {
       "model_id": "f02b0d1e58514c258b08bf8aa0d7589e",
       "version_major": 2,
       "version_minor": 0
      },
      "text/plain": [
       "Map (num_proc=16):   0%|          | 0/503 [00:00<?, ? examples/s]"
      ]
     },
     "metadata": {},
     "output_type": "display_data"
    },
    {
     "name": "stdout",
     "output_type": "stream",
     "text": [
      "Dataset({\n",
      "    features: ['input_ids', 'attention_mask', 'labels'],\n",
      "    num_rows: 2010\n",
      "})\n",
      "Dataset({\n",
      "    features: ['input_ids', 'attention_mask', 'labels'],\n",
      "    num_rows: 503\n",
      "})\n"
     ]
    }
   ],
   "source": [
    "train_dataset = train_dataset.map(preprocess_function, \n",
    "                                  batched=True, \n",
    "                                  num_proc=NCPU, \n",
    "                                  remove_columns=train_dataset.column_names)\n",
    "\n",
    "eval_dataset = eval_dataset.map(preprocess_function, \n",
    "                                batched=True, \n",
    "                                num_proc=NCPU, \n",
    "                                remove_columns=eval_dataset.column_names)\n",
    "print(train_dataset)\n",
    "print(eval_dataset)"
   ]
  },
  {
   "cell_type": "code",
   "execution_count": 14,
   "metadata": {},
   "outputs": [
    {
     "data": {
      "text/plain": [
       "'key phrase generation: 임영웅, \\'다시 만날 수 있을까\\'로 엠카 1위...영웅시대 감사합니다 [ten★] [텐아시아=조준원 기자]가수 임영웅이 근황을 전했다. 임영웅은 12일 임영웅의 공식 인스타그램에는 \"아티스트 임영웅 mnet ‘엠카운트다운’ 1위, 영웅시대 여러분, 감사합니다\"라는 글과 함께 두 장의 사진을 게재했다. 공개된 사진 속 mnet \\'엠카운트다운\\'에서 1위를 차지한 뒤 트로피 인증샷을 남기고 있는 임영웅의 모습이 담겨 있다. 한편 임영웅은 2일 정규 1집 \\'im hero\\'(아임 히어로)를 발매했다.</s><pad><pad><pad><pad><pad><pad><pad><pad><pad><pad><pad><pad><pad><pad><pad><pad><pad><pad><pad><pad><pad><pad><pad><pad><pad><pad><pad><pad><pad><pad><pad><pad><pad><pad><pad><pad><pad><pad><pad><pad><pad><pad><pad><pad><pad><pad><pad><pad><pad><pad><pad><pad><pad><pad><pad><pad><pad><pad><pad><pad><pad><pad><pad><pad><pad><pad><pad><pad><pad><pad><pad><pad><pad><pad><pad><pad><pad><pad><pad><pad><pad><pad><pad><pad><pad><pad><pad><pad><pad><pad><pad><pad><pad><pad><pad><pad><pad><pad><pad><pad><pad><pad><pad><pad><pad><pad><pad><pad><pad><pad><pad><pad><pad><pad><pad><pad><pad><pad><pad><pad><pad><pad><pad><pad><pad><pad><pad><pad><pad><pad><pad><pad><pad><pad><pad><pad><pad><pad><pad><pad><pad><pad><pad><pad><pad><pad><pad><pad><pad><pad><pad><pad><pad><pad><pad><pad><pad><pad><pad><pad><pad><pad><pad><pad><pad><pad><pad><pad><pad><pad><pad><pad><pad><pad><pad><pad><pad><pad><pad><pad><pad><pad><pad><pad><pad><pad><pad><pad><pad><pad><pad><pad><pad><pad><pad><pad><pad><pad><pad><pad><pad><pad><pad><pad><pad><pad><pad><pad><pad><pad><pad><pad><pad><pad><pad><pad><pad><pad><pad><pad><pad><pad><pad><pad><pad><pad><pad><pad><pad><pad><pad><pad><pad><pad><pad><pad><pad><pad><pad><pad><pad><pad><pad><pad><pad><pad><pad><pad><pad><pad><pad><pad><pad><pad><pad><pad><pad><pad><pad><pad><pad><pad><pad><pad><pad><pad><pad><pad><pad><pad><pad><pad><pad><pad><pad><pad><pad><pad><pad><pad><pad><pad><pad><pad><pad><pad><pad><pad><pad><pad><pad><pad><pad><pad><pad><pad><pad><pad>'"
      ]
     },
     "execution_count": 14,
     "metadata": {},
     "output_type": "execute_result"
    }
   ],
   "source": [
    "tokenizer.decode(train_dataset['input_ids'][0])"
   ]
  },
  {
   "cell_type": "code",
   "execution_count": 15,
   "metadata": {},
   "outputs": [
    {
     "data": {
      "text/plain": [
       "'임영웅,엠카운트다운,영웅시대,아임 히어로 발매</s><pad><pad><pad><pad><pad><pad><pad><pad><pad><pad><pad><pad><pad><pad><pad><pad><pad><pad><pad><pad><pad><pad><pad><pad><pad><pad><pad><pad><pad><pad><pad><pad><pad><pad><pad><pad><pad><pad><pad><pad><pad><pad><pad><pad><pad><pad><pad><pad><pad>'"
      ]
     },
     "execution_count": 15,
     "metadata": {},
     "output_type": "execute_result"
    }
   ],
   "source": [
    "tokenizer.decode(train_dataset['labels'][0])"
   ]
  },
  {
   "cell_type": "markdown",
   "metadata": {},
   "source": [
    "# Train"
   ]
  },
  {
   "cell_type": "markdown",
   "metadata": {},
   "source": [
    "- 상단에서 선언한 HP와 각종 변수들로 training_args를 생성합니다."
   ]
  },
  {
   "cell_type": "code",
   "execution_count": 16,
   "metadata": {},
   "outputs": [],
   "source": [
    "training_args = Seq2SeqTrainingArguments(\n",
    "    output_dir=output_dir,\n",
    "    run_name=run_name,\n",
    "    report_to=report_to,\n",
    "\n",
    "    num_train_epochs=num_train_epochs,\n",
    "    per_device_train_batch_size=per_device_train_batch_size,\n",
    "    per_device_eval_batch_size=per_device_eval_batch_size,\n",
    "    gradient_accumulation_steps=gradient_accumulation_steps,\n",
    "\n",
    "    optim=optim,\n",
    "\n",
    "    learning_rate=learning_rate,\n",
    "    weight_decay=weight_decay,\n",
    "    adam_epsilon=adam_epsilon,\n",
    "\n",
    "    lr_scheduler_type=lr_scheduler_type,\n",
    "    warmup_ratio=warmup_ratio,\n",
    "\n",
    "    save_total_limit=save_total_limit,\n",
    "\n",
    "    load_best_model_at_end=load_best_model_at_end,\n",
    "    metric_for_best_model=metric_for_best_model,\n",
    "\n",
    "    save_strategy=save_strategy,\n",
    "    evaluation_strategy=evaluation_strategy,\n",
    "\n",
    "    logging_strategy=logging_strategy,\n",
    "    logging_first_step=logging_first_step, \n",
    "    logging_steps=logging_steps,\n",
    "\n",
    "    predict_with_generate=predict_with_generate,\n",
    "    generation_max_length=generation_max_length,\n",
    "    # generation_num_beams=generation_num_beams,\n",
    "\n",
    "    fp16=fp16,\n",
    ")"
   ]
  },
  {
   "cell_type": "markdown",
   "metadata": {},
   "source": [
    "- 배치 단위로 padding처리를 하여 훈련 속도를 높히기 위해 data_collator를 선언합니다.\n",
    "- 생성한 객체들을 trainer에 포함시켜 훈련 준비를 마칩니다."
   ]
  },
  {
   "cell_type": "code",
   "execution_count": 17,
   "metadata": {},
   "outputs": [],
   "source": [
    "data_collator = DataCollatorForSeq2Seq(tokenizer=tokenizer, model=model, padding=True)\n",
    "\n",
    "trainer = Seq2SeqTrainer(\n",
    "    model=model,\n",
    "    \n",
    "    args=training_args,\n",
    "    \n",
    "    train_dataset=train_dataset,\n",
    "    eval_dataset=eval_dataset,\n",
    "    \n",
    "    tokenizer=tokenizer,\n",
    "    data_collator=data_collator,\n",
    "    \n",
    "    compute_metrics=compute_metrics,\n",
    ")"
   ]
  },
  {
   "cell_type": "markdown",
   "metadata": {},
   "source": [
    "- 훈련을 시작합니다."
   ]
  },
  {
   "cell_type": "code",
   "execution_count": 18,
   "metadata": {},
   "outputs": [
    {
     "data": {
      "text/html": [
       "wandb version 0.14.2 is available!  To upgrade, please run:\n",
       " $ pip install wandb --upgrade"
      ],
      "text/plain": [
       "<IPython.core.display.HTML object>"
      ]
     },
     "metadata": {},
     "output_type": "display_data"
    },
    {
     "data": {
      "text/html": [
       "Tracking run with wandb version 0.13.11"
      ],
      "text/plain": [
       "<IPython.core.display.HTML object>"
      ]
     },
     "metadata": {},
     "output_type": "display_data"
    },
    {
     "data": {
      "text/html": [
       "Run data is saved locally in <code>/home/jake/codes/news-topic-keyphrase-generation-model-dev/wandb/run-20230410_115943-fwbz4oqt</code>"
      ],
      "text/plain": [
       "<IPython.core.display.HTML object>"
      ]
     },
     "metadata": {},
     "output_type": "display_data"
    },
    {
     "data": {
      "text/html": [
       "Syncing run <strong><a href='https://wandb.ai/dotsnangles/news-topic-keyphrase-generation-model-dev/runs/fwbz4oqt' target=\"_blank\">paust_pko_t5_base_v1</a></strong> to <a href='https://wandb.ai/dotsnangles/news-topic-keyphrase-generation-model-dev' target=\"_blank\">Weights & Biases</a> (<a href='https://wandb.me/run' target=\"_blank\">docs</a>)<br/>"
      ],
      "text/plain": [
       "<IPython.core.display.HTML object>"
      ]
     },
     "metadata": {},
     "output_type": "display_data"
    },
    {
     "data": {
      "text/html": [
       " View project at <a href='https://wandb.ai/dotsnangles/news-topic-keyphrase-generation-model-dev' target=\"_blank\">https://wandb.ai/dotsnangles/news-topic-keyphrase-generation-model-dev</a>"
      ],
      "text/plain": [
       "<IPython.core.display.HTML object>"
      ]
     },
     "metadata": {},
     "output_type": "display_data"
    },
    {
     "data": {
      "text/html": [
       " View run at <a href='https://wandb.ai/dotsnangles/news-topic-keyphrase-generation-model-dev/runs/fwbz4oqt' target=\"_blank\">https://wandb.ai/dotsnangles/news-topic-keyphrase-generation-model-dev/runs/fwbz4oqt</a>"
      ],
      "text/plain": [
       "<IPython.core.display.HTML object>"
      ]
     },
     "metadata": {},
     "output_type": "display_data"
    },
    {
     "name": "stderr",
     "output_type": "stream",
     "text": [
      "You're using a T5TokenizerFast tokenizer. Please note that with a fast tokenizer, using the `__call__` method is faster than using a method to encode the text followed by a call to the `pad` method to get a padded encoding.\n"
     ]
    },
    {
     "data": {
      "text/html": [
       "\n",
       "    <div>\n",
       "      \n",
       "      <progress value='24121' max='30150' style='width:300px; height:20px; vertical-align: middle;'></progress>\n",
       "      [24121/30150 3:58:44 < 59:40, 1.68 it/s, Epoch 24/30]\n",
       "    </div>\n",
       "    <table border=\"1\" class=\"dataframe\">\n",
       "  <thead>\n",
       " <tr style=\"text-align: left;\">\n",
       "      <th>Epoch</th>\n",
       "      <th>Training Loss</th>\n",
       "      <th>Validation Loss</th>\n",
       "      <th>Rouge1</th>\n",
       "      <th>Rouge2</th>\n",
       "      <th>Rougel</th>\n",
       "      <th>Rougelsum</th>\n",
       "      <th>Gen Len</th>\n",
       "    </tr>\n",
       "  </thead>\n",
       "  <tbody>\n",
       "    <tr>\n",
       "      <td>1</td>\n",
       "      <td>4.231000</td>\n",
       "      <td>1.594958</td>\n",
       "      <td>9.254600</td>\n",
       "      <td>1.445900</td>\n",
       "      <td>9.075700</td>\n",
       "      <td>9.119800</td>\n",
       "      <td>54.954300</td>\n",
       "    </tr>\n",
       "    <tr>\n",
       "      <td>2</td>\n",
       "      <td>0.813600</td>\n",
       "      <td>0.557981</td>\n",
       "      <td>15.793800</td>\n",
       "      <td>2.696400</td>\n",
       "      <td>15.354300</td>\n",
       "      <td>15.430300</td>\n",
       "      <td>31.111300</td>\n",
       "    </tr>\n",
       "    <tr>\n",
       "      <td>3</td>\n",
       "      <td>0.632800</td>\n",
       "      <td>0.486895</td>\n",
       "      <td>17.914000</td>\n",
       "      <td>3.757100</td>\n",
       "      <td>17.416400</td>\n",
       "      <td>17.478400</td>\n",
       "      <td>32.566600</td>\n",
       "    </tr>\n",
       "    <tr>\n",
       "      <td>4</td>\n",
       "      <td>0.577300</td>\n",
       "      <td>0.466830</td>\n",
       "      <td>18.716100</td>\n",
       "      <td>3.943600</td>\n",
       "      <td>18.255200</td>\n",
       "      <td>18.255800</td>\n",
       "      <td>31.188900</td>\n",
       "    </tr>\n",
       "    <tr>\n",
       "      <td>5</td>\n",
       "      <td>0.516700</td>\n",
       "      <td>0.453396</td>\n",
       "      <td>17.434200</td>\n",
       "      <td>3.406100</td>\n",
       "      <td>16.872000</td>\n",
       "      <td>16.834700</td>\n",
       "      <td>31.334000</td>\n",
       "    </tr>\n",
       "    <tr>\n",
       "      <td>6</td>\n",
       "      <td>0.524500</td>\n",
       "      <td>0.443857</td>\n",
       "      <td>19.319400</td>\n",
       "      <td>4.046600</td>\n",
       "      <td>18.817600</td>\n",
       "      <td>18.768200</td>\n",
       "      <td>30.198800</td>\n",
       "    </tr>\n",
       "    <tr>\n",
       "      <td>7</td>\n",
       "      <td>0.493700</td>\n",
       "      <td>0.436659</td>\n",
       "      <td>19.514000</td>\n",
       "      <td>3.820100</td>\n",
       "      <td>19.010000</td>\n",
       "      <td>19.020400</td>\n",
       "      <td>28.180900</td>\n",
       "    </tr>\n",
       "    <tr>\n",
       "      <td>8</td>\n",
       "      <td>0.488100</td>\n",
       "      <td>0.434352</td>\n",
       "      <td>19.947800</td>\n",
       "      <td>3.819600</td>\n",
       "      <td>19.396800</td>\n",
       "      <td>19.427000</td>\n",
       "      <td>29.270400</td>\n",
       "    </tr>\n",
       "    <tr>\n",
       "      <td>9</td>\n",
       "      <td>0.479400</td>\n",
       "      <td>0.432945</td>\n",
       "      <td>20.289800</td>\n",
       "      <td>4.242100</td>\n",
       "      <td>19.935500</td>\n",
       "      <td>19.955200</td>\n",
       "      <td>28.612300</td>\n",
       "    </tr>\n",
       "    <tr>\n",
       "      <td>10</td>\n",
       "      <td>0.467900</td>\n",
       "      <td>0.428887</td>\n",
       "      <td>20.183600</td>\n",
       "      <td>3.611800</td>\n",
       "      <td>19.598500</td>\n",
       "      <td>19.641300</td>\n",
       "      <td>26.697800</td>\n",
       "    </tr>\n",
       "    <tr>\n",
       "      <td>11</td>\n",
       "      <td>0.453200</td>\n",
       "      <td>0.425967</td>\n",
       "      <td>20.733400</td>\n",
       "      <td>4.720000</td>\n",
       "      <td>20.206200</td>\n",
       "      <td>20.167600</td>\n",
       "      <td>28.310100</td>\n",
       "    </tr>\n",
       "    <tr>\n",
       "      <td>12</td>\n",
       "      <td>0.439600</td>\n",
       "      <td>0.423249</td>\n",
       "      <td>20.627900</td>\n",
       "      <td>4.302400</td>\n",
       "      <td>19.987800</td>\n",
       "      <td>20.085800</td>\n",
       "      <td>27.101400</td>\n",
       "    </tr>\n",
       "    <tr>\n",
       "      <td>13</td>\n",
       "      <td>0.434200</td>\n",
       "      <td>0.422333</td>\n",
       "      <td>21.501300</td>\n",
       "      <td>4.220400</td>\n",
       "      <td>20.916300</td>\n",
       "      <td>21.017900</td>\n",
       "      <td>31.097400</td>\n",
       "    </tr>\n",
       "    <tr>\n",
       "      <td>14</td>\n",
       "      <td>0.413900</td>\n",
       "      <td>0.423535</td>\n",
       "      <td>20.748500</td>\n",
       "      <td>4.068300</td>\n",
       "      <td>20.235900</td>\n",
       "      <td>20.264300</td>\n",
       "      <td>25.065600</td>\n",
       "    </tr>\n",
       "    <tr>\n",
       "      <td>15</td>\n",
       "      <td>0.421500</td>\n",
       "      <td>0.422970</td>\n",
       "      <td>21.174600</td>\n",
       "      <td>4.617400</td>\n",
       "      <td>20.709200</td>\n",
       "      <td>20.795600</td>\n",
       "      <td>26.075500</td>\n",
       "    </tr>\n",
       "    <tr>\n",
       "      <td>16</td>\n",
       "      <td>0.424400</td>\n",
       "      <td>0.421741</td>\n",
       "      <td>20.880700</td>\n",
       "      <td>4.532900</td>\n",
       "      <td>20.347900</td>\n",
       "      <td>20.415500</td>\n",
       "      <td>26.831000</td>\n",
       "    </tr>\n",
       "    <tr>\n",
       "      <td>17</td>\n",
       "      <td>0.410200</td>\n",
       "      <td>0.421010</td>\n",
       "      <td>20.599600</td>\n",
       "      <td>4.179300</td>\n",
       "      <td>20.220900</td>\n",
       "      <td>20.266400</td>\n",
       "      <td>28.463200</td>\n",
       "    </tr>\n",
       "    <tr>\n",
       "      <td>18</td>\n",
       "      <td>0.415900</td>\n",
       "      <td>0.420525</td>\n",
       "      <td>20.878900</td>\n",
       "      <td>4.768200</td>\n",
       "      <td>20.398800</td>\n",
       "      <td>20.455900</td>\n",
       "      <td>27.002000</td>\n",
       "    </tr>\n",
       "    <tr>\n",
       "      <td>19</td>\n",
       "      <td>0.419600</td>\n",
       "      <td>0.420760</td>\n",
       "      <td>21.125900</td>\n",
       "      <td>4.641000</td>\n",
       "      <td>20.649100</td>\n",
       "      <td>20.701500</td>\n",
       "      <td>28.139200</td>\n",
       "    </tr>\n",
       "    <tr>\n",
       "      <td>20</td>\n",
       "      <td>0.408900</td>\n",
       "      <td>0.422460</td>\n",
       "      <td>20.749500</td>\n",
       "      <td>4.651200</td>\n",
       "      <td>20.359600</td>\n",
       "      <td>20.367500</td>\n",
       "      <td>27.675900</td>\n",
       "    </tr>\n",
       "    <tr>\n",
       "      <td>21</td>\n",
       "      <td>0.397500</td>\n",
       "      <td>0.422117</td>\n",
       "      <td>20.798500</td>\n",
       "      <td>4.701700</td>\n",
       "      <td>20.399500</td>\n",
       "      <td>20.440000</td>\n",
       "      <td>27.550700</td>\n",
       "    </tr>\n",
       "    <tr>\n",
       "      <td>22</td>\n",
       "      <td>0.397500</td>\n",
       "      <td>0.421519</td>\n",
       "      <td>20.619800</td>\n",
       "      <td>4.788200</td>\n",
       "      <td>20.116900</td>\n",
       "      <td>20.134000</td>\n",
       "      <td>26.725600</td>\n",
       "    </tr>\n",
       "    <tr>\n",
       "      <td>23</td>\n",
       "      <td>0.395200</td>\n",
       "      <td>0.420716</td>\n",
       "      <td>21.181800</td>\n",
       "      <td>4.551700</td>\n",
       "      <td>20.620200</td>\n",
       "      <td>20.623300</td>\n",
       "      <td>27.884700</td>\n",
       "    </tr>\n",
       "  </tbody>\n",
       "</table><p>\n",
       "    <div>\n",
       "      \n",
       "      <progress value='74' max='252' style='width:300px; height:20px; vertical-align: middle;'></progress>\n",
       "      [ 74/252 01:11 < 02:55, 1.02 it/s]\n",
       "    </div>\n",
       "    "
      ],
      "text/plain": [
       "<IPython.core.display.HTML object>"
      ]
     },
     "metadata": {},
     "output_type": "display_data"
    }
   ],
   "source": [
    "trainer.train()"
   ]
  },
  {
   "cell_type": "markdown",
   "metadata": {},
   "source": [
    "- 옵티마이저 스테이트를 포함한 훈련 재개에 사용할 파일들을 삭제해줍니다.\n",
    "- 추후 불러올 모델과 토크나이저 관련 파일만 남겨둡니다."
   ]
  },
  {
   "cell_type": "code",
   "execution_count": null,
   "metadata": {},
   "outputs": [],
   "source": [
    "# keep = [\n",
    "#     'added_tokens.json',\n",
    "#     'config.json',\n",
    "#     'pytorch_model.bin',\n",
    "#     'special_tokens_map.json',\n",
    "#     'tokenizer.json',\n",
    "#     'tokenizer_config.json',\n",
    "#     'vocab.txt'\n",
    "# ]\n",
    "\n",
    "# ckpts = os.listdir(output_dir)\n",
    "# for ckpt in ckpts:\n",
    "#     ckpt = os.path.join(output_dir, ckpt)\n",
    "#     for item in os.listdir(ckpt):\n",
    "#         if item not in keep:\n",
    "#             os.remove(os.path.join(ckpt, item))"
   ]
  },
  {
   "cell_type": "markdown",
   "metadata": {},
   "source": [
    "# Generate"
   ]
  },
  {
   "cell_type": "markdown",
   "metadata": {},
   "source": [
    "- 훈련을 마치면 Evaluation Loss 기준 Best 모델이 로드되어 있습니다.\n",
    "- trainer는 Greedy Search를 수행하도록 설정되어 있습니다.\n",
    "- Evaluation 데이터를 활용해 모델의 출력을 간단히 살펴봅니다."
   ]
  },
  {
   "cell_type": "code",
   "execution_count": null,
   "metadata": {},
   "outputs": [],
   "source": [
    "preds = trainer.predict(eval_dataset)"
   ]
  },
  {
   "cell_type": "code",
   "execution_count": null,
   "metadata": {},
   "outputs": [],
   "source": [
    "for data, pred in zip(eval_dataset, preds.predictions):\n",
    "    context = tokenizer.decode(data['input_ids'], skip_special_tokens=True)\n",
    "    summary = tokenizer.decode(data['labels'], skip_special_tokens=True)\n",
    "    pred = tokenizer.decode(pred[2:], skip_special_tokens=True)\n",
    "    # print(f'입력: {context}')\n",
    "    print(f'정답: {summary}')\n",
    "    print(f'예측: {pred}', end='\\n\\n')"
   ]
  }
 ],
 "metadata": {
  "kernelspec": {
   "display_name": ".venv",
   "language": "python",
   "name": "python3"
  },
  "language_info": {
   "codemirror_mode": {
    "name": "ipython",
    "version": 3
   },
   "file_extension": ".py",
   "mimetype": "text/x-python",
   "name": "python",
   "nbconvert_exporter": "python",
   "pygments_lexer": "ipython3",
   "version": "3.9.16"
  },
  "orig_nbformat": 4
 },
 "nbformat": 4,
 "nbformat_minor": 2
}
